{
 "cells": [
  {
   "cell_type": "markdown",
   "metadata": {},
   "source": [
    "## 04b LSK bycluster differential analysis MAST full\n",
    "\n",
    "Celltype:\n",
    "\n",
    "**LSK - by cluster**\n",
    "\n",
    "\n",
    "Run this model:\n",
    "\n",
    "`zlmCond_all <- zlm(formula = ~condition + Female + n_genes, sca=sca)`\n",
    "\n",
    "Comparisons:\n",
    "\n",
    "all cells\n",
    "- male vs female in all cells controlling for chemical treatment etc\n",
    "- chemical treatments controlling for sex and n_genes\n",
    "\n",
    "each cluster\n",
    "- male vs female in all cells controlling for chemical treatment etc\n",
    "- chemical treatments controlling for sex and n_genes\n",
    "\n",
    "\n",
    "done with this docker image:\n",
    "\n",
    "docker run --rm -d --name test_eva -p 8883:8888 -e JUPYTER_ENABLE_LAB=YES -v /Users/efast/Documents/:/home/jovyan/work r_scanpy:vs4\n"
   ]
  },
  {
   "cell_type": "code",
   "execution_count": 1,
   "metadata": {},
   "outputs": [
    {
     "name": "stdin",
     "output_type": "stream",
     "text": [
      "Once deleted, variables cannot be recovered. Proceed (y/[n])?  y\n"
     ]
    }
   ],
   "source": [
    "%reset"
   ]
  },
  {
   "cell_type": "code",
   "execution_count": 2,
   "metadata": {},
   "outputs": [],
   "source": [
    "import scanpy as sc\n",
    "import numpy as np\n",
    "import scipy as sp\n",
    "import pandas as pd\n",
    "import matplotlib.pyplot as plt\n",
    "from matplotlib import rcParams\n",
    "from matplotlib import colors\n",
    "import seaborn as sb\n",
    "from gprofiler import GProfiler\n",
    "\n",
    "import rpy2.rinterface_lib.callbacks\n",
    "import logging\n",
    "\n",
    "from rpy2.robjects import pandas2ri\n",
    "import anndata2ri"
   ]
  },
  {
   "cell_type": "code",
   "execution_count": 3,
   "metadata": {},
   "outputs": [
    {
     "name": "stdout",
     "output_type": "stream",
     "text": [
      "scanpy==1.4.5.1 anndata==0.7.1 umap==0.3.10 numpy==1.17.3 scipy==1.3.0 pandas==0.25.3 scikit-learn==0.22.2.post1 statsmodels==0.10.0 python-igraph==0.7.1 louvain==0.6.1\n"
     ]
    }
   ],
   "source": [
    "# Ignore R warning messages\n",
    "#Note: this can be commented out to get more verbose R output\n",
    "rpy2.rinterface_lib.callbacks.logger.setLevel(logging.ERROR)\n",
    "\n",
    "# Automatically convert rpy2 outputs to pandas dataframes\n",
    "pandas2ri.activate()\n",
    "anndata2ri.activate()\n",
    "%load_ext rpy2.ipython\n",
    "\n",
    "plt.rcParams['figure.figsize']=(8,8) #rescale figures\n",
    "sc.settings.verbosity = 3\n",
    "#sc.set_figure_params(dpi=200, dpi_save=300)\n",
    "sc.logging.print_versions()"
   ]
  },
  {
   "cell_type": "code",
   "execution_count": 4,
   "metadata": {},
   "outputs": [],
   "source": [
    "%%R\n",
    "# Load libraries from correct lib Paths for my environment - ignore this!\n",
    ".libPaths(.libPaths()[c(3,2,1)])\n",
    "\n",
    "# Load all the R libraries we will be using in the notebook\n",
    "library(scran)\n",
    "library(ggplot2)\n",
    "library(plyr)\n",
    "library(MAST)"
   ]
  },
  {
   "cell_type": "code",
   "execution_count": 5,
   "metadata": {},
   "outputs": [],
   "source": [
    "# load data\n",
    "\n",
    "adata = sc.read('./sc_objects/MPP_preprocessed.h5ad', cache = True)"
   ]
  },
  {
   "cell_type": "code",
   "execution_count": 6,
   "metadata": {},
   "outputs": [],
   "source": [
    "#Create new Anndata object for use in MAST with non-batch corrected data as before\n",
    "adata_raw = adata.copy()\n",
    "adata_raw.X = adata.raw.X\n",
    "adata_raw.obs['n_genes'] = (adata_raw.X > 0).sum(1) # recompute number of genes expressed per cell\n",
    "adata = None"
   ]
  },
  {
   "cell_type": "code",
   "execution_count": 7,
   "metadata": {},
   "outputs": [
    {
     "data": {
      "text/html": [
       "<div>\n",
       "<style scoped>\n",
       "    .dataframe tbody tr th:only-of-type {\n",
       "        vertical-align: middle;\n",
       "    }\n",
       "\n",
       "    .dataframe tbody tr th {\n",
       "        vertical-align: top;\n",
       "    }\n",
       "\n",
       "    .dataframe thead th {\n",
       "        text-align: right;\n",
       "    }\n",
       "</style>\n",
       "<table border=\"1\" class=\"dataframe\">\n",
       "  <thead>\n",
       "    <tr style=\"text-align: right;\">\n",
       "      <th></th>\n",
       "      <th>assignment</th>\n",
       "      <th>batch</th>\n",
       "      <th>counts</th>\n",
       "      <th>demux_type</th>\n",
       "      <th>hto_type</th>\n",
       "      <th>rna_type</th>\n",
       "      <th>sample</th>\n",
       "      <th>select_cells</th>\n",
       "      <th>n_counts</th>\n",
       "      <th>log_counts</th>\n",
       "      <th>n_genes</th>\n",
       "      <th>percent_mito</th>\n",
       "      <th>Female</th>\n",
       "      <th>Female_cat</th>\n",
       "      <th>Female_str</th>\n",
       "      <th>sex_sample</th>\n",
       "      <th>rXist</th>\n",
       "      <th>leiden</th>\n",
       "      <th>umap_density_sample</th>\n",
       "      <th>umap_density_assignment</th>\n",
       "    </tr>\n",
       "  </thead>\n",
       "  <tbody>\n",
       "    <tr>\n",
       "      <th>AAACGAAGTTGGACCC-0</th>\n",
       "      <td>MPP3/4</td>\n",
       "      <td>batch1</td>\n",
       "      <td>902.0</td>\n",
       "      <td>singlet</td>\n",
       "      <td>background</td>\n",
       "      <td>signal</td>\n",
       "      <td>ct</td>\n",
       "      <td>1.0</td>\n",
       "      <td>13508.0</td>\n",
       "      <td>9.511259</td>\n",
       "      <td>3988</td>\n",
       "      <td>0.057805</td>\n",
       "      <td>True</td>\n",
       "      <td>True</td>\n",
       "      <td>true</td>\n",
       "      <td>ct_true</td>\n",
       "      <td>3.158928</td>\n",
       "      <td>1</td>\n",
       "      <td>0.637315</td>\n",
       "      <td>0.847134</td>\n",
       "    </tr>\n",
       "    <tr>\n",
       "      <th>AAAGGATCACGCTGAC-0</th>\n",
       "      <td>MPP</td>\n",
       "      <td>batch1</td>\n",
       "      <td>869.0</td>\n",
       "      <td>singlet</td>\n",
       "      <td>background</td>\n",
       "      <td>signal</td>\n",
       "      <td>ct</td>\n",
       "      <td>1.0</td>\n",
       "      <td>18172.0</td>\n",
       "      <td>9.807637</td>\n",
       "      <td>4622</td>\n",
       "      <td>0.049802</td>\n",
       "      <td>True</td>\n",
       "      <td>True</td>\n",
       "      <td>true</td>\n",
       "      <td>ct_true</td>\n",
       "      <td>3.078445</td>\n",
       "      <td>0</td>\n",
       "      <td>0.783623</td>\n",
       "      <td>0.335968</td>\n",
       "    </tr>\n",
       "    <tr>\n",
       "      <th>AAAGGATGTAGTCTGT-0</th>\n",
       "      <td>MPP3/4</td>\n",
       "      <td>batch1</td>\n",
       "      <td>694.0</td>\n",
       "      <td>singlet</td>\n",
       "      <td>background</td>\n",
       "      <td>signal</td>\n",
       "      <td>ct</td>\n",
       "      <td>1.0</td>\n",
       "      <td>8688.0</td>\n",
       "      <td>9.070044</td>\n",
       "      <td>3151</td>\n",
       "      <td>0.059602</td>\n",
       "      <td>True</td>\n",
       "      <td>True</td>\n",
       "      <td>true</td>\n",
       "      <td>ct_true</td>\n",
       "      <td>3.206680</td>\n",
       "      <td>0</td>\n",
       "      <td>0.866588</td>\n",
       "      <td>0.514442</td>\n",
       "    </tr>\n",
       "    <tr>\n",
       "      <th>AAAGGGCAGCAGCGAT-0</th>\n",
       "      <td>MPP</td>\n",
       "      <td>batch1</td>\n",
       "      <td>848.0</td>\n",
       "      <td>singlet</td>\n",
       "      <td>background</td>\n",
       "      <td>signal</td>\n",
       "      <td>ct</td>\n",
       "      <td>1.0</td>\n",
       "      <td>8510.0</td>\n",
       "      <td>9.049468</td>\n",
       "      <td>2986</td>\n",
       "      <td>0.056965</td>\n",
       "      <td>False</td>\n",
       "      <td>False</td>\n",
       "      <td>false</td>\n",
       "      <td>ct_false</td>\n",
       "      <td>-0.049406</td>\n",
       "      <td>0</td>\n",
       "      <td>0.675819</td>\n",
       "      <td>0.257006</td>\n",
       "    </tr>\n",
       "    <tr>\n",
       "      <th>AAAGGTATCTTCGACC-0</th>\n",
       "      <td>MPP3/4</td>\n",
       "      <td>batch1</td>\n",
       "      <td>3446.0</td>\n",
       "      <td>singlet</td>\n",
       "      <td>signal</td>\n",
       "      <td>signal</td>\n",
       "      <td>ct</td>\n",
       "      <td>1.0</td>\n",
       "      <td>15875.0</td>\n",
       "      <td>9.672815</td>\n",
       "      <td>4297</td>\n",
       "      <td>0.046851</td>\n",
       "      <td>True</td>\n",
       "      <td>True</td>\n",
       "      <td>true</td>\n",
       "      <td>ct_true</td>\n",
       "      <td>2.978796</td>\n",
       "      <td>3</td>\n",
       "      <td>0.668953</td>\n",
       "      <td>0.709803</td>\n",
       "    </tr>\n",
       "  </tbody>\n",
       "</table>\n",
       "</div>"
      ],
      "text/plain": [
       "                   assignment   batch  counts demux_type    hto_type rna_type  \\\n",
       "AAACGAAGTTGGACCC-0     MPP3/4  batch1   902.0    singlet  background   signal   \n",
       "AAAGGATCACGCTGAC-0        MPP  batch1   869.0    singlet  background   signal   \n",
       "AAAGGATGTAGTCTGT-0     MPP3/4  batch1   694.0    singlet  background   signal   \n",
       "AAAGGGCAGCAGCGAT-0        MPP  batch1   848.0    singlet  background   signal   \n",
       "AAAGGTATCTTCGACC-0     MPP3/4  batch1  3446.0    singlet      signal   signal   \n",
       "\n",
       "                   sample  select_cells  n_counts  log_counts  n_genes  \\\n",
       "AAACGAAGTTGGACCC-0     ct           1.0   13508.0    9.511259     3988   \n",
       "AAAGGATCACGCTGAC-0     ct           1.0   18172.0    9.807637     4622   \n",
       "AAAGGATGTAGTCTGT-0     ct           1.0    8688.0    9.070044     3151   \n",
       "AAAGGGCAGCAGCGAT-0     ct           1.0    8510.0    9.049468     2986   \n",
       "AAAGGTATCTTCGACC-0     ct           1.0   15875.0    9.672815     4297   \n",
       "\n",
       "                    percent_mito  Female Female_cat Female_str sex_sample  \\\n",
       "AAACGAAGTTGGACCC-0      0.057805    True       True       true    ct_true   \n",
       "AAAGGATCACGCTGAC-0      0.049802    True       True       true    ct_true   \n",
       "AAAGGATGTAGTCTGT-0      0.059602    True       True       true    ct_true   \n",
       "AAAGGGCAGCAGCGAT-0      0.056965   False      False      false   ct_false   \n",
       "AAAGGTATCTTCGACC-0      0.046851    True       True       true    ct_true   \n",
       "\n",
       "                       rXist leiden  umap_density_sample  \\\n",
       "AAACGAAGTTGGACCC-0  3.158928      1             0.637315   \n",
       "AAAGGATCACGCTGAC-0  3.078445      0             0.783623   \n",
       "AAAGGATGTAGTCTGT-0  3.206680      0             0.866588   \n",
       "AAAGGGCAGCAGCGAT-0 -0.049406      0             0.675819   \n",
       "AAAGGTATCTTCGACC-0  2.978796      3             0.668953   \n",
       "\n",
       "                    umap_density_assignment  \n",
       "AAACGAAGTTGGACCC-0                 0.847134  \n",
       "AAAGGATCACGCTGAC-0                 0.335968  \n",
       "AAAGGATGTAGTCTGT-0                 0.514442  \n",
       "AAAGGGCAGCAGCGAT-0                 0.257006  \n",
       "AAAGGTATCTTCGACC-0                 0.709803  "
      ]
     },
     "execution_count": 7,
     "metadata": {},
     "output_type": "execute_result"
    }
   ],
   "source": [
    "adata_raw.obs.head()"
   ]
  },
  {
   "cell_type": "markdown",
   "metadata": {},
   "source": [
    "### Run MAST on total female cells - Select genes expressed in >5% of cells (no adaptive thresholding)"
   ]
  },
  {
   "cell_type": "code",
   "execution_count": 8,
   "metadata": {},
   "outputs": [
    {
     "name": "stdout",
     "output_type": "stream",
     "text": [
      "[1] \"Dimensions before subsetting:\"\n",
      "[1] 9988 1724\n",
      "[1] 9988 1715\n",
      "[1] 9988 1431\n",
      "[1] 9988 1219\n",
      "[1] 9988 1096\n",
      "[1] 9988  733\n",
      "[1] 9988  198\n",
      "[1] 9988   75\n",
      "[1] \"\"\n",
      "[1] \"Dimensions after subsetting:\"\n",
      "[1] 9987 1724\n",
      "[1] 9988 1715\n",
      "[1] 9988 1431\n",
      "[1] 9988 1219\n",
      "[1] 9988 1096\n",
      "[1] 9987  733\n",
      "[1] 9986 1096\n",
      "[1] 9940  733\n"
     ]
    }
   ],
   "source": [
    "%%R -i adata_raw\n",
    "\n",
    "#Convert SingleCellExperiment to SingleCellAssay type as required by MAST\n",
    "sca <- SceToSingleCellAssay(adata_raw, class = \"SingleCellAssay\")\n",
    "\n",
    "#Scale Gene detection rate\n",
    "colData(sca)$n_genes = scale(colData(sca)$n_genes)\n",
    "\n",
    "# filter genes based on hard cutoff (have to be expressed in at least 5% of all cells)\n",
    "freq_expressed <- 0.05\n",
    "expressed_genes <- freq(sca) > freq_expressed\n",
    "sca <- sca[expressed_genes,]\n",
    "\n",
    "#rename the sample to condition and make the ct the control\n",
    "cond<-factor(colData(sca)$sample)\n",
    "cond<-relevel(cond,\"ct\")\n",
    "colData(sca)$condition<-cond\n",
    "\n",
    "#Create data subsets for the different subpopulations 0-activated, 1- quiescent, 2-metabolism\n",
    "sca_0 <- subset(sca, with(colData(sca), leiden=='0'))\n",
    "sca_1 <- subset(sca, with(colData(sca), leiden=='1'))\n",
    "sca_2<- subset(sca, with(colData(sca), leiden=='2'))\n",
    "sca_3<- subset(sca, with(colData(sca), leiden=='3'))\n",
    "sca_4<- subset(sca, with(colData(sca), leiden=='4'))\n",
    "sca_5<- subset(sca, with(colData(sca), leiden=='5'))\n",
    "sca_6<- subset(sca, with(colData(sca), leiden=='6'))\n",
    "sca_7<- subset(sca, with(colData(sca), leiden=='7'))\n",
    "\n",
    "#Filter out non-expressed genes in the subsets\n",
    "print(\"Dimensions before subsetting:\")\n",
    "print(dim(sca_0))\n",
    "print(dim(sca_1))\n",
    "print(dim(sca_2))\n",
    "print(dim(sca_3))\n",
    "print(dim(sca_4))\n",
    "print(dim(sca_5))\n",
    "print(dim(sca_6))\n",
    "print(dim(sca_7))\n",
    "print(\"\")\n",
    "\n",
    "sca_0_filt = sca_0[rowSums(assay(sca_0)) != 0, ]\n",
    "sca_1_filt = sca_1[rowSums(assay(sca_1)) != 0, ]\n",
    "sca_2_filt = sca_2[rowSums(assay(sca_2)) != 0, ]\n",
    "sca_3_filt = sca_3[rowSums(assay(sca_3)) != 0, ]\n",
    "sca_4_filt = sca_4[rowSums(assay(sca_4)) != 0, ]\n",
    "sca_5_filt = sca_5[rowSums(assay(sca_5)) != 0, ]\n",
    "sca_6_filt = sca_4[rowSums(assay(sca_6)) != 0, ]\n",
    "sca_7_filt = sca_5[rowSums(assay(sca_7)) != 0, ]\n",
    "\n",
    "print(\"Dimensions after subsetting:\")\n",
    "print(dim(sca_0_filt))\n",
    "print(dim(sca_1_filt))\n",
    "print(dim(sca_2_filt))\n",
    "print(dim(sca_3_filt))\n",
    "print(dim(sca_4_filt))\n",
    "print(dim(sca_5_filt))\n",
    "print(dim(sca_6_filt))\n",
    "print(dim(sca_7_filt))"
   ]
  },
  {
   "cell_type": "markdown",
   "metadata": {},
   "source": [
    "#### everything\n",
    "\n",
    "background:  \n",
    "`zlmCond_all <- zlm(formula = ~condition + Female + n_genes, sca=sca) # this runs the model`\n",
    "\n",
    "a formula with the measurement variable (gene expression) on the LHS (left hand side) and \n",
    "predictors present in colData on the RHS\n",
    "expression of genes controlling for cluster, condition, sex + n_genes\n",
    "questions I can ask:\n",
    "sex differences controlling for treatments\n",
    "sex differences controlling for clusters - not necessary analyze all the clusters\n",
    "overall gene expression changes in treatment\n"
   ]
  },
  {
   "cell_type": "code",
   "execution_count": 9,
   "metadata": {},
   "outputs": [],
   "source": [
    "%%R \n",
    "#Define & run hurdle model \n",
    "zlmCond_all <- zlm(formula = ~condition + Female + n_genes, sca=sca) # this runs the model\n",
    "summaryCond_all <- summary(zlmCond_all, doLRT=TRUE) # extracts the data, gives datatable with summary of fit, doLRT=TRUE extracts likelihood ratio test p-value\n",
    "summaryDt_all <- summaryCond_all$datatable # reformats into a table"
   ]
  },
  {
   "cell_type": "code",
   "execution_count": 10,
   "metadata": {},
   "outputs": [
    {
     "name": "stdout",
     "output_type": "stream",
     "text": [
      "       primerid component        contrast  Pr..Chisq.        ci.hi       ci.lo\n",
      "1 0610009B22Rik         C      FemaleTRUE 0.522246061  0.008639874 -0.01702627\n",
      "2 0610009B22Rik         C   conditionGCSF 0.389144188  0.012637791 -0.03247755\n",
      "3 0610009B22Rik         C conditiondmPGE2 0.002807226 -0.012209495 -0.05855493\n",
      "4 0610009B22Rik         C   conditionindo 0.780917069  0.018997649 -0.02528676\n",
      "5 0610009B22Rik         C    conditionpIC 0.004000110 -0.010186267 -0.05347368\n",
      "6 0610009B22Rik         C         n_genes 0.000000000 -0.146569743 -0.15958655\n",
      "          coef           z\n",
      "1 -0.004193196  -0.6404168\n",
      "2 -0.009919881  -0.8619068\n",
      "3 -0.035382211  -2.9926513\n",
      "4 -0.003144554  -0.2783468\n",
      "5 -0.031829971  -2.8823901\n",
      "6 -0.153078148 -46.0984931\n"
     ]
    }
   ],
   "source": [
    "%%R\n",
    "head(summaryDt_all)"
   ]
  },
  {
   "cell_type": "code",
   "execution_count": 11,
   "metadata": {},
   "outputs": [],
   "source": [
    "%%R -o female_all -o GCSF_all -o dmPGE2_all -o indo_all -o pIC_all\n",
    "\n",
    "# reformat for female\n",
    "result_all_Female <- merge(summaryDt_all[contrast=='FemaleTRUE' & component=='H',.(primerid, `Pr(>Chisq)`)], #P-vals\n",
    "                  summaryDt_all[contrast=='FemaleTRUE' & component=='logFC', .(primerid, coef)],\n",
    "                  by='primerid') #logFC coefficients\n",
    "#Correct for multiple testing (FDR correction) and filtering\n",
    "result_all_Female[,FDR:=p.adjust(`Pr(>Chisq)`, 'fdr')] # create column named FDR - probably that p.adjust function\n",
    "female_all = result_all_Female[result_all_Female$FDR<0.01,, drop=F] # create new table where rows with FDR<0.01 are droped\n",
    "female_all = female_all[order(female_all$FDR),] # sorts the table\n",
    "\n",
    "\n",
    "# reformat for GCSF\n",
    "result_all_GCSF <- merge(summaryDt_all[contrast=='conditionGCSF' & component=='H',.(primerid, `Pr(>Chisq)`)], #P-vals\n",
    "                  summaryDt_all[contrast=='conditionGCSF' & component=='logFC', .(primerid, coef)],\n",
    "                  by='primerid') #logFC coefficients\n",
    "#Correct for multiple testing (FDR correction) and filtering\n",
    "result_all_GCSF[,FDR:=p.adjust(`Pr(>Chisq)`, 'fdr')] # create column named FDR - probably that p.adjust function\n",
    "GCSF_all = result_all_GCSF[result_all_GCSF$FDR<0.01,, drop=F] # create new table where rows with FDR<0.01 are droped\n",
    "GCSF_all = GCSF_all[order(GCSF_all$FDR),] # sorts the table\n",
    "\n",
    "\n",
    "# reformat for dmPGE2\n",
    "result_all_dmPGE2 <- merge(summaryDt_all[contrast=='conditiondmPGE2' & component=='H',.(primerid, `Pr(>Chisq)`)], #P-vals\n",
    "                  summaryDt_all[contrast=='conditiondmPGE2' & component=='logFC', .(primerid, coef)],\n",
    "                  by='primerid') #logFC coefficients\n",
    "#Correct for multiple testing (FDR correction) and filtering\n",
    "result_all_dmPGE2[,FDR:=p.adjust(`Pr(>Chisq)`, 'fdr')] # create column named FDR - probably that p.adjust function\n",
    "dmPGE2_all = result_all_dmPGE2[result_all_dmPGE2$FDR<0.01,, drop=F] # create new table where rows with FDR<0.01 are droped\n",
    "dmPGE2_all = dmPGE2_all[order(dmPGE2_all$FDR),] # sorts the table\n",
    "\n",
    "\n",
    "# reformat for indo\n",
    "result_all_indo <- merge(summaryDt_all[contrast=='conditionindo' & component=='H',.(primerid, `Pr(>Chisq)`)], #P-vals\n",
    "                  summaryDt_all[contrast=='conditionindo' & component=='logFC', .(primerid, coef)],\n",
    "                  by='primerid') #logFC coefficients\n",
    "#Correct for multiple testing (FDR correction) and filtering\n",
    "result_all_indo[,FDR:=p.adjust(`Pr(>Chisq)`, 'fdr')] # create column named FDR - probably that p.adjust function\n",
    "indo_all = result_all_indo[result_all_indo$FDR<0.01,, drop=F] # create new table where rows with FDR<0.01 are droped\n",
    "indo_all = indo_all[order(indo_all$FDR),] # sorts the table\n",
    "\n",
    "# reformat for pIC\n",
    "result_all_pIC <- merge(summaryDt_all[contrast=='conditionpIC' & component=='H',.(primerid, `Pr(>Chisq)`)], #P-vals\n",
    "                  summaryDt_all[contrast=='conditionpIC' & component=='logFC', .(primerid, coef)],\n",
    "                  by='primerid') #logFC coefficients\n",
    "#Correct for multiple testing (FDR correction) and filtering\n",
    "result_all_pIC[,FDR:=p.adjust(`Pr(>Chisq)`, 'fdr')] # create column named FDR - probably that p.adjust function\n",
    "pIC_all = result_all_pIC[result_all_pIC$FDR<0.01,, drop=F] # create new table where rows with FDR<0.01 are droped\n",
    "pIC_all = pIC_all[order(pIC_all$FDR),] # sorts the table"
   ]
  },
  {
   "cell_type": "code",
   "execution_count": 12,
   "metadata": {},
   "outputs": [],
   "source": [
    "%%R -o MAST_raw_all\n",
    "\n",
    "MAST_raw_all <- summaryDt_all"
   ]
  },
  {
   "cell_type": "code",
   "execution_count": 13,
   "metadata": {},
   "outputs": [],
   "source": [
    "# save files as .csvs\n",
    "\n",
    "MAST_raw_all.to_csv('./write/MPP_MAST_raw_all.csv')\n",
    "female_all.to_csv('./write/MPP_MAST_female_all.csv')\n",
    "GCSF_all.to_csv('./write/MPP_MAST_GCSF_all.csv')\n",
    "pIC_all.to_csv('./write/MPP_MAST_pIC_all.csv')\n",
    "dmPGE2_all.to_csv('./write/MPP_MAST_dmPGE2_all.csv')\n",
    "indo_all.to_csv('./write/MPP_MAST_indo_all.csv')"
   ]
  },
  {
   "cell_type": "markdown",
   "metadata": {},
   "source": [
    "#### cluster 0"
   ]
  },
  {
   "cell_type": "code",
   "execution_count": 14,
   "metadata": {},
   "outputs": [
    {
     "name": "stdout",
     "output_type": "stream",
     "text": [
      " [1] \"adata_raw\"         \"cond\"              \"dmPGE2_all\"       \n",
      " [4] \"expressed_genes\"   \"female_all\"        \"freq_expressed\"   \n",
      " [7] \"GCSF_all\"          \"indo_all\"          \"MAST_raw_all\"     \n",
      "[10] \"pIC_all\"           \"result_all_dmPGE2\" \"result_all_Female\"\n",
      "[13] \"result_all_GCSF\"   \"result_all_indo\"   \"result_all_pIC\"   \n",
      "[16] \"sca\"               \"sca_0\"             \"sca_0_filt\"       \n",
      "[19] \"sca_1\"             \"sca_1_filt\"        \"sca_2\"            \n",
      "[22] \"sca_2_filt\"        \"sca_3\"             \"sca_3_filt\"       \n",
      "[25] \"sca_4\"             \"sca_4_filt\"        \"sca_5\"            \n",
      "[28] \"sca_5_filt\"        \"sca_6\"             \"sca_6_filt\"       \n",
      "[31] \"sca_7\"             \"sca_7_filt\"        \"summaryCond_all\"  \n",
      "[34] \"summaryDt_all\"     \"zlmCond_all\"      \n"
     ]
    }
   ],
   "source": [
    "%%R\n",
    "# list all variables \n",
    "ls()"
   ]
  },
  {
   "cell_type": "code",
   "execution_count": 15,
   "metadata": {},
   "outputs": [],
   "source": [
    "%%R\n",
    "# remove previous variables\n",
    "\n",
    "rm(zlmCond_all)\n",
    "rm(summaryDt_all)\n",
    "rm(summaryCond_all)\n",
    "rm(MAST_raw_all)"
   ]
  },
  {
   "cell_type": "code",
   "execution_count": 16,
   "metadata": {},
   "outputs": [],
   "source": [
    "%%R \n",
    "#Define & run hurdle model \n",
    "zlmCond_all <- zlm(formula = ~condition + Female + n_genes, sca=sca_0) # this runs the model\n",
    "summaryCond_all <- summary(zlmCond_all, doLRT=TRUE) # extracts the data, gives datatable with summary of fit, doLRT=TRUE extracts likelihood ratio test p-value\n",
    "summaryDt_all <- summaryCond_all$datatable # reformats into a table"
   ]
  },
  {
   "cell_type": "code",
   "execution_count": 17,
   "metadata": {},
   "outputs": [
    {
     "name": "stdout",
     "output_type": "stream",
     "text": [
      "       primerid component        contrast   Pr..Chisq.        ci.hi       ci.lo\n",
      "1 0610009B22Rik         C      FemaleTRUE 9.246865e-01  0.029627914 -0.02689569\n",
      "2 0610009B22Rik         C   conditionGCSF 8.683093e-01  0.048916755 -0.04127037\n",
      "3 0610009B22Rik         C conditiondmPGE2 8.855204e-01  0.121182045 -0.14044286\n",
      "4 0610009B22Rik         C   conditionindo 1.268386e-01  0.009556984 -0.07789180\n",
      "5 0610009B22Rik         C    conditionpIC 1.448011e-01  0.011387514 -0.07837585\n",
      "6 0610009B22Rik         C         n_genes 3.434844e-51 -0.143352234 -0.18155685\n",
      "          coef            z\n",
      "1  0.001366111   0.09474016\n",
      "2  0.003823194   0.16617276\n",
      "3 -0.009630407  -0.14429247\n",
      "4 -0.034167407  -1.53156822\n",
      "5 -0.033494166  -1.46267607\n",
      "6 -0.162454542 -16.66840738\n"
     ]
    }
   ],
   "source": [
    "%%R\n",
    "head(summaryDt_all)"
   ]
  },
  {
   "cell_type": "code",
   "execution_count": 18,
   "metadata": {},
   "outputs": [],
   "source": [
    "%%R -o female_all -o GCSF_all -o dmPGE2_all -o indo_all -o pIC_all\n",
    "\n",
    "# reformat for female\n",
    "result_all_Female <- merge(summaryDt_all[contrast=='FemaleTRUE' & component=='H',.(primerid, `Pr(>Chisq)`)], #P-vals\n",
    "                  summaryDt_all[contrast=='FemaleTRUE' & component=='logFC', .(primerid, coef)],\n",
    "                  by='primerid') #logFC coefficients\n",
    "#Correct for multiple testing (FDR correction) and filtering\n",
    "result_all_Female[,FDR:=p.adjust(`Pr(>Chisq)`, 'fdr')] # create column named FDR - probably that p.adjust function\n",
    "female_all = result_all_Female[result_all_Female$FDR<0.01,, drop=F] # create new table where rows with FDR<0.01 are droped\n",
    "female_all = female_all[order(female_all$FDR),] # sorts the table\n",
    "\n",
    "\n",
    "# reformat for GCSF\n",
    "result_all_GCSF <- merge(summaryDt_all[contrast=='conditionGCSF' & component=='H',.(primerid, `Pr(>Chisq)`)], #P-vals\n",
    "                  summaryDt_all[contrast=='conditionGCSF' & component=='logFC', .(primerid, coef)],\n",
    "                  by='primerid') #logFC coefficients\n",
    "#Correct for multiple testing (FDR correction) and filtering\n",
    "result_all_GCSF[,FDR:=p.adjust(`Pr(>Chisq)`, 'fdr')] # create column named FDR - probably that p.adjust function\n",
    "GCSF_all = result_all_GCSF[result_all_GCSF$FDR<0.01,, drop=F] # create new table where rows with FDR<0.01 are droped\n",
    "GCSF_all = GCSF_all[order(GCSF_all$FDR),] # sorts the table\n",
    "\n",
    "\n",
    "# reformat for dmPGE2\n",
    "result_all_dmPGE2 <- merge(summaryDt_all[contrast=='conditiondmPGE2' & component=='H',.(primerid, `Pr(>Chisq)`)], #P-vals\n",
    "                  summaryDt_all[contrast=='conditiondmPGE2' & component=='logFC', .(primerid, coef)],\n",
    "                  by='primerid') #logFC coefficients\n",
    "#Correct for multiple testing (FDR correction) and filtering\n",
    "result_all_dmPGE2[,FDR:=p.adjust(`Pr(>Chisq)`, 'fdr')] # create column named FDR - probably that p.adjust function\n",
    "dmPGE2_all = result_all_dmPGE2[result_all_dmPGE2$FDR<0.01,, drop=F] # create new table where rows with FDR<0.01 are droped\n",
    "dmPGE2_all = dmPGE2_all[order(dmPGE2_all$FDR),] # sorts the table\n",
    "\n",
    "\n",
    "# reformat for indo\n",
    "result_all_indo <- merge(summaryDt_all[contrast=='conditionindo' & component=='H',.(primerid, `Pr(>Chisq)`)], #P-vals\n",
    "                  summaryDt_all[contrast=='conditionindo' & component=='logFC', .(primerid, coef)],\n",
    "                  by='primerid') #logFC coefficients\n",
    "#Correct for multiple testing (FDR correction) and filtering\n",
    "result_all_indo[,FDR:=p.adjust(`Pr(>Chisq)`, 'fdr')] # create column named FDR - probably that p.adjust function\n",
    "indo_all = result_all_indo[result_all_indo$FDR<0.01,, drop=F] # create new table where rows with FDR<0.01 are droped\n",
    "indo_all = indo_all[order(indo_all$FDR),] # sorts the table\n",
    "\n",
    "# reformat for pIC\n",
    "result_all_pIC <- merge(summaryDt_all[contrast=='conditionpIC' & component=='H',.(primerid, `Pr(>Chisq)`)], #P-vals\n",
    "                  summaryDt_all[contrast=='conditionpIC' & component=='logFC', .(primerid, coef)],\n",
    "                  by='primerid') #logFC coefficients\n",
    "#Correct for multiple testing (FDR correction) and filtering\n",
    "result_all_pIC[,FDR:=p.adjust(`Pr(>Chisq)`, 'fdr')] # create column named FDR - probably that p.adjust function\n",
    "pIC_all = result_all_pIC[result_all_pIC$FDR<0.01,, drop=F] # create new table where rows with FDR<0.01 are droped\n",
    "pIC_all = pIC_all[order(pIC_all$FDR),] # sorts the table"
   ]
  },
  {
   "cell_type": "code",
   "execution_count": 19,
   "metadata": {},
   "outputs": [],
   "source": [
    "%%R -o MAST_raw_all\n",
    "\n",
    "MAST_raw_all <- summaryDt_all"
   ]
  },
  {
   "cell_type": "code",
   "execution_count": 20,
   "metadata": {},
   "outputs": [],
   "source": [
    "# save files as .csvs\n",
    "\n",
    "MAST_raw_all.to_csv('./write/MPP_MAST_raw_0.csv')\n",
    "female_all.to_csv('./write/MPP_MAST_female_0.csv')\n",
    "GCSF_all.to_csv('./write/MPP_MAST_GCSF_0.csv')\n",
    "pIC_all.to_csv('./write/MPP_MAST_pIC_0.csv')\n",
    "dmPGE2_all.to_csv('./write/MPP_MAST_dmPGE2_0.csv')\n",
    "indo_all.to_csv('./write/MPP_MAST_indo_0.csv')"
   ]
  },
  {
   "cell_type": "markdown",
   "metadata": {},
   "source": [
    "#### cluster 1"
   ]
  },
  {
   "cell_type": "code",
   "execution_count": 21,
   "metadata": {},
   "outputs": [
    {
     "name": "stdout",
     "output_type": "stream",
     "text": [
      " [1] \"adata_raw\"         \"cond\"              \"dmPGE2_all\"       \n",
      " [4] \"expressed_genes\"   \"female_all\"        \"freq_expressed\"   \n",
      " [7] \"GCSF_all\"          \"indo_all\"          \"MAST_raw_all\"     \n",
      "[10] \"pIC_all\"           \"result_all_dmPGE2\" \"result_all_Female\"\n",
      "[13] \"result_all_GCSF\"   \"result_all_indo\"   \"result_all_pIC\"   \n",
      "[16] \"sca\"               \"sca_0\"             \"sca_0_filt\"       \n",
      "[19] \"sca_1\"             \"sca_1_filt\"        \"sca_2\"            \n",
      "[22] \"sca_2_filt\"        \"sca_3\"             \"sca_3_filt\"       \n",
      "[25] \"sca_4\"             \"sca_4_filt\"        \"sca_5\"            \n",
      "[28] \"sca_5_filt\"        \"sca_6\"             \"sca_6_filt\"       \n",
      "[31] \"sca_7\"             \"sca_7_filt\"        \"summaryCond_all\"  \n",
      "[34] \"summaryDt_all\"     \"zlmCond_all\"      \n"
     ]
    }
   ],
   "source": [
    "%%R\n",
    "# list all variables \n",
    "ls()"
   ]
  },
  {
   "cell_type": "code",
   "execution_count": 22,
   "metadata": {},
   "outputs": [],
   "source": [
    "%%R\n",
    "# remove previous variables\n",
    "\n",
    "rm(zlmCond_all)\n",
    "rm(summaryDt_all)\n",
    "rm(summaryCond_all)\n",
    "rm(MAST_raw_all)"
   ]
  },
  {
   "cell_type": "code",
   "execution_count": 23,
   "metadata": {},
   "outputs": [],
   "source": [
    "%%R \n",
    "#Define & run hurdle model \n",
    "zlmCond_all <- zlm(formula = ~condition + Female + n_genes, sca=sca_1) # this runs the model\n",
    "summaryCond_all <- summary(zlmCond_all, doLRT=TRUE) # extracts the data, gives datatable with summary of fit, doLRT=TRUE extracts likelihood ratio test p-value\n",
    "summaryDt_all <- summaryCond_all$datatable # reformats into a table"
   ]
  },
  {
   "cell_type": "code",
   "execution_count": 24,
   "metadata": {},
   "outputs": [
    {
     "name": "stdout",
     "output_type": "stream",
     "text": [
      "       primerid component        contrast   Pr..Chisq.        ci.hi       ci.lo\n",
      "1 0610009B22Rik         C      FemaleTRUE 4.874937e-01  0.034752273 -0.01657955\n",
      "2 0610009B22Rik         C   conditionGCSF 6.374720e-03 -0.016202727 -0.09851058\n",
      "3 0610009B22Rik         C conditiondmPGE2 4.189599e-05 -0.052274193 -0.14742852\n",
      "4 0610009B22Rik         C   conditionindo 5.668172e-02  0.001122156 -0.08085728\n",
      "5 0610009B22Rik         C    conditionpIC 2.084126e-01  0.015682932 -0.07184023\n",
      "6 0610009B22Rik         C         n_genes 4.475820e-35 -0.109721722 -0.14901110\n",
      "          coef           z\n",
      "1  0.009086361   0.6938753\n",
      "2 -0.057356652  -2.7316221\n",
      "3 -0.099851358  -4.1134243\n",
      "4 -0.039867560  -1.9063070\n",
      "5 -0.028078647  -1.2575674\n",
      "6 -0.129366410 -12.9069751\n"
     ]
    }
   ],
   "source": [
    "%%R\n",
    "head(summaryDt_all)"
   ]
  },
  {
   "cell_type": "code",
   "execution_count": 25,
   "metadata": {},
   "outputs": [],
   "source": [
    "%%R -o female_all -o GCSF_all -o dmPGE2_all -o indo_all -o pIC_all\n",
    "\n",
    "# reformat for female\n",
    "result_all_Female <- merge(summaryDt_all[contrast=='FemaleTRUE' & component=='H',.(primerid, `Pr(>Chisq)`)], #P-vals\n",
    "                  summaryDt_all[contrast=='FemaleTRUE' & component=='logFC', .(primerid, coef)],\n",
    "                  by='primerid') #logFC coefficients\n",
    "#Correct for multiple testing (FDR correction) and filtering\n",
    "result_all_Female[,FDR:=p.adjust(`Pr(>Chisq)`, 'fdr')] # create column named FDR - probably that p.adjust function\n",
    "female_all = result_all_Female[result_all_Female$FDR<0.01,, drop=F] # create new table where rows with FDR<0.01 are droped\n",
    "female_all = female_all[order(female_all$FDR),] # sorts the table\n",
    "\n",
    "\n",
    "# reformat for GCSF\n",
    "result_all_GCSF <- merge(summaryDt_all[contrast=='conditionGCSF' & component=='H',.(primerid, `Pr(>Chisq)`)], #P-vals\n",
    "                  summaryDt_all[contrast=='conditionGCSF' & component=='logFC', .(primerid, coef)],\n",
    "                  by='primerid') #logFC coefficients\n",
    "#Correct for multiple testing (FDR correction) and filtering\n",
    "result_all_GCSF[,FDR:=p.adjust(`Pr(>Chisq)`, 'fdr')] # create column named FDR - probably that p.adjust function\n",
    "GCSF_all = result_all_GCSF[result_all_GCSF$FDR<0.01,, drop=F] # create new table where rows with FDR<0.01 are droped\n",
    "GCSF_all = GCSF_all[order(GCSF_all$FDR),] # sorts the table\n",
    "\n",
    "\n",
    "# reformat for dmPGE2\n",
    "result_all_dmPGE2 <- merge(summaryDt_all[contrast=='conditiondmPGE2' & component=='H',.(primerid, `Pr(>Chisq)`)], #P-vals\n",
    "                  summaryDt_all[contrast=='conditiondmPGE2' & component=='logFC', .(primerid, coef)],\n",
    "                  by='primerid') #logFC coefficients\n",
    "#Correct for multiple testing (FDR correction) and filtering\n",
    "result_all_dmPGE2[,FDR:=p.adjust(`Pr(>Chisq)`, 'fdr')] # create column named FDR - probably that p.adjust function\n",
    "dmPGE2_all = result_all_dmPGE2[result_all_dmPGE2$FDR<0.01,, drop=F] # create new table where rows with FDR<0.01 are droped\n",
    "dmPGE2_all = dmPGE2_all[order(dmPGE2_all$FDR),] # sorts the table\n",
    "\n",
    "\n",
    "# reformat for indo\n",
    "result_all_indo <- merge(summaryDt_all[contrast=='conditionindo' & component=='H',.(primerid, `Pr(>Chisq)`)], #P-vals\n",
    "                  summaryDt_all[contrast=='conditionindo' & component=='logFC', .(primerid, coef)],\n",
    "                  by='primerid') #logFC coefficients\n",
    "#Correct for multiple testing (FDR correction) and filtering\n",
    "result_all_indo[,FDR:=p.adjust(`Pr(>Chisq)`, 'fdr')] # create column named FDR - probably that p.adjust function\n",
    "indo_all = result_all_indo[result_all_indo$FDR<0.01,, drop=F] # create new table where rows with FDR<0.01 are droped\n",
    "indo_all = indo_all[order(indo_all$FDR),] # sorts the table\n",
    "\n",
    "# reformat for pIC\n",
    "result_all_pIC <- merge(summaryDt_all[contrast=='conditionpIC' & component=='H',.(primerid, `Pr(>Chisq)`)], #P-vals\n",
    "                  summaryDt_all[contrast=='conditionpIC' & component=='logFC', .(primerid, coef)],\n",
    "                  by='primerid') #logFC coefficients\n",
    "#Correct for multiple testing (FDR correction) and filtering\n",
    "result_all_pIC[,FDR:=p.adjust(`Pr(>Chisq)`, 'fdr')] # create column named FDR - probably that p.adjust function\n",
    "pIC_all = result_all_pIC[result_all_pIC$FDR<0.01,, drop=F] # create new table where rows with FDR<0.01 are droped\n",
    "pIC_all = pIC_all[order(pIC_all$FDR),] # sorts the table"
   ]
  },
  {
   "cell_type": "code",
   "execution_count": 26,
   "metadata": {},
   "outputs": [],
   "source": [
    "%%R -o MAST_raw_all\n",
    "\n",
    "MAST_raw_all <- summaryDt_all"
   ]
  },
  {
   "cell_type": "code",
   "execution_count": 27,
   "metadata": {},
   "outputs": [],
   "source": [
    "# save files as .csvs\n",
    "\n",
    "MAST_raw_all.to_csv('./write/MPP_MAST_raw_1.csv')\n",
    "female_all.to_csv('./write/MPP_MAST_female_1.csv')\n",
    "GCSF_all.to_csv('./write/MPP_MAST_GCSF_1.csv')\n",
    "pIC_all.to_csv('./write/MPP_MAST_pIC_1.csv')\n",
    "dmPGE2_all.to_csv('./write/MPP_MAST_dmPGE2_1.csv')\n",
    "indo_all.to_csv('./write/MPP_MAST_indo_1.csv')"
   ]
  },
  {
   "cell_type": "markdown",
   "metadata": {},
   "source": [
    "#### cluster 2"
   ]
  },
  {
   "cell_type": "code",
   "execution_count": 28,
   "metadata": {},
   "outputs": [
    {
     "name": "stdout",
     "output_type": "stream",
     "text": [
      " [1] \"adata_raw\"         \"cond\"              \"dmPGE2_all\"       \n",
      " [4] \"expressed_genes\"   \"female_all\"        \"freq_expressed\"   \n",
      " [7] \"GCSF_all\"          \"indo_all\"          \"MAST_raw_all\"     \n",
      "[10] \"pIC_all\"           \"result_all_dmPGE2\" \"result_all_Female\"\n",
      "[13] \"result_all_GCSF\"   \"result_all_indo\"   \"result_all_pIC\"   \n",
      "[16] \"sca\"               \"sca_0\"             \"sca_0_filt\"       \n",
      "[19] \"sca_1\"             \"sca_1_filt\"        \"sca_2\"            \n",
      "[22] \"sca_2_filt\"        \"sca_3\"             \"sca_3_filt\"       \n",
      "[25] \"sca_4\"             \"sca_4_filt\"        \"sca_5\"            \n",
      "[28] \"sca_5_filt\"        \"sca_6\"             \"sca_6_filt\"       \n",
      "[31] \"sca_7\"             \"sca_7_filt\"        \"summaryCond_all\"  \n",
      "[34] \"summaryDt_all\"     \"zlmCond_all\"      \n"
     ]
    }
   ],
   "source": [
    "%%R\n",
    "# list all variables \n",
    "ls()"
   ]
  },
  {
   "cell_type": "code",
   "execution_count": 29,
   "metadata": {},
   "outputs": [],
   "source": [
    "%%R\n",
    "# remove previous variables\n",
    "\n",
    "rm(zlmCond_all)\n",
    "rm(summaryDt_all)\n",
    "rm(summaryCond_all)\n",
    "rm(MAST_raw_all)"
   ]
  },
  {
   "cell_type": "code",
   "execution_count": 30,
   "metadata": {},
   "outputs": [],
   "source": [
    "%%R \n",
    "#Define & run hurdle model \n",
    "zlmCond_all <- zlm(formula = ~condition + Female + n_genes, sca=sca_2) # this runs the model\n",
    "summaryCond_all <- summary(zlmCond_all, doLRT=TRUE) # extracts the data, gives datatable with summary of fit, doLRT=TRUE extracts likelihood ratio test p-value\n",
    "summaryDt_all <- summaryCond_all$datatable # reformats into a table"
   ]
  },
  {
   "cell_type": "code",
   "execution_count": 31,
   "metadata": {},
   "outputs": [
    {
     "name": "stdout",
     "output_type": "stream",
     "text": [
      "       primerid component        contrast   Pr..Chisq.       ci.hi        ci.lo\n",
      "1 0610009B22Rik         C      FemaleTRUE 1.569078e-01  0.06000048 -0.009410614\n",
      "2 0610009B22Rik         C   conditionGCSF 2.215770e-01  0.08063364 -0.018353553\n",
      "3 0610009B22Rik         C conditiondmPGE2 6.738794e-02  0.14859984 -0.004396470\n",
      "4 0610009B22Rik         C   conditionindo 3.264536e-01  0.07352890 -0.024188497\n",
      "5 0610009B22Rik         C    conditionpIC 8.369710e-01  0.06168840 -0.049881808\n",
      "6 0610009B22Rik         C         n_genes 2.394047e-54 -0.16323686 -0.202575379\n",
      "          coef           z\n",
      "1  0.025294933   1.4285082\n",
      "2  0.031140046   1.2331568\n",
      "3  0.072101687   1.8473218\n",
      "4  0.024670200   0.9896437\n",
      "5  0.005903297   0.2074075\n",
      "6 -0.182906120 -18.2258725\n"
     ]
    }
   ],
   "source": [
    "%%R\n",
    "head(summaryDt_all)"
   ]
  },
  {
   "cell_type": "code",
   "execution_count": 32,
   "metadata": {},
   "outputs": [],
   "source": [
    "%%R -o female_all -o GCSF_all -o dmPGE2_all -o indo_all -o pIC_all\n",
    "\n",
    "# reformat for female\n",
    "result_all_Female <- merge(summaryDt_all[contrast=='FemaleTRUE' & component=='H',.(primerid, `Pr(>Chisq)`)], #P-vals\n",
    "                  summaryDt_all[contrast=='FemaleTRUE' & component=='logFC', .(primerid, coef)],\n",
    "                  by='primerid') #logFC coefficients\n",
    "#Correct for multiple testing (FDR correction) and filtering\n",
    "result_all_Female[,FDR:=p.adjust(`Pr(>Chisq)`, 'fdr')] # create column named FDR - probably that p.adjust function\n",
    "female_all = result_all_Female[result_all_Female$FDR<0.01,, drop=F] # create new table where rows with FDR<0.01 are droped\n",
    "female_all = female_all[order(female_all$FDR),] # sorts the table\n",
    "\n",
    "\n",
    "# reformat for GCSF\n",
    "result_all_GCSF <- merge(summaryDt_all[contrast=='conditionGCSF' & component=='H',.(primerid, `Pr(>Chisq)`)], #P-vals\n",
    "                  summaryDt_all[contrast=='conditionGCSF' & component=='logFC', .(primerid, coef)],\n",
    "                  by='primerid') #logFC coefficients\n",
    "#Correct for multiple testing (FDR correction) and filtering\n",
    "result_all_GCSF[,FDR:=p.adjust(`Pr(>Chisq)`, 'fdr')] # create column named FDR - probably that p.adjust function\n",
    "GCSF_all = result_all_GCSF[result_all_GCSF$FDR<0.01,, drop=F] # create new table where rows with FDR<0.01 are droped\n",
    "GCSF_all = GCSF_all[order(GCSF_all$FDR),] # sorts the table\n",
    "\n",
    "\n",
    "# reformat for dmPGE2\n",
    "result_all_dmPGE2 <- merge(summaryDt_all[contrast=='conditiondmPGE2' & component=='H',.(primerid, `Pr(>Chisq)`)], #P-vals\n",
    "                  summaryDt_all[contrast=='conditiondmPGE2' & component=='logFC', .(primerid, coef)],\n",
    "                  by='primerid') #logFC coefficients\n",
    "#Correct for multiple testing (FDR correction) and filtering\n",
    "result_all_dmPGE2[,FDR:=p.adjust(`Pr(>Chisq)`, 'fdr')] # create column named FDR - probably that p.adjust function\n",
    "dmPGE2_all = result_all_dmPGE2[result_all_dmPGE2$FDR<0.01,, drop=F] # create new table where rows with FDR<0.01 are droped\n",
    "dmPGE2_all = dmPGE2_all[order(dmPGE2_all$FDR),] # sorts the table\n",
    "\n",
    "\n",
    "# reformat for indo\n",
    "result_all_indo <- merge(summaryDt_all[contrast=='conditionindo' & component=='H',.(primerid, `Pr(>Chisq)`)], #P-vals\n",
    "                  summaryDt_all[contrast=='conditionindo' & component=='logFC', .(primerid, coef)],\n",
    "                  by='primerid') #logFC coefficients\n",
    "#Correct for multiple testing (FDR correction) and filtering\n",
    "result_all_indo[,FDR:=p.adjust(`Pr(>Chisq)`, 'fdr')] # create column named FDR - probably that p.adjust function\n",
    "indo_all = result_all_indo[result_all_indo$FDR<0.01,, drop=F] # create new table where rows with FDR<0.01 are droped\n",
    "indo_all = indo_all[order(indo_all$FDR),] # sorts the table\n",
    "\n",
    "# reformat for pIC\n",
    "result_all_pIC <- merge(summaryDt_all[contrast=='conditionpIC' & component=='H',.(primerid, `Pr(>Chisq)`)], #P-vals\n",
    "                  summaryDt_all[contrast=='conditionpIC' & component=='logFC', .(primerid, coef)],\n",
    "                  by='primerid') #logFC coefficients\n",
    "#Correct for multiple testing (FDR correction) and filtering\n",
    "result_all_pIC[,FDR:=p.adjust(`Pr(>Chisq)`, 'fdr')] # create column named FDR - probably that p.adjust function\n",
    "pIC_all = result_all_pIC[result_all_pIC$FDR<0.01,, drop=F] # create new table where rows with FDR<0.01 are droped\n",
    "pIC_all = pIC_all[order(pIC_all$FDR),] # sorts the table"
   ]
  },
  {
   "cell_type": "code",
   "execution_count": 33,
   "metadata": {},
   "outputs": [],
   "source": [
    "%%R -o MAST_raw_all\n",
    "\n",
    "MAST_raw_all <- summaryDt_all"
   ]
  },
  {
   "cell_type": "code",
   "execution_count": 34,
   "metadata": {},
   "outputs": [],
   "source": [
    "# save files as .csvs\n",
    "\n",
    "MAST_raw_all.to_csv('./write/MPP_MAST_raw_2.csv')\n",
    "female_all.to_csv('./write/MPP_MAST_female_2.csv')\n",
    "GCSF_all.to_csv('./write/MPP_MAST_GCSF_2.csv')\n",
    "pIC_all.to_csv('./write/MPP_MAST_pIC_2.csv')\n",
    "dmPGE2_all.to_csv('./write/MPP_MAST_dmPGE2_2.csv')\n",
    "indo_all.to_csv('./write/MPP_MAST_indo_2.csv')"
   ]
  },
  {
   "cell_type": "markdown",
   "metadata": {},
   "source": [
    "#### cluster 3"
   ]
  },
  {
   "cell_type": "code",
   "execution_count": 35,
   "metadata": {},
   "outputs": [
    {
     "name": "stdout",
     "output_type": "stream",
     "text": [
      " [1] \"adata_raw\"         \"cond\"              \"dmPGE2_all\"       \n",
      " [4] \"expressed_genes\"   \"female_all\"        \"freq_expressed\"   \n",
      " [7] \"GCSF_all\"          \"indo_all\"          \"MAST_raw_all\"     \n",
      "[10] \"pIC_all\"           \"result_all_dmPGE2\" \"result_all_Female\"\n",
      "[13] \"result_all_GCSF\"   \"result_all_indo\"   \"result_all_pIC\"   \n",
      "[16] \"sca\"               \"sca_0\"             \"sca_0_filt\"       \n",
      "[19] \"sca_1\"             \"sca_1_filt\"        \"sca_2\"            \n",
      "[22] \"sca_2_filt\"        \"sca_3\"             \"sca_3_filt\"       \n",
      "[25] \"sca_4\"             \"sca_4_filt\"        \"sca_5\"            \n",
      "[28] \"sca_5_filt\"        \"sca_6\"             \"sca_6_filt\"       \n",
      "[31] \"sca_7\"             \"sca_7_filt\"        \"summaryCond_all\"  \n",
      "[34] \"summaryDt_all\"     \"zlmCond_all\"      \n"
     ]
    }
   ],
   "source": [
    "%%R\n",
    "# list all variables \n",
    "ls()"
   ]
  },
  {
   "cell_type": "code",
   "execution_count": 36,
   "metadata": {},
   "outputs": [],
   "source": [
    "%%R\n",
    "# remove previous variables\n",
    "\n",
    "rm(zlmCond_all)\n",
    "rm(summaryDt_all)\n",
    "rm(summaryCond_all)\n",
    "rm(MAST_raw_all)"
   ]
  },
  {
   "cell_type": "code",
   "execution_count": 37,
   "metadata": {},
   "outputs": [],
   "source": [
    "%%R \n",
    "#Define & run hurdle model \n",
    "zlmCond_all <- zlm(formula = ~condition + Female + n_genes, sca=sca_3) # this runs the model\n",
    "summaryCond_all <- summary(zlmCond_all, doLRT=TRUE) # extracts the data, gives datatable with summary of fit, doLRT=TRUE extracts likelihood ratio test p-value\n",
    "summaryDt_all <- summaryCond_all$datatable # reformats into a table"
   ]
  },
  {
   "cell_type": "code",
   "execution_count": 38,
   "metadata": {},
   "outputs": [
    {
     "name": "stdout",
     "output_type": "stream",
     "text": [
      "       primerid component        contrast   Pr..Chisq.       ci.hi        ci.lo\n",
      "1 0610009B22Rik         C      FemaleTRUE 2.239121e-01  0.01125951 -0.048014166\n",
      "2 0610009B22Rik         C   conditionGCSF 5.939550e-01  0.06313577 -0.036158912\n",
      "3 0610009B22Rik         C conditiondmPGE2 3.891061e-01  0.06712875 -0.026171538\n",
      "4 0610009B22Rik         C   conditionindo 2.375743e-02  0.10337077  0.007410254\n",
      "5 0610009B22Rik         C    conditionpIC 3.682567e-01  0.07421308 -0.027544802\n",
      "6 0610009B22Rik         C         n_genes 5.968189e-26 -0.11042659 -0.158334976\n",
      "         coef           z\n",
      "1 -0.01837733  -1.2153424\n",
      "2  0.01348843   0.5324925\n",
      "3  0.02047861   0.8603903\n",
      "4  0.05539051   2.2626683\n",
      "5  0.02333414   0.8988802\n",
      "6 -0.13438078 -10.9952154\n"
     ]
    }
   ],
   "source": [
    "%%R\n",
    "head(summaryDt_all)"
   ]
  },
  {
   "cell_type": "code",
   "execution_count": 39,
   "metadata": {},
   "outputs": [],
   "source": [
    "%%R -o female_all -o GCSF_all -o dmPGE2_all -o indo_all -o pIC_all\n",
    "\n",
    "# reformat for female\n",
    "result_all_Female <- merge(summaryDt_all[contrast=='FemaleTRUE' & component=='H',.(primerid, `Pr(>Chisq)`)], #P-vals\n",
    "                  summaryDt_all[contrast=='FemaleTRUE' & component=='logFC', .(primerid, coef)],\n",
    "                  by='primerid') #logFC coefficients\n",
    "#Correct for multiple testing (FDR correction) and filtering\n",
    "result_all_Female[,FDR:=p.adjust(`Pr(>Chisq)`, 'fdr')] # create column named FDR - probably that p.adjust function\n",
    "female_all = result_all_Female[result_all_Female$FDR<0.01,, drop=F] # create new table where rows with FDR<0.01 are droped\n",
    "female_all = female_all[order(female_all$FDR),] # sorts the table\n",
    "\n",
    "\n",
    "# reformat for GCSF\n",
    "result_all_GCSF <- merge(summaryDt_all[contrast=='conditionGCSF' & component=='H',.(primerid, `Pr(>Chisq)`)], #P-vals\n",
    "                  summaryDt_all[contrast=='conditionGCSF' & component=='logFC', .(primerid, coef)],\n",
    "                  by='primerid') #logFC coefficients\n",
    "#Correct for multiple testing (FDR correction) and filtering\n",
    "result_all_GCSF[,FDR:=p.adjust(`Pr(>Chisq)`, 'fdr')] # create column named FDR - probably that p.adjust function\n",
    "GCSF_all = result_all_GCSF[result_all_GCSF$FDR<0.01,, drop=F] # create new table where rows with FDR<0.01 are droped\n",
    "GCSF_all = GCSF_all[order(GCSF_all$FDR),] # sorts the table\n",
    "\n",
    "\n",
    "# reformat for dmPGE2\n",
    "result_all_dmPGE2 <- merge(summaryDt_all[contrast=='conditiondmPGE2' & component=='H',.(primerid, `Pr(>Chisq)`)], #P-vals\n",
    "                  summaryDt_all[contrast=='conditiondmPGE2' & component=='logFC', .(primerid, coef)],\n",
    "                  by='primerid') #logFC coefficients\n",
    "#Correct for multiple testing (FDR correction) and filtering\n",
    "result_all_dmPGE2[,FDR:=p.adjust(`Pr(>Chisq)`, 'fdr')] # create column named FDR - probably that p.adjust function\n",
    "dmPGE2_all = result_all_dmPGE2[result_all_dmPGE2$FDR<0.01,, drop=F] # create new table where rows with FDR<0.01 are droped\n",
    "dmPGE2_all = dmPGE2_all[order(dmPGE2_all$FDR),] # sorts the table\n",
    "\n",
    "\n",
    "# reformat for indo\n",
    "result_all_indo <- merge(summaryDt_all[contrast=='conditionindo' & component=='H',.(primerid, `Pr(>Chisq)`)], #P-vals\n",
    "                  summaryDt_all[contrast=='conditionindo' & component=='logFC', .(primerid, coef)],\n",
    "                  by='primerid') #logFC coefficients\n",
    "#Correct for multiple testing (FDR correction) and filtering\n",
    "result_all_indo[,FDR:=p.adjust(`Pr(>Chisq)`, 'fdr')] # create column named FDR - probably that p.adjust function\n",
    "indo_all = result_all_indo[result_all_indo$FDR<0.01,, drop=F] # create new table where rows with FDR<0.01 are droped\n",
    "indo_all = indo_all[order(indo_all$FDR),] # sorts the table\n",
    "\n",
    "# reformat for pIC\n",
    "result_all_pIC <- merge(summaryDt_all[contrast=='conditionpIC' & component=='H',.(primerid, `Pr(>Chisq)`)], #P-vals\n",
    "                  summaryDt_all[contrast=='conditionpIC' & component=='logFC', .(primerid, coef)],\n",
    "                  by='primerid') #logFC coefficients\n",
    "#Correct for multiple testing (FDR correction) and filtering\n",
    "result_all_pIC[,FDR:=p.adjust(`Pr(>Chisq)`, 'fdr')] # create column named FDR - probably that p.adjust function\n",
    "pIC_all = result_all_pIC[result_all_pIC$FDR<0.01,, drop=F] # create new table where rows with FDR<0.01 are droped\n",
    "pIC_all = pIC_all[order(pIC_all$FDR),] # sorts the table"
   ]
  },
  {
   "cell_type": "code",
   "execution_count": 40,
   "metadata": {},
   "outputs": [],
   "source": [
    "%%R -o MAST_raw_all\n",
    "\n",
    "MAST_raw_all <- summaryDt_all"
   ]
  },
  {
   "cell_type": "code",
   "execution_count": 41,
   "metadata": {},
   "outputs": [],
   "source": [
    "# save files as .csvs\n",
    "\n",
    "MAST_raw_all.to_csv('./write/MPP_MAST_raw_3.csv')\n",
    "female_all.to_csv('./write/MPP_MAST_female_3.csv')\n",
    "GCSF_all.to_csv('./write/MPP_MAST_GCSF_3.csv')\n",
    "pIC_all.to_csv('./write/MPP_MAST_pIC_3.csv')\n",
    "dmPGE2_all.to_csv('./write/MPP_MAST_dmPGE2_3.csv')\n",
    "indo_all.to_csv('./write/MPP_MAST_indo_3.csv')"
   ]
  },
  {
   "cell_type": "markdown",
   "metadata": {},
   "source": [
    "#### cluster 4"
   ]
  },
  {
   "cell_type": "code",
   "execution_count": 42,
   "metadata": {},
   "outputs": [
    {
     "name": "stdout",
     "output_type": "stream",
     "text": [
      " [1] \"adata_raw\"         \"cond\"              \"dmPGE2_all\"       \n",
      " [4] \"expressed_genes\"   \"female_all\"        \"freq_expressed\"   \n",
      " [7] \"GCSF_all\"          \"indo_all\"          \"MAST_raw_all\"     \n",
      "[10] \"pIC_all\"           \"result_all_dmPGE2\" \"result_all_Female\"\n",
      "[13] \"result_all_GCSF\"   \"result_all_indo\"   \"result_all_pIC\"   \n",
      "[16] \"sca\"               \"sca_0\"             \"sca_0_filt\"       \n",
      "[19] \"sca_1\"             \"sca_1_filt\"        \"sca_2\"            \n",
      "[22] \"sca_2_filt\"        \"sca_3\"             \"sca_3_filt\"       \n",
      "[25] \"sca_4\"             \"sca_4_filt\"        \"sca_5\"            \n",
      "[28] \"sca_5_filt\"        \"sca_6\"             \"sca_6_filt\"       \n",
      "[31] \"sca_7\"             \"sca_7_filt\"        \"summaryCond_all\"  \n",
      "[34] \"summaryDt_all\"     \"zlmCond_all\"      \n"
     ]
    }
   ],
   "source": [
    "%%R\n",
    "# list all variables \n",
    "ls()"
   ]
  },
  {
   "cell_type": "code",
   "execution_count": 43,
   "metadata": {},
   "outputs": [],
   "source": [
    "%%R\n",
    "# remove previous variables\n",
    "\n",
    "rm(zlmCond_all)\n",
    "rm(summaryDt_all)\n",
    "rm(summaryCond_all)\n",
    "rm(MAST_raw_all)"
   ]
  },
  {
   "cell_type": "code",
   "execution_count": 44,
   "metadata": {},
   "outputs": [],
   "source": [
    "%%R \n",
    "#Define & run hurdle model \n",
    "zlmCond_all <- zlm(formula = ~condition + Female + n_genes, sca=sca_4) # this runs the model\n",
    "summaryCond_all <- summary(zlmCond_all, doLRT=TRUE) # extracts the data, gives datatable with summary of fit, doLRT=TRUE extracts likelihood ratio test p-value\n",
    "summaryDt_all <- summaryCond_all$datatable # reformats into a table"
   ]
  },
  {
   "cell_type": "code",
   "execution_count": 45,
   "metadata": {},
   "outputs": [
    {
     "name": "stdout",
     "output_type": "stream",
     "text": [
      "       primerid component        contrast   Pr..Chisq.       ci.hi       ci.lo\n",
      "1 0610009B22Rik         C      FemaleTRUE 3.568153e-01  0.02052194 -0.05815414\n",
      "2 0610009B22Rik         C   conditionGCSF 8.104646e-02  0.47901843 -0.02314259\n",
      "3 0610009B22Rik         C conditiondmPGE2 3.027419e-01  0.22457713 -0.06801481\n",
      "4 0610009B22Rik         C   conditionindo 9.760643e-01  0.25487731 -0.24706703\n",
      "5 0610009B22Rik         C         n_genes 7.906074e-39 -0.15249893 -0.19459720\n",
      "6 0610009B22Rik         C     (Intercept)           NA  0.77168387  0.47601809\n",
      "          coef            z\n",
      "1 -0.018816100  -0.93748646\n",
      "2  0.227937921   1.77931021\n",
      "3  0.078281161   1.04875247\n",
      "4  0.003905139   0.03049714\n",
      "5 -0.173548064 -16.15970919\n",
      "6  0.623850979   8.27099732\n"
     ]
    }
   ],
   "source": [
    "%%R\n",
    "head(summaryDt_all)"
   ]
  },
  {
   "cell_type": "code",
   "execution_count": 46,
   "metadata": {},
   "outputs": [],
   "source": [
    "%%R -o female_all -o GCSF_all -o dmPGE2_all -o indo_all -o pIC_all\n",
    "\n",
    "# reformat for female\n",
    "result_all_Female <- merge(summaryDt_all[contrast=='FemaleTRUE' & component=='H',.(primerid, `Pr(>Chisq)`)], #P-vals\n",
    "                  summaryDt_all[contrast=='FemaleTRUE' & component=='logFC', .(primerid, coef)],\n",
    "                  by='primerid') #logFC coefficients\n",
    "#Correct for multiple testing (FDR correction) and filtering\n",
    "result_all_Female[,FDR:=p.adjust(`Pr(>Chisq)`, 'fdr')] # create column named FDR - probably that p.adjust function\n",
    "female_all = result_all_Female[result_all_Female$FDR<0.01,, drop=F] # create new table where rows with FDR<0.01 are droped\n",
    "female_all = female_all[order(female_all$FDR),] # sorts the table\n",
    "\n",
    "\n",
    "# reformat for GCSF\n",
    "result_all_GCSF <- merge(summaryDt_all[contrast=='conditionGCSF' & component=='H',.(primerid, `Pr(>Chisq)`)], #P-vals\n",
    "                  summaryDt_all[contrast=='conditionGCSF' & component=='logFC', .(primerid, coef)],\n",
    "                  by='primerid') #logFC coefficients\n",
    "#Correct for multiple testing (FDR correction) and filtering\n",
    "result_all_GCSF[,FDR:=p.adjust(`Pr(>Chisq)`, 'fdr')] # create column named FDR - probably that p.adjust function\n",
    "GCSF_all = result_all_GCSF[result_all_GCSF$FDR<0.01,, drop=F] # create new table where rows with FDR<0.01 are droped\n",
    "GCSF_all = GCSF_all[order(GCSF_all$FDR),] # sorts the table\n",
    "\n",
    "\n",
    "# reformat for dmPGE2\n",
    "result_all_dmPGE2 <- merge(summaryDt_all[contrast=='conditiondmPGE2' & component=='H',.(primerid, `Pr(>Chisq)`)], #P-vals\n",
    "                  summaryDt_all[contrast=='conditiondmPGE2' & component=='logFC', .(primerid, coef)],\n",
    "                  by='primerid') #logFC coefficients\n",
    "#Correct for multiple testing (FDR correction) and filtering\n",
    "result_all_dmPGE2[,FDR:=p.adjust(`Pr(>Chisq)`, 'fdr')] # create column named FDR - probably that p.adjust function\n",
    "dmPGE2_all = result_all_dmPGE2[result_all_dmPGE2$FDR<0.01,, drop=F] # create new table where rows with FDR<0.01 are droped\n",
    "dmPGE2_all = dmPGE2_all[order(dmPGE2_all$FDR),] # sorts the table\n",
    "\n",
    "\n",
    "# reformat for indo\n",
    "result_all_indo <- merge(summaryDt_all[contrast=='conditionindo' & component=='H',.(primerid, `Pr(>Chisq)`)], #P-vals\n",
    "                  summaryDt_all[contrast=='conditionindo' & component=='logFC', .(primerid, coef)],\n",
    "                  by='primerid') #logFC coefficients\n",
    "#Correct for multiple testing (FDR correction) and filtering\n",
    "result_all_indo[,FDR:=p.adjust(`Pr(>Chisq)`, 'fdr')] # create column named FDR - probably that p.adjust function\n",
    "indo_all = result_all_indo[result_all_indo$FDR<0.01,, drop=F] # create new table where rows with FDR<0.01 are droped\n",
    "indo_all = indo_all[order(indo_all$FDR),] # sorts the table\n",
    "\n",
    "# reformat for pIC\n",
    "result_all_pIC <- merge(summaryDt_all[contrast=='conditionpIC' & component=='H',.(primerid, `Pr(>Chisq)`)], #P-vals\n",
    "                  summaryDt_all[contrast=='conditionpIC' & component=='logFC', .(primerid, coef)],\n",
    "                  by='primerid') #logFC coefficients\n",
    "#Correct for multiple testing (FDR correction) and filtering\n",
    "result_all_pIC[,FDR:=p.adjust(`Pr(>Chisq)`, 'fdr')] # create column named FDR - probably that p.adjust function\n",
    "pIC_all = result_all_pIC[result_all_pIC$FDR<0.01,, drop=F] # create new table where rows with FDR<0.01 are droped\n",
    "pIC_all = pIC_all[order(pIC_all$FDR),] # sorts the table"
   ]
  },
  {
   "cell_type": "code",
   "execution_count": 47,
   "metadata": {},
   "outputs": [],
   "source": [
    "%%R -o MAST_raw_all\n",
    "\n",
    "MAST_raw_all <- summaryDt_all"
   ]
  },
  {
   "cell_type": "code",
   "execution_count": 48,
   "metadata": {},
   "outputs": [],
   "source": [
    "# save files as .csvs\n",
    "\n",
    "MAST_raw_all.to_csv('./write/MPP_MAST_raw_4.csv')\n",
    "female_all.to_csv('./write/MPP_MAST_female_4.csv')\n",
    "GCSF_all.to_csv('./write/MPP_MAST_GCSF_4.csv')\n",
    "pIC_all.to_csv('./write/MPP_MAST_pIC_4.csv')\n",
    "dmPGE2_all.to_csv('./write/MPP_MAST_dmPGE2_4.csv')\n",
    "indo_all.to_csv('./write/MPP_MAST_indo_4.csv')"
   ]
  },
  {
   "cell_type": "markdown",
   "metadata": {},
   "source": [
    "#### cluster 5"
   ]
  },
  {
   "cell_type": "code",
   "execution_count": 49,
   "metadata": {},
   "outputs": [
    {
     "name": "stdout",
     "output_type": "stream",
     "text": [
      " [1] \"adata_raw\"         \"cond\"              \"dmPGE2_all\"       \n",
      " [4] \"expressed_genes\"   \"female_all\"        \"freq_expressed\"   \n",
      " [7] \"GCSF_all\"          \"indo_all\"          \"MAST_raw_all\"     \n",
      "[10] \"pIC_all\"           \"result_all_dmPGE2\" \"result_all_Female\"\n",
      "[13] \"result_all_GCSF\"   \"result_all_indo\"   \"result_all_pIC\"   \n",
      "[16] \"sca\"               \"sca_0\"             \"sca_0_filt\"       \n",
      "[19] \"sca_1\"             \"sca_1_filt\"        \"sca_2\"            \n",
      "[22] \"sca_2_filt\"        \"sca_3\"             \"sca_3_filt\"       \n",
      "[25] \"sca_4\"             \"sca_4_filt\"        \"sca_5\"            \n",
      "[28] \"sca_5_filt\"        \"sca_6\"             \"sca_6_filt\"       \n",
      "[31] \"sca_7\"             \"sca_7_filt\"        \"summaryCond_all\"  \n",
      "[34] \"summaryDt_all\"     \"zlmCond_all\"      \n"
     ]
    }
   ],
   "source": [
    "%%R\n",
    "# list all variables \n",
    "ls()"
   ]
  },
  {
   "cell_type": "code",
   "execution_count": 50,
   "metadata": {},
   "outputs": [],
   "source": [
    "%%R\n",
    "# remove previous variables\n",
    "\n",
    "rm(zlmCond_all)\n",
    "rm(summaryDt_all)\n",
    "rm(summaryCond_all)\n",
    "rm(MAST_raw_all)"
   ]
  },
  {
   "cell_type": "code",
   "execution_count": 51,
   "metadata": {},
   "outputs": [],
   "source": [
    "%%R \n",
    "#Define & run hurdle model \n",
    "zlmCond_all <- zlm(formula = ~condition + Female + n_genes, sca=sca_5) # this runs the model\n",
    "summaryCond_all <- summary(zlmCond_all, doLRT=TRUE) # extracts the data, gives datatable with summary of fit, doLRT=TRUE extracts likelihood ratio test p-value\n",
    "summaryDt_all <- summaryCond_all$datatable # reformats into a table"
   ]
  },
  {
   "cell_type": "code",
   "execution_count": 52,
   "metadata": {},
   "outputs": [
    {
     "name": "stdout",
     "output_type": "stream",
     "text": [
      "       primerid component        contrast   Pr..Chisq.        ci.hi       ci.lo\n",
      "1 0610009B22Rik         C      FemaleTRUE 9.361584e-02  0.006175291 -0.08598613\n",
      "2 0610009B22Rik         C   conditionGCSF 1.000000e+00 -0.060540833 -0.50901154\n",
      "3 0610009B22Rik         C conditiondmPGE2 1.000000e+00           NA          NA\n",
      "4 0610009B22Rik         C   conditionindo 1.000000e+00  0.344282726  0.06120433\n",
      "5 0610009B22Rik         C    conditionpIC 1.000000e+00           NA          NA\n",
      "6 0610009B22Rik         C         n_genes 4.243372e-23 -0.123405931 -0.17436250\n",
      "         coef          z\n",
      "1 -0.03990542  -1.697309\n",
      "2 -0.28477618  -2.489131\n",
      "3          NA         NA\n",
      "4  0.20274353   2.807491\n",
      "5          NA         NA\n",
      "6 -0.14888422 -11.453192\n"
     ]
    }
   ],
   "source": [
    "%%R\n",
    "head(summaryDt_all)"
   ]
  },
  {
   "cell_type": "code",
   "execution_count": 53,
   "metadata": {},
   "outputs": [],
   "source": [
    "%%R -o female_all -o GCSF_all -o dmPGE2_all -o indo_all -o pIC_all\n",
    "\n",
    "# reformat for female\n",
    "result_all_Female <- merge(summaryDt_all[contrast=='FemaleTRUE' & component=='H',.(primerid, `Pr(>Chisq)`)], #P-vals\n",
    "                  summaryDt_all[contrast=='FemaleTRUE' & component=='logFC', .(primerid, coef)],\n",
    "                  by='primerid') #logFC coefficients\n",
    "#Correct for multiple testing (FDR correction) and filtering\n",
    "result_all_Female[,FDR:=p.adjust(`Pr(>Chisq)`, 'fdr')] # create column named FDR - probably that p.adjust function\n",
    "female_all = result_all_Female[result_all_Female$FDR<0.01,, drop=F] # create new table where rows with FDR<0.01 are droped\n",
    "female_all = female_all[order(female_all$FDR),] # sorts the table\n",
    "\n",
    "\n",
    "# reformat for GCSF\n",
    "result_all_GCSF <- merge(summaryDt_all[contrast=='conditionGCSF' & component=='H',.(primerid, `Pr(>Chisq)`)], #P-vals\n",
    "                  summaryDt_all[contrast=='conditionGCSF' & component=='logFC', .(primerid, coef)],\n",
    "                  by='primerid') #logFC coefficients\n",
    "#Correct for multiple testing (FDR correction) and filtering\n",
    "result_all_GCSF[,FDR:=p.adjust(`Pr(>Chisq)`, 'fdr')] # create column named FDR - probably that p.adjust function\n",
    "GCSF_all = result_all_GCSF[result_all_GCSF$FDR<0.01,, drop=F] # create new table where rows with FDR<0.01 are droped\n",
    "GCSF_all = GCSF_all[order(GCSF_all$FDR),] # sorts the table\n",
    "\n",
    "\n",
    "# reformat for dmPGE2\n",
    "result_all_dmPGE2 <- merge(summaryDt_all[contrast=='conditiondmPGE2' & component=='H',.(primerid, `Pr(>Chisq)`)], #P-vals\n",
    "                  summaryDt_all[contrast=='conditiondmPGE2' & component=='logFC', .(primerid, coef)],\n",
    "                  by='primerid') #logFC coefficients\n",
    "#Correct for multiple testing (FDR correction) and filtering\n",
    "result_all_dmPGE2[,FDR:=p.adjust(`Pr(>Chisq)`, 'fdr')] # create column named FDR - probably that p.adjust function\n",
    "dmPGE2_all = result_all_dmPGE2[result_all_dmPGE2$FDR<0.01,, drop=F] # create new table where rows with FDR<0.01 are droped\n",
    "dmPGE2_all = dmPGE2_all[order(dmPGE2_all$FDR),] # sorts the table\n",
    "\n",
    "\n",
    "# reformat for indo\n",
    "result_all_indo <- merge(summaryDt_all[contrast=='conditionindo' & component=='H',.(primerid, `Pr(>Chisq)`)], #P-vals\n",
    "                  summaryDt_all[contrast=='conditionindo' & component=='logFC', .(primerid, coef)],\n",
    "                  by='primerid') #logFC coefficients\n",
    "#Correct for multiple testing (FDR correction) and filtering\n",
    "result_all_indo[,FDR:=p.adjust(`Pr(>Chisq)`, 'fdr')] # create column named FDR - probably that p.adjust function\n",
    "indo_all = result_all_indo[result_all_indo$FDR<0.01,, drop=F] # create new table where rows with FDR<0.01 are droped\n",
    "indo_all = indo_all[order(indo_all$FDR),] # sorts the table\n",
    "\n",
    "# reformat for pIC\n",
    "result_all_pIC <- merge(summaryDt_all[contrast=='conditionpIC' & component=='H',.(primerid, `Pr(>Chisq)`)], #P-vals\n",
    "                  summaryDt_all[contrast=='conditionpIC' & component=='logFC', .(primerid, coef)],\n",
    "                  by='primerid') #logFC coefficients\n",
    "#Correct for multiple testing (FDR correction) and filtering\n",
    "result_all_pIC[,FDR:=p.adjust(`Pr(>Chisq)`, 'fdr')] # create column named FDR - probably that p.adjust function\n",
    "pIC_all = result_all_pIC[result_all_pIC$FDR<0.01,, drop=F] # create new table where rows with FDR<0.01 are droped\n",
    "pIC_all = pIC_all[order(pIC_all$FDR),] # sorts the table"
   ]
  },
  {
   "cell_type": "code",
   "execution_count": 54,
   "metadata": {},
   "outputs": [],
   "source": [
    "%%R -o MAST_raw_all\n",
    "\n",
    "MAST_raw_all <- summaryDt_all"
   ]
  },
  {
   "cell_type": "code",
   "execution_count": 55,
   "metadata": {},
   "outputs": [],
   "source": [
    "# save files as .csvs\n",
    "\n",
    "MAST_raw_all.to_csv('./write/MPP_MAST_raw_5.csv')\n",
    "female_all.to_csv('./write/MPP_MAST_female_5.csv')\n",
    "GCSF_all.to_csv('./write/MPP_MAST_GCSF_5.csv')\n",
    "pIC_all.to_csv('./write/MPP_MAST_pIC_5.csv')\n",
    "dmPGE2_all.to_csv('./write/MPP_MAST_dmPGE2_5.csv')\n",
    "indo_all.to_csv('./write/MPP_MAST_indo_5.csv')"
   ]
  },
  {
   "cell_type": "markdown",
   "metadata": {},
   "source": [
    "#### cluster 6"
   ]
  },
  {
   "cell_type": "code",
   "execution_count": 56,
   "metadata": {},
   "outputs": [
    {
     "name": "stdout",
     "output_type": "stream",
     "text": [
      " [1] \"adata_raw\"         \"cond\"              \"dmPGE2_all\"       \n",
      " [4] \"expressed_genes\"   \"female_all\"        \"freq_expressed\"   \n",
      " [7] \"GCSF_all\"          \"indo_all\"          \"MAST_raw_all\"     \n",
      "[10] \"pIC_all\"           \"result_all_dmPGE2\" \"result_all_Female\"\n",
      "[13] \"result_all_GCSF\"   \"result_all_indo\"   \"result_all_pIC\"   \n",
      "[16] \"sca\"               \"sca_0\"             \"sca_0_filt\"       \n",
      "[19] \"sca_1\"             \"sca_1_filt\"        \"sca_2\"            \n",
      "[22] \"sca_2_filt\"        \"sca_3\"             \"sca_3_filt\"       \n",
      "[25] \"sca_4\"             \"sca_4_filt\"        \"sca_5\"            \n",
      "[28] \"sca_5_filt\"        \"sca_6\"             \"sca_6_filt\"       \n",
      "[31] \"sca_7\"             \"sca_7_filt\"        \"summaryCond_all\"  \n",
      "[34] \"summaryDt_all\"     \"zlmCond_all\"      \n"
     ]
    }
   ],
   "source": [
    "%%R\n",
    "# list all variables \n",
    "ls()"
   ]
  },
  {
   "cell_type": "code",
   "execution_count": 57,
   "metadata": {},
   "outputs": [],
   "source": [
    "%%R\n",
    "# remove previous variables\n",
    "\n",
    "rm(zlmCond_all)\n",
    "rm(summaryDt_all)\n",
    "rm(summaryCond_all)\n",
    "rm(MAST_raw_all)"
   ]
  },
  {
   "cell_type": "code",
   "execution_count": 58,
   "metadata": {},
   "outputs": [],
   "source": [
    "%%R \n",
    "#Define & run hurdle model \n",
    "zlmCond_all <- zlm(formula = ~condition + Female + n_genes, sca=sca_6) # this runs the model\n",
    "summaryCond_all <- summary(zlmCond_all, doLRT=TRUE) # extracts the data, gives datatable with summary of fit, doLRT=TRUE extracts likelihood ratio test p-value\n",
    "summaryDt_all <- summaryCond_all$datatable # reformats into a table"
   ]
  },
  {
   "cell_type": "code",
   "execution_count": 59,
   "metadata": {},
   "outputs": [
    {
     "name": "stdout",
     "output_type": "stream",
     "text": [
      "       primerid component      contrast Pr..Chisq.       ci.hi      ci.lo\n",
      "1 0610009B22Rik         C    FemaleTRUE 0.10105019  0.01002705 -0.1118778\n",
      "2 0610009B22Rik         C conditionGCSF 0.63827942  0.23384126 -0.3799781\n",
      "3 0610009B22Rik         C conditionindo 0.62368761  0.23009341 -0.3822517\n",
      "4 0610009B22Rik         C       n_genes 0.00257002 -0.03436084 -0.1569249\n",
      "5 0610009B22Rik         C   (Intercept)         NA  0.74202129  0.5372715\n",
      "6 0610009B22Rik         D    FemaleTRUE 0.53504709  0.40185442 -0.7470822\n",
      "         coef          z\n",
      "1 -0.05092538 -1.6375377\n",
      "2 -0.07306842 -0.4666242\n",
      "3 -0.07607913 -0.4870207\n",
      "4 -0.09564289 -3.0589158\n",
      "5  0.63964638 12.2460064\n",
      "6 -0.17261389 -0.5889220\n"
     ]
    }
   ],
   "source": [
    "%%R\n",
    "head(summaryDt_all)"
   ]
  },
  {
   "cell_type": "code",
   "execution_count": 60,
   "metadata": {},
   "outputs": [],
   "source": [
    "%%R -o female_all -o GCSF_all -o dmPGE2_all -o indo_all -o pIC_all\n",
    "\n",
    "# reformat for female\n",
    "result_all_Female <- merge(summaryDt_all[contrast=='FemaleTRUE' & component=='H',.(primerid, `Pr(>Chisq)`)], #P-vals\n",
    "                  summaryDt_all[contrast=='FemaleTRUE' & component=='logFC', .(primerid, coef)],\n",
    "                  by='primerid') #logFC coefficients\n",
    "#Correct for multiple testing (FDR correction) and filtering\n",
    "result_all_Female[,FDR:=p.adjust(`Pr(>Chisq)`, 'fdr')] # create column named FDR - probably that p.adjust function\n",
    "female_all = result_all_Female[result_all_Female$FDR<0.01,, drop=F] # create new table where rows with FDR<0.01 are droped\n",
    "female_all = female_all[order(female_all$FDR),] # sorts the table\n",
    "\n",
    "\n",
    "# reformat for GCSF\n",
    "result_all_GCSF <- merge(summaryDt_all[contrast=='conditionGCSF' & component=='H',.(primerid, `Pr(>Chisq)`)], #P-vals\n",
    "                  summaryDt_all[contrast=='conditionGCSF' & component=='logFC', .(primerid, coef)],\n",
    "                  by='primerid') #logFC coefficients\n",
    "#Correct for multiple testing (FDR correction) and filtering\n",
    "result_all_GCSF[,FDR:=p.adjust(`Pr(>Chisq)`, 'fdr')] # create column named FDR - probably that p.adjust function\n",
    "GCSF_all = result_all_GCSF[result_all_GCSF$FDR<0.01,, drop=F] # create new table where rows with FDR<0.01 are droped\n",
    "GCSF_all = GCSF_all[order(GCSF_all$FDR),] # sorts the table\n",
    "\n",
    "\n",
    "# reformat for dmPGE2\n",
    "result_all_dmPGE2 <- merge(summaryDt_all[contrast=='conditiondmPGE2' & component=='H',.(primerid, `Pr(>Chisq)`)], #P-vals\n",
    "                  summaryDt_all[contrast=='conditiondmPGE2' & component=='logFC', .(primerid, coef)],\n",
    "                  by='primerid') #logFC coefficients\n",
    "#Correct for multiple testing (FDR correction) and filtering\n",
    "result_all_dmPGE2[,FDR:=p.adjust(`Pr(>Chisq)`, 'fdr')] # create column named FDR - probably that p.adjust function\n",
    "dmPGE2_all = result_all_dmPGE2[result_all_dmPGE2$FDR<0.01,, drop=F] # create new table where rows with FDR<0.01 are droped\n",
    "dmPGE2_all = dmPGE2_all[order(dmPGE2_all$FDR),] # sorts the table\n",
    "\n",
    "\n",
    "# reformat for indo\n",
    "result_all_indo <- merge(summaryDt_all[contrast=='conditionindo' & component=='H',.(primerid, `Pr(>Chisq)`)], #P-vals\n",
    "                  summaryDt_all[contrast=='conditionindo' & component=='logFC', .(primerid, coef)],\n",
    "                  by='primerid') #logFC coefficients\n",
    "#Correct for multiple testing (FDR correction) and filtering\n",
    "result_all_indo[,FDR:=p.adjust(`Pr(>Chisq)`, 'fdr')] # create column named FDR - probably that p.adjust function\n",
    "indo_all = result_all_indo[result_all_indo$FDR<0.01,, drop=F] # create new table where rows with FDR<0.01 are droped\n",
    "indo_all = indo_all[order(indo_all$FDR),] # sorts the table\n",
    "\n",
    "# reformat for pIC\n",
    "result_all_pIC <- merge(summaryDt_all[contrast=='conditionpIC' & component=='H',.(primerid, `Pr(>Chisq)`)], #P-vals\n",
    "                  summaryDt_all[contrast=='conditionpIC' & component=='logFC', .(primerid, coef)],\n",
    "                  by='primerid') #logFC coefficients\n",
    "#Correct for multiple testing (FDR correction) and filtering\n",
    "result_all_pIC[,FDR:=p.adjust(`Pr(>Chisq)`, 'fdr')] # create column named FDR - probably that p.adjust function\n",
    "pIC_all = result_all_pIC[result_all_pIC$FDR<0.01,, drop=F] # create new table where rows with FDR<0.01 are droped\n",
    "pIC_all = pIC_all[order(pIC_all$FDR),] # sorts the table"
   ]
  },
  {
   "cell_type": "code",
   "execution_count": 61,
   "metadata": {},
   "outputs": [],
   "source": [
    "%%R -o MAST_raw_all\n",
    "\n",
    "MAST_raw_all <- summaryDt_all"
   ]
  },
  {
   "cell_type": "code",
   "execution_count": 62,
   "metadata": {},
   "outputs": [],
   "source": [
    "# save files as .csvs\n",
    "\n",
    "MAST_raw_all.to_csv('./write/MPP_MAST_raw_6.csv')\n",
    "female_all.to_csv('./write/MPP_MAST_female_6.csv')\n",
    "GCSF_all.to_csv('./write/MPP_MAST_GCSF_6.csv')\n",
    "pIC_all.to_csv('./write/MPP_MAST_pIC_6.csv')\n",
    "dmPGE2_all.to_csv('./write/MPP_MAST_dmPGE2_6.csv')\n",
    "indo_all.to_csv('./write/MPP_MAST_indo_6.csv')"
   ]
  },
  {
   "cell_type": "markdown",
   "metadata": {},
   "source": [
    "#### cluster 7"
   ]
  },
  {
   "cell_type": "code",
   "execution_count": 63,
   "metadata": {},
   "outputs": [
    {
     "name": "stdout",
     "output_type": "stream",
     "text": [
      " [1] \"adata_raw\"         \"cond\"              \"dmPGE2_all\"       \n",
      " [4] \"expressed_genes\"   \"female_all\"        \"freq_expressed\"   \n",
      " [7] \"GCSF_all\"          \"indo_all\"          \"MAST_raw_all\"     \n",
      "[10] \"pIC_all\"           \"result_all_dmPGE2\" \"result_all_Female\"\n",
      "[13] \"result_all_GCSF\"   \"result_all_indo\"   \"result_all_pIC\"   \n",
      "[16] \"sca\"               \"sca_0\"             \"sca_0_filt\"       \n",
      "[19] \"sca_1\"             \"sca_1_filt\"        \"sca_2\"            \n",
      "[22] \"sca_2_filt\"        \"sca_3\"             \"sca_3_filt\"       \n",
      "[25] \"sca_4\"             \"sca_4_filt\"        \"sca_5\"            \n",
      "[28] \"sca_5_filt\"        \"sca_6\"             \"sca_6_filt\"       \n",
      "[31] \"sca_7\"             \"sca_7_filt\"        \"summaryCond_all\"  \n",
      "[34] \"summaryDt_all\"     \"zlmCond_all\"      \n"
     ]
    }
   ],
   "source": [
    "%%R\n",
    "# list all variables \n",
    "ls()"
   ]
  },
  {
   "cell_type": "code",
   "execution_count": 64,
   "metadata": {},
   "outputs": [],
   "source": [
    "%%R\n",
    "# remove previous variables\n",
    "\n",
    "rm(zlmCond_all)\n",
    "rm(summaryDt_all)\n",
    "rm(summaryCond_all)\n",
    "rm(MAST_raw_all)"
   ]
  },
  {
   "cell_type": "code",
   "execution_count": 65,
   "metadata": {},
   "outputs": [],
   "source": [
    "%%R \n",
    "#Define & run hurdle model \n",
    "zlmCond_all <- zlm(formula = ~condition + Female + n_genes, sca=sca_7) # this runs the model\n",
    "summaryCond_all <- summary(zlmCond_all, doLRT=TRUE) # extracts the data, gives datatable with summary of fit, doLRT=TRUE extracts likelihood ratio test p-value\n",
    "summaryDt_all <- summaryCond_all$datatable # reformats into a table"
   ]
  },
  {
   "cell_type": "code",
   "execution_count": 66,
   "metadata": {},
   "outputs": [
    {
     "name": "stdout",
     "output_type": "stream",
     "text": [
      "       primerid component        contrast Pr..Chisq.       ci.hi       ci.lo\n",
      "1 0610009B22Rik         C      FemaleTRUE 0.17215376  0.03564091 -0.20239787\n",
      "2 0610009B22Rik         C   conditionGCSF 1.00000000  0.47774010  0.12466209\n",
      "3 0610009B22Rik         C conditiondmPGE2 1.00000000  0.19183367 -0.10632129\n",
      "4 0610009B22Rik         C   conditionindo 1.00000000  0.38206226 -0.01790786\n",
      "5 0610009B22Rik         C    conditionpIC 1.00000000          NA          NA\n",
      "6 0610009B22Rik         C         n_genes 0.01136561 -0.02423996 -0.16466593\n",
      "         coef          z\n",
      "1 -0.08337848 -1.3730437\n",
      "2  0.30120109  3.3439822\n",
      "3  0.04275619  0.5621278\n",
      "4  0.18207720  1.7844570\n",
      "5          NA         NA\n",
      "6 -0.09445295 -2.6366116\n"
     ]
    }
   ],
   "source": [
    "%%R\n",
    "head(summaryDt_all)"
   ]
  },
  {
   "cell_type": "code",
   "execution_count": 67,
   "metadata": {},
   "outputs": [],
   "source": [
    "%%R -o female_all -o GCSF_all -o dmPGE2_all -o indo_all -o pIC_all\n",
    "\n",
    "# reformat for female\n",
    "result_all_Female <- merge(summaryDt_all[contrast=='FemaleTRUE' & component=='H',.(primerid, `Pr(>Chisq)`)], #P-vals\n",
    "                  summaryDt_all[contrast=='FemaleTRUE' & component=='logFC', .(primerid, coef)],\n",
    "                  by='primerid') #logFC coefficients\n",
    "#Correct for multiple testing (FDR correction) and filtering\n",
    "result_all_Female[,FDR:=p.adjust(`Pr(>Chisq)`, 'fdr')] # create column named FDR - probably that p.adjust function\n",
    "female_all = result_all_Female[result_all_Female$FDR<0.01,, drop=F] # create new table where rows with FDR<0.01 are droped\n",
    "female_all = female_all[order(female_all$FDR),] # sorts the table\n",
    "\n",
    "\n",
    "# reformat for GCSF\n",
    "result_all_GCSF <- merge(summaryDt_all[contrast=='conditionGCSF' & component=='H',.(primerid, `Pr(>Chisq)`)], #P-vals\n",
    "                  summaryDt_all[contrast=='conditionGCSF' & component=='logFC', .(primerid, coef)],\n",
    "                  by='primerid') #logFC coefficients\n",
    "#Correct for multiple testing (FDR correction) and filtering\n",
    "result_all_GCSF[,FDR:=p.adjust(`Pr(>Chisq)`, 'fdr')] # create column named FDR - probably that p.adjust function\n",
    "GCSF_all = result_all_GCSF[result_all_GCSF$FDR<0.01,, drop=F] # create new table where rows with FDR<0.01 are droped\n",
    "GCSF_all = GCSF_all[order(GCSF_all$FDR),] # sorts the table\n",
    "\n",
    "\n",
    "# reformat for dmPGE2\n",
    "result_all_dmPGE2 <- merge(summaryDt_all[contrast=='conditiondmPGE2' & component=='H',.(primerid, `Pr(>Chisq)`)], #P-vals\n",
    "                  summaryDt_all[contrast=='conditiondmPGE2' & component=='logFC', .(primerid, coef)],\n",
    "                  by='primerid') #logFC coefficients\n",
    "#Correct for multiple testing (FDR correction) and filtering\n",
    "result_all_dmPGE2[,FDR:=p.adjust(`Pr(>Chisq)`, 'fdr')] # create column named FDR - probably that p.adjust function\n",
    "dmPGE2_all = result_all_dmPGE2[result_all_dmPGE2$FDR<0.01,, drop=F] # create new table where rows with FDR<0.01 are droped\n",
    "dmPGE2_all = dmPGE2_all[order(dmPGE2_all$FDR),] # sorts the table\n",
    "\n",
    "\n",
    "# reformat for indo\n",
    "result_all_indo <- merge(summaryDt_all[contrast=='conditionindo' & component=='H',.(primerid, `Pr(>Chisq)`)], #P-vals\n",
    "                  summaryDt_all[contrast=='conditionindo' & component=='logFC', .(primerid, coef)],\n",
    "                  by='primerid') #logFC coefficients\n",
    "#Correct for multiple testing (FDR correction) and filtering\n",
    "result_all_indo[,FDR:=p.adjust(`Pr(>Chisq)`, 'fdr')] # create column named FDR - probably that p.adjust function\n",
    "indo_all = result_all_indo[result_all_indo$FDR<0.01,, drop=F] # create new table where rows with FDR<0.01 are droped\n",
    "indo_all = indo_all[order(indo_all$FDR),] # sorts the table\n",
    "\n",
    "# reformat for pIC\n",
    "result_all_pIC <- merge(summaryDt_all[contrast=='conditionpIC' & component=='H',.(primerid, `Pr(>Chisq)`)], #P-vals\n",
    "                  summaryDt_all[contrast=='conditionpIC' & component=='logFC', .(primerid, coef)],\n",
    "                  by='primerid') #logFC coefficients\n",
    "#Correct for multiple testing (FDR correction) and filtering\n",
    "result_all_pIC[,FDR:=p.adjust(`Pr(>Chisq)`, 'fdr')] # create column named FDR - probably that p.adjust function\n",
    "pIC_all = result_all_pIC[result_all_pIC$FDR<0.01,, drop=F] # create new table where rows with FDR<0.01 are droped\n",
    "pIC_all = pIC_all[order(pIC_all$FDR),] # sorts the table"
   ]
  },
  {
   "cell_type": "code",
   "execution_count": 68,
   "metadata": {},
   "outputs": [],
   "source": [
    "%%R -o MAST_raw_all\n",
    "\n",
    "MAST_raw_all <- summaryDt_all"
   ]
  },
  {
   "cell_type": "code",
   "execution_count": 69,
   "metadata": {},
   "outputs": [],
   "source": [
    "# save files as .csvs\n",
    "\n",
    "MAST_raw_all.to_csv('./write/MPP_MAST_raw_7.csv')\n",
    "female_all.to_csv('./write/MPP_MAST_female_7.csv')\n",
    "GCSF_all.to_csv('./write/MPP_MAST_GCSF_7.csv')\n",
    "pIC_all.to_csv('./write/MPP_MAST_pIC_7.csv')\n",
    "dmPGE2_all.to_csv('./write/MPP_MAST_dmPGE2_7.csv')\n",
    "indo_all.to_csv('./write/MPP_MAST_indo_7.csv')"
   ]
  },
  {
   "cell_type": "code",
   "execution_count": 70,
   "metadata": {},
   "outputs": [
    {
     "name": "stdout",
     "output_type": "stream",
     "text": [
      "scanpy==1.4.5.1 anndata==0.7.1 umap==0.3.10 numpy==1.17.3 scipy==1.3.0 pandas==0.25.3 scikit-learn==0.22.2.post1 statsmodels==0.10.0 python-igraph==0.7.1 louvain==0.6.1\n",
      "\n",
      "INSTALLED VERSIONS\n",
      "------------------\n",
      "commit           : None\n",
      "python           : 3.7.3.final.0\n",
      "python-bits      : 64\n",
      "OS               : Linux\n",
      "OS-release       : 4.19.76-linuxkit\n",
      "machine          : x86_64\n",
      "processor        : x86_64\n",
      "byteorder        : little\n",
      "LC_ALL           : en_US.UTF-8\n",
      "LANG             : en_US.UTF-8\n",
      "LOCALE           : en_US.UTF-8\n",
      "\n",
      "pandas           : 0.25.3\n",
      "numpy            : 1.17.3\n",
      "pytz             : 2019.3\n",
      "dateutil         : 2.8.1\n",
      "pip              : 19.3.1\n",
      "setuptools       : 41.6.0.post20191101\n",
      "Cython           : None\n",
      "pytest           : 5.3.5\n",
      "hypothesis       : None\n",
      "sphinx           : None\n",
      "blosc            : None\n",
      "feather          : None\n",
      "xlsxwriter       : None\n",
      "lxml.etree       : None\n",
      "html5lib         : None\n",
      "pymysql          : None\n",
      "psycopg2         : None\n",
      "jinja2           : 2.10.3\n",
      "IPython          : 7.9.0\n",
      "pandas_datareader: None\n",
      "bs4              : None\n",
      "bottleneck       : None\n",
      "fastparquet      : None\n",
      "gcsfs            : None\n",
      "lxml.etree       : None\n",
      "matplotlib       : 3.2.0\n",
      "numexpr          : 2.7.1\n",
      "odfpy            : None\n",
      "openpyxl         : None\n",
      "pandas_gbq       : None\n",
      "pyarrow          : None\n",
      "pytables         : None\n",
      "s3fs             : None\n",
      "scipy            : 1.3.0\n",
      "sqlalchemy       : 1.3.10\n",
      "tables           : 3.6.1\n",
      "xarray           : None\n",
      "xlrd             : None\n",
      "xlwt             : None\n",
      "xlsxwriter       : None\n"
     ]
    }
   ],
   "source": [
    "sc.logging.print_versions()\n",
    "pd.show_versions()"
   ]
  },
  {
   "cell_type": "code",
   "execution_count": 71,
   "metadata": {},
   "outputs": [
    {
     "name": "stdout",
     "output_type": "stream",
     "text": [
      "R version 3.6.1 (2019-07-05)\n",
      "Platform: x86_64-conda_cos6-linux-gnu (64-bit)\n",
      "Running under: Ubuntu 18.04.2 LTS\n",
      "\n",
      "Matrix products: default\n",
      "BLAS/LAPACK: /opt/conda/lib/libopenblasp-r0.3.7.so\n",
      "\n",
      "locale:\n",
      " [1] LC_CTYPE=en_US.UTF-8       LC_NUMERIC=C              \n",
      " [3] LC_TIME=en_US.UTF-8        LC_COLLATE=en_US.UTF-8    \n",
      " [5] LC_MONETARY=en_US.UTF-8    LC_MESSAGES=en_US.UTF-8   \n",
      " [7] LC_PAPER=en_US.UTF-8       LC_NAME=C                 \n",
      " [9] LC_ADDRESS=C               LC_TELEPHONE=C            \n",
      "[11] LC_MEASUREMENT=en_US.UTF-8 LC_IDENTIFICATION=C       \n",
      "\n",
      "attached base packages:\n",
      " [1] parallel  stats4    tools     stats     graphics  grDevices utils    \n",
      " [8] datasets  methods   base     \n",
      "\n",
      "other attached packages:\n",
      " [1] Matrix_1.2-17               MAST_1.12.0                \n",
      " [3] plyr_1.8.4                  ggplot2_3.2.1              \n",
      " [5] scran_1.14.1                SingleCellExperiment_1.8.0 \n",
      " [7] SummarizedExperiment_1.16.0 DelayedArray_0.12.0        \n",
      " [9] BiocParallel_1.20.0         matrixStats_0.55.0         \n",
      "[11] Biobase_2.46.0              GenomicRanges_1.38.0       \n",
      "[13] GenomeInfoDb_1.22.0         IRanges_2.20.0             \n",
      "[15] S4Vectors_0.24.0            BiocGenerics_0.32.0        \n",
      "\n",
      "loaded via a namespace (and not attached):\n",
      " [1] Rcpp_1.0.3               rsvd_1.0.2               locfit_1.5-9.1          \n",
      " [4] lattice_0.20-38          prettyunits_1.0.2        zeallot_0.1.0           \n",
      " [7] assertthat_0.2.1         R6_2.4.0                 backports_1.1.5         \n",
      "[10] pillar_1.4.2             progress_1.2.2           zlibbioc_1.32.0         \n",
      "[13] rlang_0.4.1              lazyeval_0.2.2           data.table_1.12.6       \n",
      "[16] irlba_2.3.3              BiocNeighbors_1.4.0      statmod_1.4.32          \n",
      "[19] stringr_1.4.0            igraph_1.2.4.2           RCurl_1.95-4.12         \n",
      "[22] munsell_0.5.0            compiler_3.6.1           vipor_0.4.5             \n",
      "[25] BiocSingular_1.2.0       pkgconfig_2.0.3          ggbeeswarm_0.6.0        \n",
      "[28] tidyselect_0.2.5         tibble_2.1.3             gridExtra_2.3           \n",
      "[31] GenomeInfoDbData_1.2.2   edgeR_3.28.0             viridisLite_0.3.0       \n",
      "[34] crayon_1.3.4             dplyr_0.8.3              withr_2.1.2             \n",
      "[37] bitops_1.0-6             grid_3.6.1               gtable_0.3.0            \n",
      "[40] magrittr_1.5             scales_1.0.0             dqrng_0.2.1             \n",
      "[43] stringi_1.4.3            reshape2_1.4.3           XVector_0.26.0          \n",
      "[46] viridis_0.5.1            limma_3.42.0             scater_1.14.0           \n",
      "[49] vctrs_0.2.0              DelayedMatrixStats_1.8.0 glue_1.3.1              \n",
      "[52] beeswarm_0.2.3           purrr_0.3.3              hms_0.5.2               \n",
      "[55] abind_1.4-5              colorspace_1.4-1        \n"
     ]
    }
   ],
   "source": [
    "%%R\n",
    "\n",
    "sessionInfo()"
   ]
  },
  {
   "cell_type": "code",
   "execution_count": null,
   "metadata": {},
   "outputs": [],
   "source": []
  },
  {
   "cell_type": "code",
   "execution_count": null,
   "metadata": {},
   "outputs": [],
   "source": []
  },
  {
   "cell_type": "code",
   "execution_count": null,
   "metadata": {},
   "outputs": [],
   "source": []
  },
  {
   "cell_type": "code",
   "execution_count": null,
   "metadata": {},
   "outputs": [],
   "source": []
  },
  {
   "cell_type": "code",
   "execution_count": null,
   "metadata": {},
   "outputs": [],
   "source": []
  },
  {
   "cell_type": "code",
   "execution_count": null,
   "metadata": {},
   "outputs": [],
   "source": []
  }
 ],
 "metadata": {
  "kernelspec": {
   "display_name": "Python 3",
   "language": "python",
   "name": "python3"
  },
  "language_info": {
   "codemirror_mode": {
    "name": "ipython",
    "version": 3
   },
   "file_extension": ".py",
   "mimetype": "text/x-python",
   "name": "python",
   "nbconvert_exporter": "python",
   "pygments_lexer": "ipython3",
   "version": "3.7.3"
  }
 },
 "nbformat": 4,
 "nbformat_minor": 4
}
