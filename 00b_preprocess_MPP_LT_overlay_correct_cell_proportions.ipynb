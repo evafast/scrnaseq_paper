{
 "cells": [
  {
   "cell_type": "markdown",
   "metadata": {},
   "source": [
    "# 00b preprocess MPP and LT overlay with correct cell proportions\n",
    "\n",
    "Assemble merged object of MPPs + LTs with correct cell proportions (from FACS)\n",
    "\n",
    "Run with this command in docker container\n",
    "\n",
    "docker run \\\n",
    "--rm \\\n",
    "-d \\\n",
    "--name demuxEM \\\n",
    "-p 8881:8888 \\\n",
    "-e JUPYTER_ENABLE_LAB=YES \\\n",
    "-v /Users/efast/Documents/:/home/jovyan/work \\\n",
    "pegasuspy_scanpy:vs1\n"
   ]
  },
  {
   "cell_type": "code",
   "execution_count": 1,
   "metadata": {},
   "outputs": [
    {
     "name": "stdin",
     "output_type": "stream",
     "text": [
      "Once deleted, variables cannot be recovered. Proceed (y/[n])?  y\n"
     ]
    }
   ],
   "source": [
    "%reset"
   ]
  },
  {
   "cell_type": "code",
   "execution_count": 2,
   "metadata": {
    "scrolled": true
   },
   "outputs": [],
   "source": [
    "import numpy as np\n",
    "import pandas as pd\n",
    "import scanpy as sc"
   ]
  },
  {
   "cell_type": "code",
   "execution_count": 3,
   "metadata": {},
   "outputs": [
    {
     "name": "stderr",
     "output_type": "stream",
     "text": [
      "... storing 'hto_type' as categorical\n",
      "... storing 'rna_type' as categorical\n",
      "... storing 'demux_type' as categorical\n",
      "... storing 'assignment' as categorical\n",
      "... storing 'feature_types' as categorical\n",
      "Trying to set attribute `.obs` of view, copying.\n",
      "... storing 'assignment' as categorical\n",
      "... storing 'feature_types' as categorical\n",
      "... storing 'hto_type' as categorical\n",
      "... storing 'rna_type' as categorical\n",
      "... storing 'demux_type' as categorical\n",
      "... storing 'assignment' as categorical\n",
      "... storing 'feature_types' as categorical\n",
      "Trying to set attribute `.obs` of view, copying.\n",
      "... storing 'assignment' as categorical\n",
      "... storing 'feature_types' as categorical\n",
      "... storing 'hto_type' as categorical\n",
      "... storing 'rna_type' as categorical\n",
      "... storing 'demux_type' as categorical\n",
      "... storing 'assignment' as categorical\n",
      "... storing 'feature_types' as categorical\n",
      "Trying to set attribute `.obs` of view, copying.\n",
      "... storing 'assignment' as categorical\n",
      "... storing 'feature_types' as categorical\n",
      "... storing 'hto_type' as categorical\n",
      "... storing 'rna_type' as categorical\n",
      "... storing 'demux_type' as categorical\n",
      "... storing 'assignment' as categorical\n",
      "... storing 'feature_types' as categorical\n",
      "Trying to set attribute `.obs` of view, copying.\n",
      "... storing 'assignment' as categorical\n",
      "... storing 'feature_types' as categorical\n",
      "... storing 'hto_type' as categorical\n",
      "... storing 'rna_type' as categorical\n",
      "... storing 'demux_type' as categorical\n",
      "... storing 'assignment' as categorical\n",
      "... storing 'feature_types' as categorical\n",
      "Trying to set attribute `.obs` of view, copying.\n",
      "... storing 'assignment' as categorical\n",
      "... storing 'feature_types' as categorical\n"
     ]
    }
   ],
   "source": [
    "## with LT-HSCs\n",
    "\n",
    "sample_strings = ['ct', 'dmPGE2', 'GCSF', 'indo', 'pIC']\n",
    "\n",
    "file_base = './raw_data/B_'\n",
    "file_end = '/outs/filtered_feature_bc_matrix'\n",
    "\n",
    "file_base_LT = './raw_data/A_'\n",
    "\n",
    "ann_base = './write/demux_adata_hto_'\n",
    "ann_end = '.csv'\n",
    "\n",
    "write_path_base = './sc_objects/demuxannotated_'\n",
    "write_path_end = '.h5ad'\n",
    "write_path_end_proportions = 'prop.h5ad'\n",
    "write_path_end_proportions_LT = '_LT_prop.h5ad'\n",
    "\n",
    "write_path_end_csv = 'counts.csv'\n",
    "\n",
    "proportions = pd.read_csv('./raw_data/cell_proportions_demux.csv', index_col= 0)\n",
    "\n",
    "for i in range(len(sample_strings)):\n",
    "    sample = sample_strings[i]\n",
    "    data_file = file_base+sample+file_end # assembles the name of the datafile\n",
    "    ann_file = ann_base+sample+ann_end\n",
    "    \n",
    "    adata = sc.read_10x_mtx(data_file, var_names='gene_symbols', cache=True)\n",
    "    ann = pd.read_csv( ann_file, index_col= 0)\n",
    "\n",
    "    adata.obs.index = adata.obs.index.map(lambda x: x.rstrip('-1')) # remove the '-1'\n",
    "    adata.obs = pd.merge(ann, adata.obs, how='right', left_index = True, right_index = True) # merge the ann and adata.obs\n",
    "    adata = adata[adata.obs['demux_type'] == 'singlet'] # filter and keep only singlets\n",
    "\n",
    "    HSPC_renaming = {'CD48LSK': 'MPP3/4', 'ST': 'MPP1'} # dictionary for renaming\n",
    "    adata.obs = adata.obs.replace(HSPC_renaming) #replace with new names\n",
    "    \n",
    "    category_counts = adata.obs.groupby(['assignment']).count()\n",
    "    del category_counts.index.name\n",
    "    \n",
    "    # write the file to disk\n",
    "    out_h5ad = write_path_base + sample + write_path_end\n",
    "    out_csv = write_path_base + sample + write_path_end_csv\n",
    "    \n",
    "    adata.write(out_h5ad)\n",
    "    category_counts.to_csv(out_csv)\n",
    "\n",
    "    count_MPP34 = category_counts.loc['MPP3/4','counts']\n",
    "    temp_df2 = adata.obs[adata.obs['assignment'] == 'MPP3/4'].sample(n= count_MPP34, random_state=1)\n",
    "    temp_df2['select_cells'] = 1\n",
    "\n",
    "    temp_df= []\n",
    "\n",
    "    sample_HSPCS = ['MPP2', 'MPP', 'MPP1']\n",
    "\n",
    "    for j in range(len(sample_HSPCS)):\n",
    "        sample_h = sample_HSPCS[j]\n",
    "\n",
    "        number = round(category_counts.loc['MPP3/4','hto_type'] * (proportions.loc[sample_h, sample]/proportions.loc['MPP3/4', sample]))\n",
    "        number = number.astype(int)\n",
    "\n",
    "        temp_df = adata.obs[adata.obs['assignment'] == sample_h].sample(n= number, random_state=1)\n",
    "        temp_df['select_cells'] = 1\n",
    "\n",
    "        temp_df2 = temp_df2.append(temp_df)\n",
    "    \n",
    "    # drop columns I don't need\n",
    "    temp_df2 = temp_df2.drop(columns=['counts', 'hto_type', 'rna_type', 'demux_type', 'assignment'])\n",
    "\n",
    "    # merge with adata.obs\n",
    "    adata.obs = pd.merge(temp_df2, adata.obs, how='right', left_index = True, right_index = True)\n",
    "\n",
    "    # make subselection of the adata dataframe\n",
    "    adata = adata[adata.obs['select_cells'] == 1] # filter and keep only singlets\n",
    "    \n",
    "    # LT\n",
    "    data_file_LT = file_base_LT+sample+file_end # assembles the name of the datafile\n",
    "        \n",
    "    adata_LT = sc.read_10x_mtx(data_file_LT, var_names='gene_symbols', cache=True)\n",
    "\n",
    "    number_LT = round(category_counts.loc['MPP3/4','hto_type'] * (proportions.loc['HSC', sample]/proportions.loc['MPP3/4', sample]))\n",
    "    number_LT = number_LT.astype(int)\n",
    "\n",
    "    temp_df3 = adata_LT.obs.sample(n= number_LT, random_state=1)\n",
    "    temp_df3['select_cells'] = 1\n",
    "\n",
    "     # merge with adata.obs\n",
    "    adata_LT.obs = pd.merge(temp_df3, adata_LT.obs, how='right', left_index = True, right_index = True)\n",
    "\n",
    "    adata_LT = adata_LT[adata_LT.obs['select_cells'] == 1] # filter and keep only singlets\n",
    "\n",
    "    adata_LT.obs['assignment'] = 'LT'\n",
    "    \n",
    "    #path out\n",
    "    out_h5ad_prop = write_path_base + sample + write_path_end_proportions\n",
    "    out_h5ad_prop_LT = write_path_base + sample +  write_path_end_proportions_LT\n",
    "    \n",
    "    adata.write(out_h5ad_prop)\n",
    "    adata_LT.write(out_h5ad_prop_LT)\n"
   ]
  },
  {
   "cell_type": "code",
   "execution_count": 4,
   "metadata": {},
   "outputs": [
    {
     "name": "stdout",
     "output_type": "stream",
     "text": [
      "scanpy==1.4.5.1 anndata==0.7.1 umap==0.3.10 numpy==1.17.3 scipy==1.3.0 pandas==0.25.3 scikit-learn==0.21.3 statsmodels==0.10.0 python-igraph==0.7.1 louvain==0.6.1.post1\n",
      "\n",
      "INSTALLED VERSIONS\n",
      "------------------\n",
      "commit           : None\n",
      "python           : 3.7.3.final.0\n",
      "python-bits      : 64\n",
      "OS               : Linux\n",
      "OS-release       : 4.19.76-linuxkit\n",
      "machine          : x86_64\n",
      "processor        : x86_64\n",
      "byteorder        : little\n",
      "LC_ALL           : en_US.UTF-8\n",
      "LANG             : en_US.UTF-8\n",
      "LOCALE           : en_US.UTF-8\n",
      "\n",
      "pandas           : 0.25.3\n",
      "numpy            : 1.17.3\n",
      "pytz             : 2019.3\n",
      "dateutil         : 2.8.1\n",
      "pip              : 19.3.1\n",
      "setuptools       : 41.6.0.post20191101\n",
      "Cython           : 0.29.14\n",
      "pytest           : None\n",
      "hypothesis       : None\n",
      "sphinx           : None\n",
      "blosc            : None\n",
      "feather          : None\n",
      "xlsxwriter       : 1.2.8\n",
      "lxml.etree       : None\n",
      "html5lib         : None\n",
      "pymysql          : None\n",
      "psycopg2         : None\n",
      "jinja2           : 2.10.3\n",
      "IPython          : 7.9.0\n",
      "pandas_datareader: None\n",
      "bs4              : 4.8.1\n",
      "bottleneck       : None\n",
      "fastparquet      : None\n",
      "gcsfs            : None\n",
      "lxml.etree       : None\n",
      "matplotlib       : 3.1.2\n",
      "numexpr          : 2.6.9\n",
      "odfpy            : None\n",
      "openpyxl         : None\n",
      "pandas_gbq       : None\n",
      "pyarrow          : 0.16.0\n",
      "pytables         : None\n",
      "s3fs             : None\n",
      "scipy            : 1.3.0\n",
      "sqlalchemy       : 1.3.10\n",
      "tables           : 3.6.1\n",
      "xarray           : None\n",
      "xlrd             : 1.2.0\n",
      "xlwt             : None\n",
      "xlsxwriter       : 1.2.8\n"
     ]
    }
   ],
   "source": [
    "sc.logging.print_versions()\n",
    "pd.show_versions()"
   ]
  },
  {
   "cell_type": "code",
   "execution_count": null,
   "metadata": {},
   "outputs": [],
   "source": []
  }
 ],
 "metadata": {
  "anaconda-cloud": {},
  "kernelspec": {
   "display_name": "Python 3",
   "language": "python",
   "name": "python3"
  },
  "language_info": {
   "codemirror_mode": {
    "name": "ipython",
    "version": 3
   },
   "file_extension": ".py",
   "mimetype": "text/x-python",
   "name": "python",
   "nbconvert_exporter": "python",
   "pygments_lexer": "ipython3",
   "version": "3.7.3"
  },
  "varInspector": {
   "cols": {
    "lenName": 16,
    "lenType": 16,
    "lenVar": 40
   },
   "kernels_config": {
    "python": {
     "delete_cmd_postfix": "",
     "delete_cmd_prefix": "del ",
     "library": "var_list.py",
     "varRefreshCmd": "print(var_dic_list())"
    },
    "r": {
     "delete_cmd_postfix": ") ",
     "delete_cmd_prefix": "rm(",
     "library": "var_list.r",
     "varRefreshCmd": "cat(var_dic_list()) "
    }
   },
   "oldHeight": 446.313,
   "position": {
    "height": "467.913px",
    "left": "596px",
    "right": "20px",
    "top": "234px",
    "width": "623.688px"
   },
   "types_to_exclude": [
    "module",
    "function",
    "builtin_function_or_method",
    "instance",
    "_Feature"
   ],
   "varInspector_section_display": "block",
   "window_display": false
  }
 },
 "nbformat": 4,
 "nbformat_minor": 4
}
