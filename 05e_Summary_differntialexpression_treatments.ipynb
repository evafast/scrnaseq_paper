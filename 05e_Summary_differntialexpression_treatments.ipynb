{
 "cells": [
  {
   "cell_type": "markdown",
   "metadata": {},
   "source": [
    "# 05e Summary differntial expression treatments\n",
    "\n",
    "make stacked bargraph + export to .xls for sup data\n",
    "\n",
    "\n",
    "Run with this command in docker container\n",
    "\n",
    "docker run \n",
    "--rm \n",
    "-d \n",
    "--name scanpy2 \n",
    "-p 8880:8888 \n",
    "-e JUPYTER_ENABLE_LAB=YES \n",
    "-v /Users/efast/Documents/:/home/jovyan/work \n",
    "scanpy:1.4.6"
   ]
  },
  {
   "cell_type": "code",
   "execution_count": 1,
   "metadata": {},
   "outputs": [],
   "source": [
    "%matplotlib inline\n",
    "\n",
    "import numpy as np\n",
    "import pandas as pd\n",
    "import scanpy as sc\n",
    "import matplotlib.pyplot as plt\n",
    "from gprofiler import GProfiler\n",
    "import seaborn as sns; sns.set() \n",
    "from helper_functions import *\n",
    "from openpyxl.workbook import Workbook\n",
    "\n",
    "from upsetplot import UpSet\n",
    "import re\n",
    "\n",
    "sc.settings.verbosity = 3  # verbosity: errors (0), warnings (1), info (2), hints (3)"
   ]
  },
  {
   "cell_type": "markdown",
   "metadata": {},
   "source": [
    "## Extract differentially expressed genes for each treatment"
   ]
  },
  {
   "cell_type": "code",
   "execution_count": 2,
   "metadata": {},
   "outputs": [],
   "source": [
    "# Extract differentially expressed gene numbers for each treatment\n",
    "\n",
    "files = ['1.5', '1.2', 'nocutoff']\n",
    "treatments = ['dmPGE2', 'GCSF', 'indo', 'pIC']\n",
    "\n",
    "\n",
    "for treatment in treatments:\n",
    "    results_df=[]\n",
    "    results_df = pd.DataFrame(columns=['fold change', 'total_HSC_only', 'up_HSC_only', 'down_HSC_only',\n",
    "                                   'total_LSK_only', 'up_LSK_only', 'down_LSK_only', \n",
    "                                   'total_overlap', 'up_overlap', 'down_overlap', 'directionality_difference'])\n",
    "    \n",
    "    for file in files: \n",
    "        path_name_out = './write/overlaps_' + treatment + '_' + '.csv'\n",
    "        path_name_in = './write/' + treatment + '_combo_HSCs_MPPs_' + file + '.csv'\n",
    "        diff_genes = pd.read_csv(path_name_in)\n",
    "\n",
    "        total_HSC_only = len(diff_genes[diff_genes['specific'] =='HSC_only'])\n",
    "        total_LSK_only = len(diff_genes[diff_genes['specific'] =='MPP_only'])\n",
    "        total_overlap = len(diff_genes[diff_genes['specific'] =='overlap'])\n",
    "\n",
    "        up_HSC_only = len(diff_genes[(diff_genes['specific'] =='HSC_only') & (diff_genes['HSC_any'] > 0)])\n",
    "        down_HSC_only = len(diff_genes[(diff_genes['specific'] =='HSC_only') & (diff_genes['HSC_any'] < 0)])\n",
    "        up_LSK_only = len(diff_genes[(diff_genes['specific'] =='MPP_only') & (diff_genes['MPP_any'] > 0)])\n",
    "        down_LSK_only = len(diff_genes[(diff_genes['specific'] =='MPP_only') & (diff_genes['MPP_any'] < 0)])\n",
    "        up_overlap = len(diff_genes[(diff_genes['specific'] =='overlap') & (diff_genes['HSC_any'] > 0) & (diff_genes['MPP_any'] > 0)])\n",
    "        down_overlap = len(diff_genes[(diff_genes['specific'] =='overlap') & (diff_genes['HSC_any'] < 0) & (diff_genes['MPP_any'] < 0)])\n",
    "\n",
    "        directionality =  len(diff_genes[diff_genes['overlap'] < 0])\n",
    "\n",
    "        results_df = results_df.append(pd.DataFrame([[file, total_HSC_only, up_HSC_only, down_HSC_only,\n",
    "                                       total_LSK_only, up_LSK_only, down_LSK_only, total_overlap, up_overlap, \n",
    "                                        down_overlap, directionality]], \n",
    "                                        columns=['fold change', 'total_HSC_only', 'up_HSC_only', 'down_HSC_only',\n",
    "                                       'total_LSK_only', 'up_LSK_only', 'down_LSK_only', \n",
    "                                       'total_overlap', 'up_overlap', 'down_overlap', 'directionality_difference']))\n",
    "\n",
    "    results_df = results_df.set_index('fold change')\n",
    "    results_df = results_df.T\n",
    "    results_df.to_csv(path_name_out, index=True, header=True)"
   ]
  },
  {
   "cell_type": "markdown",
   "metadata": {},
   "source": [
    "## Plotting of results"
   ]
  },
  {
   "cell_type": "code",
   "execution_count": 3,
   "metadata": {},
   "outputs": [],
   "source": [
    "sns.set_style(\"ticks\")"
   ]
  },
  {
   "cell_type": "code",
   "execution_count": 4,
   "metadata": {},
   "outputs": [],
   "source": [
    "# define function\n",
    "\n",
    "def plot_proportions(treatment):\n",
    "    path_name_in = './write/overlaps_' + treatment + '_' + '.csv'\n",
    "    df_all = pd.read_csv(path_name_in)\n",
    "    df_clean = df_all[(df_all['Unnamed: 0'] != 'total_LSK_only') &\n",
    "                       (df_all['Unnamed: 0'] != 'total_overlap') &\n",
    "                       (df_all['Unnamed: 0'] != 'total_HSC_only')]\n",
    "    df_clean = df_clean.set_index('Unnamed: 0')\n",
    "    percent_df = df_clean.iloc[:,0:6].div(df_clean.sum(axis=0), axis=1)\n",
    "    percent_df = percent_df.reindex(['up_HSC_only',\n",
    "                                     'down_HSC_only',\n",
    "                                     'directionality_difference',\n",
    "                                     'up_overlap',\n",
    "                                     'down_overlap',\n",
    "                                     'up_LSK_only',\n",
    "                                     'down_LSK_only',\n",
    "                                     ])\n",
    "    ax = percent_df.T.plot.bar(stacked=True, color = def_color)\n",
    "    handles, labels = ax.get_legend_handles_labels()\n",
    "    plt.legend(handles[::-1], labels[::-1], loc='center left', bbox_to_anchor=(1.0, 0.5))\n",
    "    plt.ylabel(\"proportion of genes\")\n",
    "    out_path = './figures/overlap_bargraph_' + treatment + '.pdf'\n",
    "    return plt.savefig(out_path, bbox_inches = \"tight\"), plt.show(), print(df_clean.sum(axis=0))"
   ]
  },
  {
   "cell_type": "code",
   "execution_count": 5,
   "metadata": {},
   "outputs": [],
   "source": [
    "# define some colors to identify clusters\n",
    "\n",
    "def_color = ['#7D3C98',\n",
    "             '#BB8FCE',\n",
    "             '#17202A',\n",
    "             '#566573',\n",
    "             '#D5D8DC',\n",
    "             '#229954',\n",
    "             '#7DCEA0']\n",
    "\n",
    "#https://htmlcolorcodes.com/color-chart/"
   ]
  },
  {
   "cell_type": "code",
   "execution_count": 6,
   "metadata": {},
   "outputs": [
    {
     "data": {
      "image/png": "[encoded data removed]",
      "text/plain": [
       "<Figure size 432x288 with 1 Axes>"
      ]
     },
     "metadata": {},
     "output_type": "display_data"
    },
    {
     "name": "stdout",
     "output_type": "stream",
     "text": [
      "1.5          191\n",
      "1.2          987\n",
      "nocutoff    4819\n",
      "dtype: int64\n"
     ]
    },
    {
     "data": {
      "text/plain": [
       "(None, None, None)"
      ]
     },
     "execution_count": 6,
     "metadata": {},
     "output_type": "execute_result"
    }
   ],
   "source": [
    "plot_proportions('dmPGE2')"
   ]
  },
  {
   "cell_type": "code",
   "execution_count": 7,
   "metadata": {},
   "outputs": [
    {
     "data": {
      "image/png": "[encoded data removed]",
      "text/plain": [
       "<Figure size 432x288 with 1 Axes>"
      ]
     },
     "metadata": {},
     "output_type": "display_data"
    },
    {
     "name": "stdout",
     "output_type": "stream",
     "text": [
      "1.5           1\n",
      "1.2          21\n",
      "nocutoff    844\n",
      "dtype: int64\n"
     ]
    },
    {
     "data": {
      "text/plain": [
       "(None, None, None)"
      ]
     },
     "execution_count": 7,
     "metadata": {},
     "output_type": "execute_result"
    }
   ],
   "source": [
    "plot_proportions('indo')"
   ]
  },
  {
   "cell_type": "code",
   "execution_count": 8,
   "metadata": {},
   "outputs": [
    {
     "data": {
      "image/png": "[encoded data removed]",
      "text/plain": [
       "<Figure size 432x288 with 1 Axes>"
      ]
     },
     "metadata": {},
     "output_type": "display_data"
    },
    {
     "name": "stdout",
     "output_type": "stream",
     "text": [
      "1.5          249\n",
      "1.2          981\n",
      "nocutoff    6251\n",
      "dtype: int64\n"
     ]
    },
    {
     "data": {
      "text/plain": [
       "(None, None, None)"
      ]
     },
     "execution_count": 8,
     "metadata": {},
     "output_type": "execute_result"
    }
   ],
   "source": [
    "plot_proportions('pIC')"
   ]
  },
  {
   "cell_type": "code",
   "execution_count": 9,
   "metadata": {},
   "outputs": [
    {
     "data": {
      "image/png": "[encoded data removed]",
      "text/plain": [
       "<Figure size 432x288 with 1 Axes>"
      ]
     },
     "metadata": {},
     "output_type": "display_data"
    },
    {
     "name": "stdout",
     "output_type": "stream",
     "text": [
      "1.5           94\n",
      "1.2         1004\n",
      "nocutoff    5947\n",
      "dtype: int64\n"
     ]
    },
    {
     "data": {
      "text/plain": [
       "(None, None, None)"
      ]
     },
     "execution_count": 9,
     "metadata": {},
     "output_type": "execute_result"
    }
   ],
   "source": [
    "plot_proportions('GCSF')"
   ]
  },
  {
   "cell_type": "markdown",
   "metadata": {},
   "source": [
    "## Export average gene expression per clusters and MAST results to .xlsx for supp tables\n",
    "still need to fix - have to create .xlsx files so that can be saved - not sure why..."
   ]
  },
  {
   "cell_type": "markdown",
   "metadata": {},
   "source": [
    "### average expression/cluster"
   ]
  },
  {
   "cell_type": "code",
   "execution_count": 10,
   "metadata": {},
   "outputs": [],
   "source": [
    "# read in and prepare adata object MPPs\n",
    "\n",
    "adata = sc.read('./sc_objects/MPP_preprocessed.h5ad')\n",
    "adata.var_names_make_unique()\n",
    "adata.rename_categories('leiden', ['Primed', 'Metabolism', 'Progenitor', 'Cell-cycle', 'Acute-Activation', \n",
    "                                   'Interferon', 'Interferon cell-cycle','Myeloid'])\n",
    "adata.obs['cluster_sample'] = adata.obs['sample'].str.cat(others = adata.obs['leiden'], sep='_')\n",
    "adata.obs['cluster_sample'] = adata.obs['cluster_sample'].astype('category', copy=True) # make a column with category as dtype\n",
    "\n",
    "fold_changes = ['1.5', '1.2', 'nocutoff']\n",
    "treatments = ['dmPGE2', 'GCSF', 'indo', 'pIC']\n",
    "\n",
    "for treatment in treatments:\n",
    "    for fold_change in fold_changes:\n",
    "        path_in = './write/' + treatment + '_combo_HSCs_MPPs_' + fold_change + '.csv'\n",
    "        \n",
    "        diff_genes = pd.read_csv(path_in)\n",
    "        diff_genes = diff_genes[diff_genes['specific'] != 'HSC_only'] # exclude HSC genes for MPPs\n",
    "\n",
    "        # make dictonary from marker genes\n",
    "        dict_gene = diff_genes.groupby('specific')['primerid'].apply(list).to_dict()\n",
    "\n",
    "        # calculate average expression per cluster\n",
    "        avg = average_expression(adata, dict_gene, gene_symbol_key=None, partition_key='cluster_sample')\n",
    "        sheet_name = treatment + '_' + fold_change\n",
    "        with pd.ExcelWriter('./write/LSK_avg_geneexpression.xlsx', mode='a') as writer: \n",
    "            avg.to_excel(writer, sheet_name=sheet_name)"
   ]
  },
  {
   "cell_type": "code",
   "execution_count": 11,
   "metadata": {},
   "outputs": [],
   "source": [
    "# read in and prepare adata object LTs\n",
    "\n",
    "adata = sc.read('./sc_objects/LT_preprocessed.h5ad')\n",
    "adata.var_names_make_unique()\n",
    "adata.rename_categories('leiden', ['Metabolism', 'Quiescent', 'Activated', 'Interferon', 'Acute-Activation', 'Cell-cycle'])\n",
    "adata.obs['cluster_sample'] = adata.obs['sample'].str.cat(others = adata.obs['leiden'], sep='_')\n",
    "adata.obs['cluster_sample']=adata.obs['cluster_sample'].astype('category', copy=True) # make a column with category as dtype\n",
    "\n",
    "fold_changes = ['1.5', '1.2', 'nocutoff']\n",
    "treatments = ['dmPGE2', 'GCSF', 'indo', 'pIC']\n",
    "\n",
    "for treatment in treatments:\n",
    "    for fold_change in fold_changes:\n",
    "        path_in = './write/' + treatment + '_combo_HSCs_MPPs_' + fold_change + '.csv'\n",
    "        \n",
    "        diff_genes = pd.read_csv(path_in)\n",
    "        diff_genes = diff_genes[diff_genes['specific'] != 'MPP_only'] # exclude MPP genes for LTs\n",
    "\n",
    "        # make dictonary from marker genes\n",
    "        dict_gene = diff_genes.groupby('specific')['primerid'].apply(list).to_dict()\n",
    "\n",
    "        # calculate average expression per cluster\n",
    "        avg = average_expression(adata, dict_gene, gene_symbol_key=None, partition_key='cluster_sample')\n",
    "        sheet_name = treatment + '_' + fold_change\n",
    "        with pd.ExcelWriter('./write/HSC_avg_geneexpression.xlsx', mode='a') as writer: \n",
    "            avg.to_excel(writer, sheet_name=sheet_name)"
   ]
  },
  {
   "cell_type": "markdown",
   "metadata": {},
   "source": [
    "### export data from MAST"
   ]
  },
  {
   "cell_type": "code",
   "execution_count": 12,
   "metadata": {},
   "outputs": [],
   "source": [
    "columns_new = ['logFC_HSC_Metabolism',\n",
    " 'adj_p-value_HSC_Metabolism',\n",
    " 'logFC_HSC_Quiescent',\n",
    " 'adj_p-value_HSC_Quiescent',\n",
    " 'logFC_HSC_Activated',\n",
    " 'adj_p-value_HSC_Activated',\n",
    " 'logFC_HSC_Interferon',\n",
    " 'adj_p-value_HSC_Interferon',\n",
    " 'logFC_HSC_Acute-Activation',\n",
    " 'adj_p-value_HSC_Acute-Activation',\n",
    " 'logFC_HSC_Cell-cycle',\n",
    " 'adj_p-value_HSC_Cell-cycle',\n",
    " 'logFC_HSC_pooled',\n",
    " 'adj_p-value_HSC_pooled',\n",
    " 'logFC_MPP_surface',\n",
    " 'adj_p-value_MPP_surface',\n",
    " 'logFC_MPP1_surface',\n",
    " 'adj_p-value_MPP1_surface',\n",
    " 'logFC_MPP2_surface',\n",
    " 'adj_p-value_MPP2_surface',\n",
    " 'logFC_MPP3/4_surface',\n",
    " 'adj_p-value_MPP3/4_surface',\n",
    " 'logFC_LSK_Primed',\n",
    " 'adj_p-value_LSK_Primed',\n",
    " 'logFC_LSK_Metabolism',\n",
    " 'adj_p-value_LSK_Metabolism',\n",
    " 'logFC_LSK_Progenitor',\n",
    " 'adj_p-value_LSK_Progenitor',\n",
    " 'logFC_LSK_Cell-cycle',\n",
    " 'adj_p-value_LSK_Cell-cycle',\n",
    " 'logFC_LSK_Acute-Activation',\n",
    " 'adj_p-value_LSK_Acute-Activation',\n",
    " 'logFC_LSK_Interferon',\n",
    " 'adj_p-value_LSK_Interferon',\n",
    " 'logFC_LSK_Interferon cell-cycle',\n",
    " 'adj_p-value_LSK_Interferon cell-cycle',\n",
    " 'logFC_LSK_Myeloid',\n",
    " 'adj_p-value_LSK_Myeloid',\n",
    " 'logFC_LSK_pooled',\n",
    " 'adj_p-value_LSK_pooled']"
   ]
  },
  {
   "cell_type": "code",
   "execution_count": 13,
   "metadata": {},
   "outputs": [],
   "source": [
    "# make summary file of MAST coefficients and p-values\n",
    "\n",
    "treatments = ['dmPGE2', 'GCSF', 'indo', 'pIC']\n",
    "\n",
    "for treatment in treatments:\n",
    "    \n",
    "    path_in = './write/' + 'MAST_overlap_nocutoff_' + treatment + '_all.csv'\n",
    "\n",
    "    diff_genes = pd.read_csv(path_in)\n",
    "    diff_genes = diff_genes.set_index('primerid')\n",
    "\n",
    "    diff_genes = diff_genes.filter(regex='coef|FDR|primerid') # filter to only foldchange and FDR\n",
    "    diff_genes.columns = columns_new\n",
    "\n",
    "    sheet_name = treatment\n",
    "    with pd.ExcelWriter('./write/MAST_differentialexpression.xlsx', mode='a') as writer: \n",
    "        diff_genes.to_excel(writer, sheet_name=sheet_name)\n",
    "        writer.save()"
   ]
  },
  {
   "cell_type": "code",
   "execution_count": 14,
   "metadata": {},
   "outputs": [],
   "source": [
    "columns_new = ['logFC_HSC_Metabolism_male',\n",
    " 'adj_p-value_HSC_Metabolism_male',\n",
    " 'logFC_HSC_Quiescent_male',\n",
    " 'adj_p-value_HSC_Quiescent_male',\n",
    " 'logFC_HSC_Activated_male',\n",
    " 'adj_p-value_HSC_Activated_male',\n",
    " 'logFC_HSC_Interferon_male',\n",
    " 'adj_p-value_HSC_Interferon_male',\n",
    " 'logFC_HSC_Acute-Activation_male',\n",
    " 'adj_p-value_HSC_Acute-Activation_male',\n",
    " 'logFC_HSC_Cell-cycle_male',\n",
    " 'adj_p-value_HSC_Cell-cycle_male',\n",
    " 'logFC_HSC_pooled_male',\n",
    " 'adj_p-value_HSC_pooled_male',\n",
    " 'logFC_LSK_Primed_male',\n",
    " 'adj_p-value_LSK_Primed_male',\n",
    " 'logFC_LSK_Metabolism_male',\n",
    " 'adj_p-value_LSK_Metabolism_male',\n",
    " 'logFC_LSK_Progenitor_male',\n",
    " 'adj_p-value_LSK_Progenitor_male',\n",
    " 'logFC_LSK_Cell-cycle_male',\n",
    " 'adj_p-value_LSK_Cell-cycle_male',\n",
    " 'logFC_LSK_Acute-Activation_male',\n",
    " 'adj_p-value_LSK_Acute-Activation_male',\n",
    " 'logFC_LSK_Interferon_male',\n",
    " 'adj_p-value_LSK_Interferon_male',\n",
    " 'logFC_LSK_Interferon cell-cycle_male',\n",
    " 'adj_p-value_LSK_Interferon cell-cycle_male',\n",
    " 'logFC_LSK_Myeloid_male',\n",
    " 'adj_p-value_LSK_Myeloid_male',\n",
    " 'logFC_LSK_pooled_male',\n",
    " 'adj_p-value_LSK_pooled_male',\n",
    " 'logFC_HSC_Metabolism_female',\n",
    " 'adj_p-value_HSC_Metabolism_female',\n",
    " 'logFC_HSC_Quiescent_female',\n",
    " 'adj_p-value_HSC_Quiescent_female',\n",
    " 'logFC_HSC_Activated_female',\n",
    " 'adj_p-value_HSC_Activated_female',\n",
    " 'logFC_HSC_Interferon_female',\n",
    " 'adj_p-value_HSC_Interferon_female',\n",
    " 'logFC_HSC_Acute-Activation_female',\n",
    " 'adj_p-value_HSC_Acute-Activation_female',\n",
    " 'logFC_HSC_Cell-cycle_female',\n",
    " 'adj_p-value_HSC_Cell-cycle_female',\n",
    " 'logFC_HSC_pooled_female',\n",
    " 'adj_p-value_HSC_pooled_female',\n",
    " 'logFC_LSK_Primed_female',\n",
    " 'adj_p-value_LSK_Primed_female',\n",
    " 'logFC_LSK_Metabolism_female',\n",
    " 'adj_p-value_LSK_Metabolism_female',\n",
    " 'logFC_LSK_Progenitor_female',\n",
    " 'adj_p-value_LSK_Progenitor_female',\n",
    " 'logFC_LSK_Cell-cycle_female',\n",
    " 'adj_p-value_LSK_Cell-cycle_female',\n",
    " 'logFC_LSK_Acute-Activation_female',\n",
    " 'adj_p-value_LSK_Acute-Activation_female',\n",
    " 'logFC_LSK_Interferon_female',\n",
    " 'adj_p-value_LSK_Interferon_female',\n",
    " 'logFC_LSK_Interferon cell-cycle_female',\n",
    " 'adj_p-value_LSK_Interferon cell-cycle_female',\n",
    " 'logFC_LSK_Myeloid_female',\n",
    " 'adj_p-value_LSK_Myeloid_female',\n",
    " 'logFC_LSK_pooled_female',\n",
    " 'adj_p-value_LSK_pooled_female']"
   ]
  },
  {
   "cell_type": "code",
   "execution_count": 15,
   "metadata": {},
   "outputs": [],
   "source": [
    "# make summary file of MAST coefficients and p-values\n",
    "\n",
    "treatments = ['dmPGE2', 'GCSF', 'indo', 'pIC']\n",
    "\n",
    "for treatment in treatments:\n",
    "    \n",
    "    path_in = './write/' + 'MAST_overlap_nocutoff_' + treatment + '_by_sex.csv'\n",
    "\n",
    "    diff_genes = pd.read_csv(path_in)\n",
    "    diff_genes = diff_genes.set_index('primerid')\n",
    "\n",
    "    diff_genes = diff_genes.filter(regex='coef|FDR|primerid') # filter to only foldchange and FDR\n",
    "    diff_genes.columns = columns_new\n",
    "\n",
    "    sheet_name = treatment\n",
    "    with pd.ExcelWriter('./write/MAST_differentialexpression_by_sex.xlsx', mode='a') as writer: \n",
    "        diff_genes.to_excel(writer, sheet_name=sheet_name)\n",
    "        writer.save()"
   ]
  },
  {
   "cell_type": "code",
   "execution_count": null,
   "metadata": {},
   "outputs": [],
   "source": []
  },
  {
   "cell_type": "code",
   "execution_count": 16,
   "metadata": {},
   "outputs": [
    {
     "name": "stdout",
     "output_type": "stream",
     "text": [
      "\n",
      "INSTALLED VERSIONS\n",
      "------------------\n",
      "commit           : None\n",
      "python           : 3.7.3.final.0\n",
      "python-bits      : 64\n",
      "OS               : Linux\n",
      "OS-release       : 4.19.76-linuxkit\n",
      "machine          : x86_64\n",
      "processor        : x86_64\n",
      "byteorder        : little\n",
      "LC_ALL           : en_US.UTF-8\n",
      "LANG             : en_US.UTF-8\n",
      "LOCALE           : en_US.UTF-8\n",
      "\n",
      "pandas           : 0.25.3\n",
      "numpy            : 1.17.3\n",
      "pytz             : 2019.3\n",
      "dateutil         : 2.8.1\n",
      "pip              : 19.3.1\n",
      "setuptools       : 41.6.0.post20191101\n",
      "Cython           : 0.29.14\n",
      "pytest           : None\n",
      "hypothesis       : None\n",
      "sphinx           : None\n",
      "blosc            : None\n",
      "feather          : None\n",
      "xlsxwriter       : None\n",
      "lxml.etree       : None\n",
      "html5lib         : None\n",
      "pymysql          : None\n",
      "psycopg2         : None\n",
      "jinja2           : 2.10.3\n",
      "IPython          : 7.9.0\n",
      "pandas_datareader: None\n",
      "bs4              : 4.8.1\n",
      "bottleneck       : None\n",
      "fastparquet      : None\n",
      "gcsfs            : None\n",
      "lxml.etree       : None\n",
      "matplotlib       : 3.1.2\n",
      "numexpr          : 2.6.9\n",
      "odfpy            : None\n",
      "openpyxl         : 3.0.3\n",
      "pandas_gbq       : None\n",
      "pyarrow          : None\n",
      "pytables         : None\n",
      "s3fs             : None\n",
      "scipy            : 1.3.1\n",
      "sqlalchemy       : 1.3.10\n",
      "tables           : 3.6.1\n",
      "xarray           : None\n",
      "xlrd             : 1.2.0\n",
      "xlwt             : None\n",
      "xlsxwriter       : None\n"
     ]
    }
   ],
   "source": [
    "pd.show_versions()"
   ]
  },
  {
   "cell_type": "code",
   "execution_count": 17,
   "metadata": {},
   "outputs": [
    {
     "name": "stdout",
     "output_type": "stream",
     "text": [
      "Package                Version            \n",
      "---------------------- -------------------\n",
      "alembic                1.3.0              \n",
      "anndata                0.7.1              \n",
      "async-generator        1.10               \n",
      "attrs                  19.3.0             \n",
      "backcall               0.1.0              \n",
      "beautifulsoup4         4.8.1              \n",
      "bleach                 3.1.0              \n",
      "blinker                1.4                \n",
      "bokeh                  1.3.4              \n",
      "cellbrowser            0.7.7              \n",
      "certifi                2020.4.5.1         \n",
      "certipy                0.1.3              \n",
      "cffi                   1.13.2             \n",
      "chardet                3.0.4              \n",
      "Click                  7.0                \n",
      "cloudpickle            1.2.2              \n",
      "conda                  4.7.12             \n",
      "conda-package-handling 1.6.0              \n",
      "cryptography           2.8                \n",
      "cycler                 0.10.0             \n",
      "Cython                 0.29.14            \n",
      "cytoolz                0.10.1             \n",
      "dask                   2.2.0              \n",
      "decorator              4.4.1              \n",
      "defusedxml             0.6.0              \n",
      "dill                   0.3.1.1            \n",
      "distributed            2.5.2              \n",
      "entrypoints            0.3                \n",
      "et-xmlfile             1.0.1              \n",
      "fastcache              1.1.0              \n",
      "fsspec                 0.5.2              \n",
      "get-version            2.1                \n",
      "gmpy2                  2.1.0b1            \n",
      "gprofiler-official     1.0.0              \n",
      "h5py                   2.9.0              \n",
      "HeapDict               1.0.1              \n",
      "idna                   2.8                \n",
      "imageio                2.6.1              \n",
      "importlib-metadata     0.23               \n",
      "ipykernel              5.1.3              \n",
      "ipython                7.9.0              \n",
      "ipython-genutils       0.2.0              \n",
      "ipywidgets             7.5.1              \n",
      "jdcal                  1.4.1              \n",
      "jedi                   0.15.1             \n",
      "Jinja2                 2.10.3             \n",
      "joblib                 0.14.0             \n",
      "json5                  0.8.5              \n",
      "jsonschema             3.1.1              \n",
      "jupyter-client         5.3.3              \n",
      "jupyter-core           4.5.0              \n",
      "jupyterhub             1.0.0              \n",
      "jupyterlab             1.2.1              \n",
      "jupyterlab-server      1.0.6              \n",
      "kiwisolver             1.1.0              \n",
      "legacy-api-wrap        1.2                \n",
      "leidenalg              0.7.0              \n",
      "llvmlite               0.29.0             \n",
      "locket                 0.2.0              \n",
      "louvain                0.6.1              \n",
      "Mako                   1.1.0              \n",
      "MarkupSafe             1.1.1              \n",
      "matplotlib             3.1.2              \n",
      "mistune                0.8.4              \n",
      "more-itertools         7.2.0              \n",
      "mpmath                 1.1.0              \n",
      "msgpack                0.6.2              \n",
      "natsort                7.0.1              \n",
      "nbconvert              5.6.1              \n",
      "nbformat               4.4.0              \n",
      "networkx               2.4                \n",
      "notebook               6.0.0              \n",
      "numba                  0.45.1             \n",
      "numexpr                2.6.9              \n",
      "numpy                  1.17.3             \n",
      "oauthlib               3.0.1              \n",
      "olefile                0.46               \n",
      "openpyxl               3.0.3              \n",
      "packaging              19.2               \n",
      "pamela                 1.0.0              \n",
      "pandas                 0.25.3             \n",
      "pandocfilters          1.4.2              \n",
      "parso                  0.5.1              \n",
      "partd                  1.0.0              \n",
      "patsy                  0.5.1              \n",
      "pexpect                4.7.0              \n",
      "pickleshare            0.7.5              \n",
      "Pillow                 6.2.1              \n",
      "pip                    19.3.1             \n",
      "prometheus-client      0.7.1              \n",
      "prompt-toolkit         2.0.10             \n",
      "protobuf               3.9.2              \n",
      "psutil                 5.6.5              \n",
      "ptyprocess             0.6.0              \n",
      "pycairo                1.19.1             \n",
      "pycosat                0.6.3              \n",
      "pycparser              2.19               \n",
      "pycurl                 7.43.0.3           \n",
      "Pygments               2.4.2              \n",
      "PyJWT                  1.7.1              \n",
      "pyOpenSSL              19.0.0             \n",
      "pyparsing              2.4.4              \n",
      "pyrsistent             0.15.5             \n",
      "PySocks                1.7.1              \n",
      "python-dateutil        2.8.1              \n",
      "python-editor          1.0.4              \n",
      "python-igraph          0.8.0              \n",
      "pytz                   2019.3             \n",
      "PyWavelets             1.1.1              \n",
      "PyYAML                 5.1.2              \n",
      "pyzmq                  18.1.0             \n",
      "requests               2.22.0             \n",
      "ruamel-yaml            0.15.71            \n",
      "scanpy                 1.4.6              \n",
      "scikit-image           0.15.0             \n",
      "scikit-learn           0.21.3             \n",
      "scipy                  1.3.1              \n",
      "seaborn                0.9.0              \n",
      "Send2Trash             1.5.0              \n",
      "setuptools             41.6.0.post20191101\n",
      "setuptools-scm         3.5.0              \n",
      "six                    1.13.0             \n",
      "sortedcontainers       2.1.0              \n",
      "soupsieve              1.9.4              \n",
      "SQLAlchemy             1.3.10             \n",
      "statsmodels            0.10.1             \n",
      "sympy                  1.4                \n",
      "tables                 3.6.1              \n",
      "tbb                    2020.0.133         \n",
      "tblib                  1.4.0              \n",
      "terminado              0.8.2              \n",
      "testpath               0.4.4              \n",
      "texttable              1.6.2              \n",
      "toolz                  0.10.0             \n",
      "tornado                6.0.3              \n",
      "tqdm                   4.37.0             \n",
      "traitlets              4.3.3              \n",
      "umap-learn             0.4.1              \n",
      "UpSetPlot              0.4.0              \n",
      "urllib3                1.25.6             \n",
      "vincent                0.4.4              \n",
      "wcwidth                0.1.7              \n",
      "webencodings           0.5.1              \n",
      "wheel                  0.33.6             \n",
      "widgetsnbextension     3.5.1              \n",
      "xlrd                   1.2.0              \n",
      "zict                   1.0.0              \n",
      "zipp                   0.6.0              \n"
     ]
    }
   ],
   "source": [
    "!pip list"
   ]
  },
  {
   "cell_type": "code",
   "execution_count": null,
   "metadata": {},
   "outputs": [],
   "source": []
  }
 ],
 "metadata": {
  "kernelspec": {
   "display_name": "Python 3",
   "language": "python",
   "name": "python3"
  },
  "language_info": {
   "codemirror_mode": {
    "name": "ipython",
    "version": 3
   },
   "file_extension": ".py",
   "mimetype": "text/x-python",
   "name": "python",
   "nbconvert_exporter": "python",
   "pygments_lexer": "ipython3",
   "version": "3.9.2"
  }
 },
 "nbformat": 4,
 "nbformat_minor": 4
}
