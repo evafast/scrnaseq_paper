{
 "cells": [
  {
   "cell_type": "markdown",
   "metadata": {},
   "source": [
    "## 04a HSC differential analysis MAST full\n",
    "\n",
    "Celltype:\n",
    "\n",
    "**HSCs**\n",
    "\n",
    "\n",
    "Run this model:\n",
    "\n",
    "`zlmCond_all <- zlm(formula = ~condition + Female + n_genes, sca=sca)`\n",
    "\n",
    "Comparisons:\n",
    "\n",
    "all cells\n",
    "- male vs female in all cells controlling for chemical treatment etc\n",
    "- chemical treatments controlling for sex and n_genes\n",
    "\n",
    "each cluster\n",
    "- male vs female in all cells controlling for chemical treatment etc\n",
    "- chemical treatments controlling for sex and n_genes\n",
    "\n",
    "\n",
    "done with this docker image:\n",
    "\n",
    "docker run --rm -d --name test_eva -p 8883:8888 -e JUPYTER_ENABLE_LAB=YES -v /Users/efast/Documents/:/home/jovyan/work r_scanpy:vs4\n"
   ]
  },
  {
   "cell_type": "code",
   "execution_count": 1,
   "metadata": {},
   "outputs": [
    {
     "name": "stdin",
     "output_type": "stream",
     "text": [
      "Once deleted, variables cannot be recovered. Proceed (y/[n])?  y\n"
     ]
    }
   ],
   "source": [
    "%reset"
   ]
  },
  {
   "cell_type": "code",
   "execution_count": 2,
   "metadata": {},
   "outputs": [],
   "source": [
    "import scanpy as sc\n",
    "import numpy as np\n",
    "import scipy as sp\n",
    "import pandas as pd\n",
    "import matplotlib.pyplot as plt\n",
    "from matplotlib import rcParams\n",
    "from matplotlib import colors\n",
    "import seaborn as sb\n",
    "from gprofiler import GProfiler\n",
    "\n",
    "import rpy2.rinterface_lib.callbacks\n",
    "import logging\n",
    "\n",
    "from rpy2.robjects import pandas2ri\n",
    "import anndata2ri"
   ]
  },
  {
   "cell_type": "code",
   "execution_count": 3,
   "metadata": {},
   "outputs": [
    {
     "name": "stdout",
     "output_type": "stream",
     "text": [
      "scanpy==1.4.5.1 anndata==0.7.1 umap==0.3.10 numpy==1.17.3 scipy==1.3.0 pandas==0.25.3 scikit-learn==0.22.2.post1 statsmodels==0.10.0 python-igraph==0.7.1 louvain==0.6.1\n"
     ]
    }
   ],
   "source": [
    "# Ignore R warning messages\n",
    "#Note: this can be commented out to get more verbose R output\n",
    "rpy2.rinterface_lib.callbacks.logger.setLevel(logging.ERROR)\n",
    "\n",
    "# Automatically convert rpy2 outputs to pandas dataframes\n",
    "pandas2ri.activate()\n",
    "anndata2ri.activate()\n",
    "%load_ext rpy2.ipython\n",
    "\n",
    "plt.rcParams['figure.figsize']=(8,8) #rescale figures\n",
    "sc.settings.verbosity = 3\n",
    "#sc.set_figure_params(dpi=200, dpi_save=300)\n",
    "sc.logging.print_versions()"
   ]
  },
  {
   "cell_type": "code",
   "execution_count": 4,
   "metadata": {},
   "outputs": [],
   "source": [
    "%%R\n",
    "# Load libraries from correct lib Paths for my environment - ignore this!\n",
    ".libPaths(.libPaths()[c(3,2,1)])\n",
    "\n",
    "# Load all the R libraries we will be using in the notebook\n",
    "library(scran)\n",
    "library(ggplot2)\n",
    "library(plyr)\n",
    "library(MAST)"
   ]
  },
  {
   "cell_type": "code",
   "execution_count": 5,
   "metadata": {},
   "outputs": [],
   "source": [
    "# load data\n",
    "\n",
    "adata = sc.read('./sc_objects/LT_preprocessed.h5ad', cache = True)"
   ]
  },
  {
   "cell_type": "code",
   "execution_count": 6,
   "metadata": {},
   "outputs": [],
   "source": [
    "#Create new Anndata object for use in MAST with non-batch corrected data as before\n",
    "adata_raw = adata.copy()\n",
    "adata_raw.X = adata.raw.X\n",
    "adata_raw.obs['n_genes'] = (adata_raw.X > 0).sum(1) # recompute number of genes expressed per cell\n",
    "adata = None"
   ]
  },
  {
   "cell_type": "code",
   "execution_count": 7,
   "metadata": {},
   "outputs": [
    {
     "data": {
      "text/html": [
       "<div>\n",
       "<style scoped>\n",
       "    .dataframe tbody tr th:only-of-type {\n",
       "        vertical-align: middle;\n",
       "    }\n",
       "\n",
       "    .dataframe tbody tr th {\n",
       "        vertical-align: top;\n",
       "    }\n",
       "\n",
       "    .dataframe thead th {\n",
       "        text-align: right;\n",
       "    }\n",
       "</style>\n",
       "<table border=\"1\" class=\"dataframe\">\n",
       "  <thead>\n",
       "    <tr style=\"text-align: right;\">\n",
       "      <th></th>\n",
       "      <th>sample</th>\n",
       "      <th>n_counts</th>\n",
       "      <th>log_counts</th>\n",
       "      <th>n_genes</th>\n",
       "      <th>percent_mito</th>\n",
       "      <th>Female</th>\n",
       "      <th>Female_cat</th>\n",
       "      <th>Female_str</th>\n",
       "      <th>sex_sample</th>\n",
       "      <th>batch</th>\n",
       "      <th>rXist</th>\n",
       "      <th>leiden</th>\n",
       "      <th>umap_density_sample</th>\n",
       "    </tr>\n",
       "  </thead>\n",
       "  <tbody>\n",
       "    <tr>\n",
       "      <th>AAACCCACACAGAGCA</th>\n",
       "      <td>ct</td>\n",
       "      <td>7698.0</td>\n",
       "      <td>8.948846</td>\n",
       "      <td>2663</td>\n",
       "      <td>0.049227</td>\n",
       "      <td>False</td>\n",
       "      <td>False</td>\n",
       "      <td>false</td>\n",
       "      <td>ct_false</td>\n",
       "      <td>batch1</td>\n",
       "      <td>0.078504</td>\n",
       "      <td>2</td>\n",
       "      <td>0.769843</td>\n",
       "    </tr>\n",
       "    <tr>\n",
       "      <th>AAACCCAGTATCGTGT</th>\n",
       "      <td>ct</td>\n",
       "      <td>8031.0</td>\n",
       "      <td>8.991189</td>\n",
       "      <td>2538</td>\n",
       "      <td>0.054656</td>\n",
       "      <td>False</td>\n",
       "      <td>False</td>\n",
       "      <td>false</td>\n",
       "      <td>ct_false</td>\n",
       "      <td>batch1</td>\n",
       "      <td>0.078504</td>\n",
       "      <td>1</td>\n",
       "      <td>0.978590</td>\n",
       "    </tr>\n",
       "    <tr>\n",
       "      <th>AAACCCAGTCTGTCAA</th>\n",
       "      <td>ct</td>\n",
       "      <td>9978.0</td>\n",
       "      <td>9.208138</td>\n",
       "      <td>3203</td>\n",
       "      <td>0.050210</td>\n",
       "      <td>True</td>\n",
       "      <td>True</td>\n",
       "      <td>true</td>\n",
       "      <td>ct_true</td>\n",
       "      <td>batch1</td>\n",
       "      <td>3.259153</td>\n",
       "      <td>0</td>\n",
       "      <td>0.493924</td>\n",
       "    </tr>\n",
       "    <tr>\n",
       "      <th>AAACCCAGTGAACTAA</th>\n",
       "      <td>ct</td>\n",
       "      <td>8042.0</td>\n",
       "      <td>8.992682</td>\n",
       "      <td>2777</td>\n",
       "      <td>0.061288</td>\n",
       "      <td>True</td>\n",
       "      <td>True</td>\n",
       "      <td>true</td>\n",
       "      <td>ct_true</td>\n",
       "      <td>batch1</td>\n",
       "      <td>3.019387</td>\n",
       "      <td>1</td>\n",
       "      <td>0.920127</td>\n",
       "    </tr>\n",
       "    <tr>\n",
       "      <th>AAACCCATCCAATCTT</th>\n",
       "      <td>ct</td>\n",
       "      <td>17477.0</td>\n",
       "      <td>9.769098</td>\n",
       "      <td>4695</td>\n",
       "      <td>0.052159</td>\n",
       "      <td>True</td>\n",
       "      <td>True</td>\n",
       "      <td>true</td>\n",
       "      <td>ct_true</td>\n",
       "      <td>batch1</td>\n",
       "      <td>0.525301</td>\n",
       "      <td>2</td>\n",
       "      <td>0.931675</td>\n",
       "    </tr>\n",
       "  </tbody>\n",
       "</table>\n",
       "</div>"
      ],
      "text/plain": [
       "                 sample  n_counts  log_counts  n_genes  percent_mito  Female  \\\n",
       "AAACCCACACAGAGCA     ct    7698.0    8.948846     2663      0.049227   False   \n",
       "AAACCCAGTATCGTGT     ct    8031.0    8.991189     2538      0.054656   False   \n",
       "AAACCCAGTCTGTCAA     ct    9978.0    9.208138     3203      0.050210    True   \n",
       "AAACCCAGTGAACTAA     ct    8042.0    8.992682     2777      0.061288    True   \n",
       "AAACCCATCCAATCTT     ct   17477.0    9.769098     4695      0.052159    True   \n",
       "\n",
       "                 Female_cat Female_str sex_sample   batch     rXist leiden  \\\n",
       "AAACCCACACAGAGCA      False      false   ct_false  batch1  0.078504      2   \n",
       "AAACCCAGTATCGTGT      False      false   ct_false  batch1  0.078504      1   \n",
       "AAACCCAGTCTGTCAA       True       true    ct_true  batch1  3.259153      0   \n",
       "AAACCCAGTGAACTAA       True       true    ct_true  batch1  3.019387      1   \n",
       "AAACCCATCCAATCTT       True       true    ct_true  batch1  0.525301      2   \n",
       "\n",
       "                  umap_density_sample  \n",
       "AAACCCACACAGAGCA             0.769843  \n",
       "AAACCCAGTATCGTGT             0.978590  \n",
       "AAACCCAGTCTGTCAA             0.493924  \n",
       "AAACCCAGTGAACTAA             0.920127  \n",
       "AAACCCATCCAATCTT             0.931675  "
      ]
     },
     "execution_count": 7,
     "metadata": {},
     "output_type": "execute_result"
    }
   ],
   "source": [
    "adata_raw.obs.head()"
   ]
  },
  {
   "cell_type": "markdown",
   "metadata": {},
   "source": [
    "### Run MAST on total female cells - Select genes expressed in >5% of cells (no adaptive thresholding)"
   ]
  },
  {
   "cell_type": "code",
   "execution_count": 8,
   "metadata": {},
   "outputs": [
    {
     "name": "stdout",
     "output_type": "stream",
     "text": [
      "[1] \"Dimensions before subsetting:\"\n",
      "[1] 9414 5097\n",
      "[1] 9414 4942\n",
      "[1] 9414 4449\n",
      "[1] 9414  435\n",
      "[1] 9414  262\n",
      "[1] 9414  170\n",
      "[1] \"\"\n",
      "[1] \"Dimensions after subsetting:\"\n",
      "[1] 9414 5097\n",
      "[1] 9414 4942\n",
      "[1] 9414 4449\n",
      "[1] 9414  435\n",
      "[1] 9414  262\n",
      "[1] 9413  170\n"
     ]
    }
   ],
   "source": [
    "%%R -i adata_raw\n",
    "\n",
    "#Convert SingleCellExperiment to SingleCellAssay type as required by MAST\n",
    "sca <- SceToSingleCellAssay(adata_raw, class = \"SingleCellAssay\")\n",
    "\n",
    "#Scale Gene detection rate\n",
    "colData(sca)$n_genes = scale(colData(sca)$n_genes)\n",
    "\n",
    "# filter genes based on hard cutoff (have to be expressed in at least 5% of all cells)\n",
    "freq_expressed <- 0.05\n",
    "expressed_genes <- freq(sca) > freq_expressed\n",
    "sca <- sca[expressed_genes,]\n",
    "\n",
    "#rename the sample to condition and make the ct the control\n",
    "cond<-factor(colData(sca)$sample)\n",
    "cond<-relevel(cond,\"ct\")\n",
    "colData(sca)$condition<-cond\n",
    "\n",
    "#Create data subsets for the different subpopulations 0-activated, 1- quiescent, 2-metabolism\n",
    "sca_0 <- subset(sca, with(colData(sca), leiden=='0'))\n",
    "sca_1 <- subset(sca, with(colData(sca), leiden=='1'))\n",
    "sca_2<- subset(sca, with(colData(sca), leiden=='2'))\n",
    "sca_3<- subset(sca, with(colData(sca), leiden=='3'))\n",
    "sca_4<- subset(sca, with(colData(sca), leiden=='4'))\n",
    "sca_5<- subset(sca, with(colData(sca), leiden=='5'))\n",
    "\n",
    "#Filter out non-expressed genes in the subsets\n",
    "print(\"Dimensions before subsetting:\")\n",
    "print(dim(sca_0))\n",
    "print(dim(sca_1))\n",
    "print(dim(sca_2))\n",
    "print(dim(sca_3))\n",
    "print(dim(sca_4))\n",
    "print(dim(sca_5))\n",
    "print(\"\")\n",
    "\n",
    "sca_0_filt = sca_0[rowSums(assay(sca_0)) != 0, ]\n",
    "sca_1_filt = sca_1[rowSums(assay(sca_1)) != 0, ]\n",
    "sca_2_filt = sca_2[rowSums(assay(sca_2)) != 0, ]\n",
    "sca_3_filt = sca_3[rowSums(assay(sca_3)) != 0, ]\n",
    "sca_4_filt = sca_4[rowSums(assay(sca_4)) != 0, ]\n",
    "sca_5_filt = sca_5[rowSums(assay(sca_5)) != 0, ]\n",
    "\n",
    "print(\"Dimensions after subsetting:\")\n",
    "print(dim(sca_0_filt))\n",
    "print(dim(sca_1_filt))\n",
    "print(dim(sca_2_filt))\n",
    "print(dim(sca_3_filt))\n",
    "print(dim(sca_4_filt))\n",
    "print(dim(sca_5_filt))"
   ]
  },
  {
   "cell_type": "markdown",
   "metadata": {},
   "source": [
    "#### everything\n",
    "\n",
    "background:  \n",
    "`zlmCond_all <- zlm(formula = ~condition + Female + n_genes, sca=sca) # this runs the model`\n",
    "\n",
    "a formula with the measurement variable (gene expression) on the LHS (left hand side) and \n",
    "predictors present in colData on the RHS\n",
    "expression of genes controlling for cluster, condition, sex + n_genes\n",
    "questions I can ask:\n",
    "sex differences controlling for treatments\n",
    "sex differences controlling for clusters - not necessary analyze all the clusters\n",
    "overall gene expression changes in treatment\n"
   ]
  },
  {
   "cell_type": "code",
   "execution_count": 9,
   "metadata": {},
   "outputs": [],
   "source": [
    "%%R \n",
    "#Define & run hurdle model \n",
    "zlmCond_all <- zlm(formula = ~condition + Female + n_genes, sca=sca) # this runs the model\n",
    "summaryCond_all <- summary(zlmCond_all, doLRT=TRUE) # extracts the data, gives datatable with summary of fit, doLRT=TRUE extracts likelihood ratio test p-value\n",
    "summaryDt_all <- summaryCond_all$datatable # reformats into a table"
   ]
  },
  {
   "cell_type": "code",
   "execution_count": 10,
   "metadata": {},
   "outputs": [
    {
     "name": "stdout",
     "output_type": "stream",
     "text": [
      "       primerid component        contrast  Pr..Chisq.        ci.hi        ci.lo\n",
      "1 0610009B22Rik         C      FemaleTRUE 0.965502715  0.009874287 -0.010320197\n",
      "2 0610009B22Rik         C   conditionGCSF 0.022256004  0.030826080  0.002381708\n",
      "3 0610009B22Rik         C conditiondmPGE2 0.259041938  0.014006607 -0.052105266\n",
      "4 0610009B22Rik         C   conditionindo 0.174228770  0.019174089 -0.003466548\n",
      "5 0610009B22Rik         C    conditionpIC 0.001923491 -0.013984948 -0.061834194\n",
      "6 0610009B22Rik         C         n_genes 0.000000000 -0.134651440 -0.144165284\n",
      "           coef            z\n",
      "1 -0.0002229548  -0.04327749\n",
      "2  0.0166038940   2.28818797\n",
      "3 -0.0190493296  -1.12947943\n",
      "4  0.0078537701   1.35977679\n",
      "5 -0.0379095710  -3.10564536\n",
      "6 -0.1394083622 -57.43953212\n"
     ]
    }
   ],
   "source": [
    "%%R\n",
    "head(summaryDt_all)"
   ]
  },
  {
   "cell_type": "code",
   "execution_count": 11,
   "metadata": {},
   "outputs": [],
   "source": [
    "%%R -o female_all -o GCSF_all -o dmPGE2_all -o indo_all -o pIC_all\n",
    "\n",
    "# reformat for female\n",
    "result_all_Female <- merge(summaryDt_all[contrast=='FemaleTRUE' & component=='H',.(primerid, `Pr(>Chisq)`)], #P-vals\n",
    "                  summaryDt_all[contrast=='FemaleTRUE' & component=='logFC', .(primerid, coef)],\n",
    "                  by='primerid') #logFC coefficients\n",
    "#Correct for multiple testing (FDR correction) and filtering\n",
    "result_all_Female[,FDR:=p.adjust(`Pr(>Chisq)`, 'fdr')] # create column named FDR - probably that p.adjust function\n",
    "female_all = result_all_Female[result_all_Female$FDR<0.01,, drop=F] # create new table where rows with FDR<0.01 are droped\n",
    "female_all = female_all[order(female_all$FDR),] # sorts the table\n",
    "\n",
    "\n",
    "# reformat for GCSF\n",
    "result_all_GCSF <- merge(summaryDt_all[contrast=='conditionGCSF' & component=='H',.(primerid, `Pr(>Chisq)`)], #P-vals\n",
    "                  summaryDt_all[contrast=='conditionGCSF' & component=='logFC', .(primerid, coef)],\n",
    "                  by='primerid') #logFC coefficients\n",
    "#Correct for multiple testing (FDR correction) and filtering\n",
    "result_all_GCSF[,FDR:=p.adjust(`Pr(>Chisq)`, 'fdr')] # create column named FDR - probably that p.adjust function\n",
    "GCSF_all = result_all_GCSF[result_all_GCSF$FDR<0.01,, drop=F] # create new table where rows with FDR<0.01 are droped\n",
    "GCSF_all = GCSF_all[order(GCSF_all$FDR),] # sorts the table\n",
    "\n",
    "\n",
    "# reformat for dmPGE2\n",
    "result_all_dmPGE2 <- merge(summaryDt_all[contrast=='conditiondmPGE2' & component=='H',.(primerid, `Pr(>Chisq)`)], #P-vals\n",
    "                  summaryDt_all[contrast=='conditiondmPGE2' & component=='logFC', .(primerid, coef)],\n",
    "                  by='primerid') #logFC coefficients\n",
    "#Correct for multiple testing (FDR correction) and filtering\n",
    "result_all_dmPGE2[,FDR:=p.adjust(`Pr(>Chisq)`, 'fdr')] # create column named FDR - probably that p.adjust function\n",
    "dmPGE2_all = result_all_dmPGE2[result_all_dmPGE2$FDR<0.01,, drop=F] # create new table where rows with FDR<0.01 are droped\n",
    "dmPGE2_all = dmPGE2_all[order(dmPGE2_all$FDR),] # sorts the table\n",
    "\n",
    "\n",
    "# reformat for indo\n",
    "result_all_indo <- merge(summaryDt_all[contrast=='conditionindo' & component=='H',.(primerid, `Pr(>Chisq)`)], #P-vals\n",
    "                  summaryDt_all[contrast=='conditionindo' & component=='logFC', .(primerid, coef)],\n",
    "                  by='primerid') #logFC coefficients\n",
    "#Correct for multiple testing (FDR correction) and filtering\n",
    "result_all_indo[,FDR:=p.adjust(`Pr(>Chisq)`, 'fdr')] # create column named FDR - probably that p.adjust function\n",
    "indo_all = result_all_indo[result_all_indo$FDR<0.01,, drop=F] # create new table where rows with FDR<0.01 are droped\n",
    "indo_all = indo_all[order(indo_all$FDR),] # sorts the table\n",
    "\n",
    "# reformat for pIC\n",
    "result_all_pIC <- merge(summaryDt_all[contrast=='conditionpIC' & component=='H',.(primerid, `Pr(>Chisq)`)], #P-vals\n",
    "                  summaryDt_all[contrast=='conditionpIC' & component=='logFC', .(primerid, coef)],\n",
    "                  by='primerid') #logFC coefficients\n",
    "#Correct for multiple testing (FDR correction) and filtering\n",
    "result_all_pIC[,FDR:=p.adjust(`Pr(>Chisq)`, 'fdr')] # create column named FDR - probably that p.adjust function\n",
    "pIC_all = result_all_pIC[result_all_pIC$FDR<0.01,, drop=F] # create new table where rows with FDR<0.01 are droped\n",
    "pIC_all = pIC_all[order(pIC_all$FDR),] # sorts the table"
   ]
  },
  {
   "cell_type": "code",
   "execution_count": 12,
   "metadata": {},
   "outputs": [],
   "source": [
    "%%R -o MAST_raw_all\n",
    "\n",
    "MAST_raw_all <- summaryDt_all"
   ]
  },
  {
   "cell_type": "code",
   "execution_count": 13,
   "metadata": {},
   "outputs": [],
   "source": [
    "# save files as .csvs\n",
    "\n",
    "MAST_raw_all.to_csv('./write/LT_MAST_raw_all.csv')\n",
    "female_all.to_csv('./write/LT_MAST_female_all.csv')\n",
    "GCSF_all.to_csv('./write/LT_MAST_GCSF_all.csv')\n",
    "pIC_all.to_csv('./write/LT_MAST_pIC_all.csv')\n",
    "dmPGE2_all.to_csv('./write/LT_MAST_dmPGE2_all.csv')\n",
    "indo_all.to_csv('./write/LT_MAST_indo_all.csv')"
   ]
  },
  {
   "cell_type": "markdown",
   "metadata": {},
   "source": [
    "#### cluster 0"
   ]
  },
  {
   "cell_type": "code",
   "execution_count": 14,
   "metadata": {},
   "outputs": [
    {
     "name": "stdout",
     "output_type": "stream",
     "text": [
      " [1] \"adata_raw\"         \"cond\"              \"dmPGE2_all\"       \n",
      " [4] \"expressed_genes\"   \"female_all\"        \"freq_expressed\"   \n",
      " [7] \"GCSF_all\"          \"indo_all\"          \"MAST_raw_all\"     \n",
      "[10] \"pIC_all\"           \"result_all_dmPGE2\" \"result_all_Female\"\n",
      "[13] \"result_all_GCSF\"   \"result_all_indo\"   \"result_all_pIC\"   \n",
      "[16] \"sca\"               \"sca_0\"             \"sca_0_filt\"       \n",
      "[19] \"sca_1\"             \"sca_1_filt\"        \"sca_2\"            \n",
      "[22] \"sca_2_filt\"        \"sca_3\"             \"sca_3_filt\"       \n",
      "[25] \"sca_4\"             \"sca_4_filt\"        \"sca_5\"            \n",
      "[28] \"sca_5_filt\"        \"summaryCond_all\"   \"summaryDt_all\"    \n",
      "[31] \"zlmCond_all\"      \n"
     ]
    }
   ],
   "source": [
    "%%R\n",
    "# list all variables \n",
    "ls()"
   ]
  },
  {
   "cell_type": "code",
   "execution_count": 15,
   "metadata": {},
   "outputs": [],
   "source": [
    "%%R\n",
    "# remove previous variables\n",
    "\n",
    "rm(zlmCond_all)\n",
    "rm(summaryDt_all)\n",
    "rm(summaryCond_all)\n",
    "rm(MAST_raw_all)"
   ]
  },
  {
   "cell_type": "code",
   "execution_count": 16,
   "metadata": {},
   "outputs": [],
   "source": [
    "%%R \n",
    "#Define & run hurdle model \n",
    "zlmCond_all <- zlm(formula = ~condition + Female + n_genes, sca=sca_0) # this runs the model\n",
    "summaryCond_all <- summary(zlmCond_all, doLRT=TRUE) # extracts the data, gives datatable with summary of fit, doLRT=TRUE extracts likelihood ratio test p-value\n",
    "summaryDt_all <- summaryCond_all$datatable # reformats into a table"
   ]
  },
  {
   "cell_type": "code",
   "execution_count": 17,
   "metadata": {},
   "outputs": [
    {
     "name": "stdout",
     "output_type": "stream",
     "text": [
      "       primerid component        contrast    Pr..Chisq.       ci.hi\n",
      "1 0610009B22Rik         C      FemaleTRUE  9.080832e-01  0.01497169\n",
      "2 0610009B22Rik         C   conditionGCSF  3.637252e-02  0.04330333\n",
      "3 0610009B22Rik         C conditiondmPGE2  2.037933e-01  0.10723323\n",
      "4 0610009B22Rik         C   conditionindo  2.367880e-01  0.02855857\n",
      "5 0610009B22Rik         C    conditionpIC  6.441267e-01  0.02865934\n",
      "6 0610009B22Rik         C         n_genes 1.872675e-150 -0.11266419\n",
      "         ci.lo          coef           z\n",
      "1 -0.016847068 -0.0009376885  -0.1155190\n",
      "2  0.001445013  0.0223741739   2.0952859\n",
      "3 -0.022833151  0.0422000371   1.2718207\n",
      "4 -0.007049160  0.0107547043   1.1839471\n",
      "5 -0.046347547 -0.0088441031  -0.4622008\n",
      "6 -0.128900364 -0.1207822792 -29.1606846\n"
     ]
    }
   ],
   "source": [
    "%%R\n",
    "head(summaryDt_all)"
   ]
  },
  {
   "cell_type": "code",
   "execution_count": 18,
   "metadata": {},
   "outputs": [],
   "source": [
    "%%R -o female_all -o GCSF_all -o dmPGE2_all -o indo_all -o pIC_all\n",
    "\n",
    "# reformat for female\n",
    "result_all_Female <- merge(summaryDt_all[contrast=='FemaleTRUE' & component=='H',.(primerid, `Pr(>Chisq)`)], #P-vals\n",
    "                  summaryDt_all[contrast=='FemaleTRUE' & component=='logFC', .(primerid, coef)],\n",
    "                  by='primerid') #logFC coefficients\n",
    "#Correct for multiple testing (FDR correction) and filtering\n",
    "result_all_Female[,FDR:=p.adjust(`Pr(>Chisq)`, 'fdr')] # create column named FDR - probably that p.adjust function\n",
    "female_all = result_all_Female[result_all_Female$FDR<0.01,, drop=F] # create new table where rows with FDR<0.01 are droped\n",
    "female_all = female_all[order(female_all$FDR),] # sorts the table\n",
    "\n",
    "\n",
    "# reformat for GCSF\n",
    "result_all_GCSF <- merge(summaryDt_all[contrast=='conditionGCSF' & component=='H',.(primerid, `Pr(>Chisq)`)], #P-vals\n",
    "                  summaryDt_all[contrast=='conditionGCSF' & component=='logFC', .(primerid, coef)],\n",
    "                  by='primerid') #logFC coefficients\n",
    "#Correct for multiple testing (FDR correction) and filtering\n",
    "result_all_GCSF[,FDR:=p.adjust(`Pr(>Chisq)`, 'fdr')] # create column named FDR - probably that p.adjust function\n",
    "GCSF_all = result_all_GCSF[result_all_GCSF$FDR<0.01,, drop=F] # create new table where rows with FDR<0.01 are droped\n",
    "GCSF_all = GCSF_all[order(GCSF_all$FDR),] # sorts the table\n",
    "\n",
    "\n",
    "# reformat for dmPGE2\n",
    "result_all_dmPGE2 <- merge(summaryDt_all[contrast=='conditiondmPGE2' & component=='H',.(primerid, `Pr(>Chisq)`)], #P-vals\n",
    "                  summaryDt_all[contrast=='conditiondmPGE2' & component=='logFC', .(primerid, coef)],\n",
    "                  by='primerid') #logFC coefficients\n",
    "#Correct for multiple testing (FDR correction) and filtering\n",
    "result_all_dmPGE2[,FDR:=p.adjust(`Pr(>Chisq)`, 'fdr')] # create column named FDR - probably that p.adjust function\n",
    "dmPGE2_all = result_all_dmPGE2[result_all_dmPGE2$FDR<0.01,, drop=F] # create new table where rows with FDR<0.01 are droped\n",
    "dmPGE2_all = dmPGE2_all[order(dmPGE2_all$FDR),] # sorts the table\n",
    "\n",
    "\n",
    "# reformat for indo\n",
    "result_all_indo <- merge(summaryDt_all[contrast=='conditionindo' & component=='H',.(primerid, `Pr(>Chisq)`)], #P-vals\n",
    "                  summaryDt_all[contrast=='conditionindo' & component=='logFC', .(primerid, coef)],\n",
    "                  by='primerid') #logFC coefficients\n",
    "#Correct for multiple testing (FDR correction) and filtering\n",
    "result_all_indo[,FDR:=p.adjust(`Pr(>Chisq)`, 'fdr')] # create column named FDR - probably that p.adjust function\n",
    "indo_all = result_all_indo[result_all_indo$FDR<0.01,, drop=F] # create new table where rows with FDR<0.01 are droped\n",
    "indo_all = indo_all[order(indo_all$FDR),] # sorts the table\n",
    "\n",
    "# reformat for pIC\n",
    "result_all_pIC <- merge(summaryDt_all[contrast=='conditionpIC' & component=='H',.(primerid, `Pr(>Chisq)`)], #P-vals\n",
    "                  summaryDt_all[contrast=='conditionpIC' & component=='logFC', .(primerid, coef)],\n",
    "                  by='primerid') #logFC coefficients\n",
    "#Correct for multiple testing (FDR correction) and filtering\n",
    "result_all_pIC[,FDR:=p.adjust(`Pr(>Chisq)`, 'fdr')] # create column named FDR - probably that p.adjust function\n",
    "pIC_all = result_all_pIC[result_all_pIC$FDR<0.01,, drop=F] # create new table where rows with FDR<0.01 are droped\n",
    "pIC_all = pIC_all[order(pIC_all$FDR),] # sorts the table"
   ]
  },
  {
   "cell_type": "code",
   "execution_count": 19,
   "metadata": {},
   "outputs": [],
   "source": [
    "%%R -o MAST_raw_all\n",
    "\n",
    "MAST_raw_all <- summaryDt_all"
   ]
  },
  {
   "cell_type": "code",
   "execution_count": 21,
   "metadata": {},
   "outputs": [],
   "source": [
    "# save files as .csvs\n",
    "\n",
    "MAST_raw_all.to_csv('./write/LT_MAST_raw_0.csv')\n",
    "female_all.to_csv('./write/LT_MAST_female_0.csv')\n",
    "GCSF_all.to_csv('./write/LT_MAST_GCSF_0.csv')\n",
    "pIC_all.to_csv('./write/LT_MAST_pIC_0.csv')\n",
    "dmPGE2_all.to_csv('./write/LT_MAST_dmPGE2_0.csv')\n",
    "indo_all.to_csv('./write/LT_MAST_indo_0.csv')"
   ]
  },
  {
   "cell_type": "markdown",
   "metadata": {},
   "source": [
    "#### cluster 1"
   ]
  },
  {
   "cell_type": "code",
   "execution_count": 22,
   "metadata": {},
   "outputs": [
    {
     "name": "stdout",
     "output_type": "stream",
     "text": [
      " [1] \"adata_raw\"         \"cond\"              \"dmPGE2_all\"       \n",
      " [4] \"expressed_genes\"   \"female_all\"        \"freq_expressed\"   \n",
      " [7] \"GCSF_all\"          \"indo_all\"          \"MAST_raw_all\"     \n",
      "[10] \"pIC_all\"           \"result_all_dmPGE2\" \"result_all_Female\"\n",
      "[13] \"result_all_GCSF\"   \"result_all_indo\"   \"result_all_pIC\"   \n",
      "[16] \"sca\"               \"sca_0\"             \"sca_0_filt\"       \n",
      "[19] \"sca_1\"             \"sca_1_filt\"        \"sca_2\"            \n",
      "[22] \"sca_2_filt\"        \"sca_3\"             \"sca_3_filt\"       \n",
      "[25] \"sca_4\"             \"sca_4_filt\"        \"sca_5\"            \n",
      "[28] \"sca_5_filt\"        \"summaryCond_all\"   \"summaryDt_all\"    \n",
      "[31] \"zlmCond_all\"      \n"
     ]
    }
   ],
   "source": [
    "%%R\n",
    "# list all variables \n",
    "ls()"
   ]
  },
  {
   "cell_type": "code",
   "execution_count": 23,
   "metadata": {},
   "outputs": [],
   "source": [
    "%%R\n",
    "# remove previous variables\n",
    "\n",
    "rm(zlmCond_all)\n",
    "rm(summaryDt_all)\n",
    "rm(summaryCond_all)\n",
    "rm(MAST_raw_all)"
   ]
  },
  {
   "cell_type": "code",
   "execution_count": 24,
   "metadata": {},
   "outputs": [],
   "source": [
    "%%R \n",
    "#Define & run hurdle model \n",
    "zlmCond_all <- zlm(formula = ~condition + Female + n_genes, sca=sca_1) # this runs the model\n",
    "summaryCond_all <- summary(zlmCond_all, doLRT=TRUE) # extracts the data, gives datatable with summary of fit, doLRT=TRUE extracts likelihood ratio test p-value\n",
    "summaryDt_all <- summaryCond_all$datatable # reformats into a table"
   ]
  },
  {
   "cell_type": "code",
   "execution_count": 25,
   "metadata": {},
   "outputs": [
    {
     "name": "stdout",
     "output_type": "stream",
     "text": [
      "       primerid component        contrast    Pr..Chisq.       ci.hi\n",
      "1 0610009B22Rik         C      FemaleTRUE  3.775929e-01  0.01027582\n",
      "2 0610009B22Rik         C   conditionGCSF  1.421362e-01  0.04698239\n",
      "3 0610009B22Rik         C conditiondmPGE2  2.551261e-01  0.07639270\n",
      "4 0610009B22Rik         C   conditionindo  2.821035e-02  0.04399397\n",
      "5 0610009B22Rik         C    conditionpIC  5.530358e-01  0.06729348\n",
      "6 0610009B22Rik         C         n_genes 3.750762e-117 -0.16649073\n",
      "         ci.lo         coef           z\n",
      "1 -0.027148822 -0.008436504  -0.8836555\n",
      "2 -0.006703486  0.020139451   1.4705022\n",
      "3 -0.288725821 -0.106166559  -1.1398087\n",
      "4  0.002533674  0.023263823   2.1995141\n",
      "5 -0.035989371  0.015652052   0.5940475\n",
      "6 -0.193747030 -0.180118881 -25.9042163\n"
     ]
    }
   ],
   "source": [
    "%%R\n",
    "head(summaryDt_all)"
   ]
  },
  {
   "cell_type": "code",
   "execution_count": 26,
   "metadata": {},
   "outputs": [],
   "source": [
    "%%R -o female_all -o GCSF_all -o dmPGE2_all -o indo_all -o pIC_all\n",
    "\n",
    "# reformat for female\n",
    "result_all_Female <- merge(summaryDt_all[contrast=='FemaleTRUE' & component=='H',.(primerid, `Pr(>Chisq)`)], #P-vals\n",
    "                  summaryDt_all[contrast=='FemaleTRUE' & component=='logFC', .(primerid, coef)],\n",
    "                  by='primerid') #logFC coefficients\n",
    "#Correct for multiple testing (FDR correction) and filtering\n",
    "result_all_Female[,FDR:=p.adjust(`Pr(>Chisq)`, 'fdr')] # create column named FDR - probably that p.adjust function\n",
    "female_all = result_all_Female[result_all_Female$FDR<0.01,, drop=F] # create new table where rows with FDR<0.01 are droped\n",
    "female_all = female_all[order(female_all$FDR),] # sorts the table\n",
    "\n",
    "\n",
    "# reformat for GCSF\n",
    "result_all_GCSF <- merge(summaryDt_all[contrast=='conditionGCSF' & component=='H',.(primerid, `Pr(>Chisq)`)], #P-vals\n",
    "                  summaryDt_all[contrast=='conditionGCSF' & component=='logFC', .(primerid, coef)],\n",
    "                  by='primerid') #logFC coefficients\n",
    "#Correct for multiple testing (FDR correction) and filtering\n",
    "result_all_GCSF[,FDR:=p.adjust(`Pr(>Chisq)`, 'fdr')] # create column named FDR - probably that p.adjust function\n",
    "GCSF_all = result_all_GCSF[result_all_GCSF$FDR<0.01,, drop=F] # create new table where rows with FDR<0.01 are droped\n",
    "GCSF_all = GCSF_all[order(GCSF_all$FDR),] # sorts the table\n",
    "\n",
    "\n",
    "# reformat for dmPGE2\n",
    "result_all_dmPGE2 <- merge(summaryDt_all[contrast=='conditiondmPGE2' & component=='H',.(primerid, `Pr(>Chisq)`)], #P-vals\n",
    "                  summaryDt_all[contrast=='conditiondmPGE2' & component=='logFC', .(primerid, coef)],\n",
    "                  by='primerid') #logFC coefficients\n",
    "#Correct for multiple testing (FDR correction) and filtering\n",
    "result_all_dmPGE2[,FDR:=p.adjust(`Pr(>Chisq)`, 'fdr')] # create column named FDR - probably that p.adjust function\n",
    "dmPGE2_all = result_all_dmPGE2[result_all_dmPGE2$FDR<0.01,, drop=F] # create new table where rows with FDR<0.01 are droped\n",
    "dmPGE2_all = dmPGE2_all[order(dmPGE2_all$FDR),] # sorts the table\n",
    "\n",
    "\n",
    "# reformat for indo\n",
    "result_all_indo <- merge(summaryDt_all[contrast=='conditionindo' & component=='H',.(primerid, `Pr(>Chisq)`)], #P-vals\n",
    "                  summaryDt_all[contrast=='conditionindo' & component=='logFC', .(primerid, coef)],\n",
    "                  by='primerid') #logFC coefficients\n",
    "#Correct for multiple testing (FDR correction) and filtering\n",
    "result_all_indo[,FDR:=p.adjust(`Pr(>Chisq)`, 'fdr')] # create column named FDR - probably that p.adjust function\n",
    "indo_all = result_all_indo[result_all_indo$FDR<0.01,, drop=F] # create new table where rows with FDR<0.01 are droped\n",
    "indo_all = indo_all[order(indo_all$FDR),] # sorts the table\n",
    "\n",
    "# reformat for pIC\n",
    "result_all_pIC <- merge(summaryDt_all[contrast=='conditionpIC' & component=='H',.(primerid, `Pr(>Chisq)`)], #P-vals\n",
    "                  summaryDt_all[contrast=='conditionpIC' & component=='logFC', .(primerid, coef)],\n",
    "                  by='primerid') #logFC coefficients\n",
    "#Correct for multiple testing (FDR correction) and filtering\n",
    "result_all_pIC[,FDR:=p.adjust(`Pr(>Chisq)`, 'fdr')] # create column named FDR - probably that p.adjust function\n",
    "pIC_all = result_all_pIC[result_all_pIC$FDR<0.01,, drop=F] # create new table where rows with FDR<0.01 are droped\n",
    "pIC_all = pIC_all[order(pIC_all$FDR),] # sorts the table"
   ]
  },
  {
   "cell_type": "code",
   "execution_count": 27,
   "metadata": {},
   "outputs": [],
   "source": [
    "%%R -o MAST_raw_all\n",
    "\n",
    "MAST_raw_all <- summaryDt_all"
   ]
  },
  {
   "cell_type": "code",
   "execution_count": 28,
   "metadata": {},
   "outputs": [],
   "source": [
    "# save files as .csvs\n",
    "\n",
    "MAST_raw_all.to_csv('./write/LT_MAST_raw_1.csv')\n",
    "female_all.to_csv('./write/LT_MAST_female_1.csv')\n",
    "GCSF_all.to_csv('./write/LT_MAST_GCSF_1.csv')\n",
    "pIC_all.to_csv('./write/LT_MAST_pIC_1.csv')\n",
    "dmPGE2_all.to_csv('./write/LT_1_MAST_dmPGE2_1.csv')\n",
    "indo_all.to_csv('./write/LT_MAST_indo_1.csv')"
   ]
  },
  {
   "cell_type": "markdown",
   "metadata": {},
   "source": [
    "#### cluster 2"
   ]
  },
  {
   "cell_type": "code",
   "execution_count": 29,
   "metadata": {},
   "outputs": [
    {
     "name": "stdout",
     "output_type": "stream",
     "text": [
      " [1] \"adata_raw\"         \"cond\"              \"dmPGE2_all\"       \n",
      " [4] \"expressed_genes\"   \"female_all\"        \"freq_expressed\"   \n",
      " [7] \"GCSF_all\"          \"indo_all\"          \"MAST_raw_all\"     \n",
      "[10] \"pIC_all\"           \"result_all_dmPGE2\" \"result_all_Female\"\n",
      "[13] \"result_all_GCSF\"   \"result_all_indo\"   \"result_all_pIC\"   \n",
      "[16] \"sca\"               \"sca_0\"             \"sca_0_filt\"       \n",
      "[19] \"sca_1\"             \"sca_1_filt\"        \"sca_2\"            \n",
      "[22] \"sca_2_filt\"        \"sca_3\"             \"sca_3_filt\"       \n",
      "[25] \"sca_4\"             \"sca_4_filt\"        \"sca_5\"            \n",
      "[28] \"sca_5_filt\"        \"summaryCond_all\"   \"summaryDt_all\"    \n",
      "[31] \"zlmCond_all\"      \n"
     ]
    }
   ],
   "source": [
    "%%R\n",
    "# list all variables \n",
    "ls()"
   ]
  },
  {
   "cell_type": "code",
   "execution_count": 30,
   "metadata": {},
   "outputs": [],
   "source": [
    "%%R\n",
    "# remove previous variables\n",
    "\n",
    "rm(zlmCond_all)\n",
    "rm(summaryDt_all)\n",
    "rm(summaryCond_all)\n",
    "rm(MAST_raw_all)"
   ]
  },
  {
   "cell_type": "code",
   "execution_count": 31,
   "metadata": {},
   "outputs": [],
   "source": [
    "%%R \n",
    "#Define & run hurdle model \n",
    "zlmCond_all <- zlm(formula = ~condition + Female + n_genes, sca=sca_2) # this runs the model\n",
    "summaryCond_all <- summary(zlmCond_all, doLRT=TRUE) # extracts the data, gives datatable with summary of fit, doLRT=TRUE extracts likelihood ratio test p-value\n",
    "summaryDt_all <- summaryCond_all$datatable # reformats into a table"
   ]
  },
  {
   "cell_type": "code",
   "execution_count": 32,
   "metadata": {},
   "outputs": [
    {
     "name": "stdout",
     "output_type": "stream",
     "text": [
      "       primerid component        contrast    Pr..Chisq.       ci.hi\n",
      "1 0610009B22Rik         C      FemaleTRUE  2.165310e-01  0.03151910\n",
      "2 0610009B22Rik         C   conditionGCSF  4.952166e-01  0.03842257\n",
      "3 0610009B22Rik         C conditiondmPGE2  8.794907e-01  0.06021201\n",
      "4 0610009B22Rik         C   conditionindo  9.037395e-01  0.01986890\n",
      "5 0610009B22Rik         C    conditionpIC  9.160002e-01  0.06635253\n",
      "6 0610009B22Rik         C         n_genes 1.865121e-137 -0.13609065\n",
      "         ci.lo         coef           z\n",
      "1 -0.007105417  0.012206842   1.2388489\n",
      "2 -0.018552293  0.009935138   0.6835475\n",
      "3 -0.070331703 -0.005059846  -0.1519356\n",
      "4 -0.022488040 -0.001309571  -0.1211944\n",
      "5 -0.073916929 -0.003782197  -0.1056961\n",
      "6 -0.155765854 -0.145928254 -29.0735670\n"
     ]
    }
   ],
   "source": [
    "%%R\n",
    "head(summaryDt_all)"
   ]
  },
  {
   "cell_type": "code",
   "execution_count": 33,
   "metadata": {},
   "outputs": [],
   "source": [
    "%%R -o female_all -o GCSF_all -o dmPGE2_all -o indo_all -o pIC_all\n",
    "\n",
    "# reformat for female\n",
    "result_all_Female <- merge(summaryDt_all[contrast=='FemaleTRUE' & component=='H',.(primerid, `Pr(>Chisq)`)], #P-vals\n",
    "                  summaryDt_all[contrast=='FemaleTRUE' & component=='logFC', .(primerid, coef)],\n",
    "                  by='primerid') #logFC coefficients\n",
    "#Correct for multiple testing (FDR correction) and filtering\n",
    "result_all_Female[,FDR:=p.adjust(`Pr(>Chisq)`, 'fdr')] # create column named FDR - probably that p.adjust function\n",
    "female_all = result_all_Female[result_all_Female$FDR<0.01,, drop=F] # create new table where rows with FDR<0.01 are droped\n",
    "female_all = female_all[order(female_all$FDR),] # sorts the table\n",
    "\n",
    "\n",
    "# reformat for GCSF\n",
    "result_all_GCSF <- merge(summaryDt_all[contrast=='conditionGCSF' & component=='H',.(primerid, `Pr(>Chisq)`)], #P-vals\n",
    "                  summaryDt_all[contrast=='conditionGCSF' & component=='logFC', .(primerid, coef)],\n",
    "                  by='primerid') #logFC coefficients\n",
    "#Correct for multiple testing (FDR correction) and filtering\n",
    "result_all_GCSF[,FDR:=p.adjust(`Pr(>Chisq)`, 'fdr')] # create column named FDR - probably that p.adjust function\n",
    "GCSF_all = result_all_GCSF[result_all_GCSF$FDR<0.01,, drop=F] # create new table where rows with FDR<0.01 are droped\n",
    "GCSF_all = GCSF_all[order(GCSF_all$FDR),] # sorts the table\n",
    "\n",
    "\n",
    "# reformat for dmPGE2\n",
    "result_all_dmPGE2 <- merge(summaryDt_all[contrast=='conditiondmPGE2' & component=='H',.(primerid, `Pr(>Chisq)`)], #P-vals\n",
    "                  summaryDt_all[contrast=='conditiondmPGE2' & component=='logFC', .(primerid, coef)],\n",
    "                  by='primerid') #logFC coefficients\n",
    "#Correct for multiple testing (FDR correction) and filtering\n",
    "result_all_dmPGE2[,FDR:=p.adjust(`Pr(>Chisq)`, 'fdr')] # create column named FDR - probably that p.adjust function\n",
    "dmPGE2_all = result_all_dmPGE2[result_all_dmPGE2$FDR<0.01,, drop=F] # create new table where rows with FDR<0.01 are droped\n",
    "dmPGE2_all = dmPGE2_all[order(dmPGE2_all$FDR),] # sorts the table\n",
    "\n",
    "\n",
    "# reformat for indo\n",
    "result_all_indo <- merge(summaryDt_all[contrast=='conditionindo' & component=='H',.(primerid, `Pr(>Chisq)`)], #P-vals\n",
    "                  summaryDt_all[contrast=='conditionindo' & component=='logFC', .(primerid, coef)],\n",
    "                  by='primerid') #logFC coefficients\n",
    "#Correct for multiple testing (FDR correction) and filtering\n",
    "result_all_indo[,FDR:=p.adjust(`Pr(>Chisq)`, 'fdr')] # create column named FDR - probably that p.adjust function\n",
    "indo_all = result_all_indo[result_all_indo$FDR<0.01,, drop=F] # create new table where rows with FDR<0.01 are droped\n",
    "indo_all = indo_all[order(indo_all$FDR),] # sorts the table\n",
    "\n",
    "# reformat for pIC\n",
    "result_all_pIC <- merge(summaryDt_all[contrast=='conditionpIC' & component=='H',.(primerid, `Pr(>Chisq)`)], #P-vals\n",
    "                  summaryDt_all[contrast=='conditionpIC' & component=='logFC', .(primerid, coef)],\n",
    "                  by='primerid') #logFC coefficients\n",
    "#Correct for multiple testing (FDR correction) and filtering\n",
    "result_all_pIC[,FDR:=p.adjust(`Pr(>Chisq)`, 'fdr')] # create column named FDR - probably that p.adjust function\n",
    "pIC_all = result_all_pIC[result_all_pIC$FDR<0.01,, drop=F] # create new table where rows with FDR<0.01 are droped\n",
    "pIC_all = pIC_all[order(pIC_all$FDR),] # sorts the table"
   ]
  },
  {
   "cell_type": "code",
   "execution_count": 34,
   "metadata": {},
   "outputs": [],
   "source": [
    "%%R -o MAST_raw_all\n",
    "\n",
    "MAST_raw_all <- summaryDt_all"
   ]
  },
  {
   "cell_type": "code",
   "execution_count": 35,
   "metadata": {},
   "outputs": [],
   "source": [
    "# save files as .csvs\n",
    "\n",
    "MAST_raw_all.to_csv('./write/LT_MAST_raw_2.csv')\n",
    "female_all.to_csv('./write/LT_MAST_female_2.csv')\n",
    "GCSF_all.to_csv('./write/LT_MAST_GCSF_2.csv')\n",
    "pIC_all.to_csv('./write/LT_MAST_pIC_2.csv')\n",
    "dmPGE2_all.to_csv('./write/LT_MAST_dmPGE2_2.csv')\n",
    "indo_all.to_csv('./write/LT_MAST_indo_2.csv')"
   ]
  },
  {
   "cell_type": "markdown",
   "metadata": {},
   "source": [
    "#### cluster 3"
   ]
  },
  {
   "cell_type": "code",
   "execution_count": 36,
   "metadata": {},
   "outputs": [
    {
     "name": "stdout",
     "output_type": "stream",
     "text": [
      " [1] \"adata_raw\"         \"cond\"              \"dmPGE2_all\"       \n",
      " [4] \"expressed_genes\"   \"female_all\"        \"freq_expressed\"   \n",
      " [7] \"GCSF_all\"          \"indo_all\"          \"MAST_raw_all\"     \n",
      "[10] \"pIC_all\"           \"result_all_dmPGE2\" \"result_all_Female\"\n",
      "[13] \"result_all_GCSF\"   \"result_all_indo\"   \"result_all_pIC\"   \n",
      "[16] \"sca\"               \"sca_0\"             \"sca_0_filt\"       \n",
      "[19] \"sca_1\"             \"sca_1_filt\"        \"sca_2\"            \n",
      "[22] \"sca_2_filt\"        \"sca_3\"             \"sca_3_filt\"       \n",
      "[25] \"sca_4\"             \"sca_4_filt\"        \"sca_5\"            \n",
      "[28] \"sca_5_filt\"        \"summaryCond_all\"   \"summaryDt_all\"    \n",
      "[31] \"zlmCond_all\"      \n"
     ]
    }
   ],
   "source": [
    "%%R\n",
    "# list all variables \n",
    "ls()"
   ]
  },
  {
   "cell_type": "code",
   "execution_count": 37,
   "metadata": {},
   "outputs": [],
   "source": [
    "%%R\n",
    "# remove previous variables\n",
    "\n",
    "rm(zlmCond_all)\n",
    "rm(summaryDt_all)\n",
    "rm(summaryCond_all)\n",
    "rm(MAST_raw_all)"
   ]
  },
  {
   "cell_type": "code",
   "execution_count": 38,
   "metadata": {},
   "outputs": [],
   "source": [
    "%%R \n",
    "#Define & run hurdle model \n",
    "zlmCond_all <- zlm(formula = ~condition + Female + n_genes, sca=sca_3) # this runs the model\n",
    "summaryCond_all <- summary(zlmCond_all, doLRT=TRUE) # extracts the data, gives datatable with summary of fit, doLRT=TRUE extracts likelihood ratio test p-value\n",
    "summaryDt_all <- summaryCond_all$datatable # reformats into a table"
   ]
  },
  {
   "cell_type": "code",
   "execution_count": 39,
   "metadata": {},
   "outputs": [
    {
     "name": "stdout",
     "output_type": "stream",
     "text": [
      "       primerid component      contrast   Pr..Chisq.         ci.hi       ci.lo\n",
      "1 0610009B22Rik         C    FemaleTRUE 9.782273e-01  0.0629798843 -0.06122788\n",
      "2 0610009B22Rik         C conditionGCSF 1.428487e-01  0.2785634676 -0.03756231\n",
      "3 0610009B22Rik         C conditionindo 7.546705e-01  0.0941983636 -0.13049953\n",
      "4 0610009B22Rik         C  conditionpIC 5.368692e-02 -0.0008930019 -0.20522687\n",
      "5 0610009B22Rik         C       n_genes 2.985646e-08 -0.0793501086 -0.15286381\n",
      "6 0610009B22Rik         C   (Intercept)           NA  0.9329993246  0.74695159\n",
      "           coef           z\n",
      "1  0.0008760017  0.02764613\n",
      "2  0.1205005793  1.49419511\n",
      "3 -0.0181505857 -0.31664287\n",
      "4 -0.1030599337 -1.97709528\n",
      "5 -0.1161069582 -6.19110339\n",
      "6  0.8399754578 17.69784146\n"
     ]
    }
   ],
   "source": [
    "%%R\n",
    "head(summaryDt_all)"
   ]
  },
  {
   "cell_type": "code",
   "execution_count": 40,
   "metadata": {},
   "outputs": [],
   "source": [
    "%%R -o female_all -o GCSF_all -o dmPGE2_all -o indo_all -o pIC_all\n",
    "\n",
    "# reformat for female\n",
    "result_all_Female <- merge(summaryDt_all[contrast=='FemaleTRUE' & component=='H',.(primerid, `Pr(>Chisq)`)], #P-vals\n",
    "                  summaryDt_all[contrast=='FemaleTRUE' & component=='logFC', .(primerid, coef)],\n",
    "                  by='primerid') #logFC coefficients\n",
    "#Correct for multiple testing (FDR correction) and filtering\n",
    "result_all_Female[,FDR:=p.adjust(`Pr(>Chisq)`, 'fdr')] # create column named FDR - probably that p.adjust function\n",
    "female_all = result_all_Female[result_all_Female$FDR<0.01,, drop=F] # create new table where rows with FDR<0.01 are droped\n",
    "female_all = female_all[order(female_all$FDR),] # sorts the table\n",
    "\n",
    "\n",
    "# reformat for GCSF\n",
    "result_all_GCSF <- merge(summaryDt_all[contrast=='conditionGCSF' & component=='H',.(primerid, `Pr(>Chisq)`)], #P-vals\n",
    "                  summaryDt_all[contrast=='conditionGCSF' & component=='logFC', .(primerid, coef)],\n",
    "                  by='primerid') #logFC coefficients\n",
    "#Correct for multiple testing (FDR correction) and filtering\n",
    "result_all_GCSF[,FDR:=p.adjust(`Pr(>Chisq)`, 'fdr')] # create column named FDR - probably that p.adjust function\n",
    "GCSF_all = result_all_GCSF[result_all_GCSF$FDR<0.01,, drop=F] # create new table where rows with FDR<0.01 are droped\n",
    "GCSF_all = GCSF_all[order(GCSF_all$FDR),] # sorts the table\n",
    "\n",
    "\n",
    "# reformat for dmPGE2\n",
    "result_all_dmPGE2 <- merge(summaryDt_all[contrast=='conditiondmPGE2' & component=='H',.(primerid, `Pr(>Chisq)`)], #P-vals\n",
    "                  summaryDt_all[contrast=='conditiondmPGE2' & component=='logFC', .(primerid, coef)],\n",
    "                  by='primerid') #logFC coefficients\n",
    "#Correct for multiple testing (FDR correction) and filtering\n",
    "result_all_dmPGE2[,FDR:=p.adjust(`Pr(>Chisq)`, 'fdr')] # create column named FDR - probably that p.adjust function\n",
    "dmPGE2_all = result_all_dmPGE2[result_all_dmPGE2$FDR<0.01,, drop=F] # create new table where rows with FDR<0.01 are droped\n",
    "dmPGE2_all = dmPGE2_all[order(dmPGE2_all$FDR),] # sorts the table\n",
    "\n",
    "\n",
    "# reformat for indo\n",
    "result_all_indo <- merge(summaryDt_all[contrast=='conditionindo' & component=='H',.(primerid, `Pr(>Chisq)`)], #P-vals\n",
    "                  summaryDt_all[contrast=='conditionindo' & component=='logFC', .(primerid, coef)],\n",
    "                  by='primerid') #logFC coefficients\n",
    "#Correct for multiple testing (FDR correction) and filtering\n",
    "result_all_indo[,FDR:=p.adjust(`Pr(>Chisq)`, 'fdr')] # create column named FDR - probably that p.adjust function\n",
    "indo_all = result_all_indo[result_all_indo$FDR<0.01,, drop=F] # create new table where rows with FDR<0.01 are droped\n",
    "indo_all = indo_all[order(indo_all$FDR),] # sorts the table\n",
    "\n",
    "# reformat for pIC\n",
    "result_all_pIC <- merge(summaryDt_all[contrast=='conditionpIC' & component=='H',.(primerid, `Pr(>Chisq)`)], #P-vals\n",
    "                  summaryDt_all[contrast=='conditionpIC' & component=='logFC', .(primerid, coef)],\n",
    "                  by='primerid') #logFC coefficients\n",
    "#Correct for multiple testing (FDR correction) and filtering\n",
    "result_all_pIC[,FDR:=p.adjust(`Pr(>Chisq)`, 'fdr')] # create column named FDR - probably that p.adjust function\n",
    "pIC_all = result_all_pIC[result_all_pIC$FDR<0.01,, drop=F] # create new table where rows with FDR<0.01 are droped\n",
    "pIC_all = pIC_all[order(pIC_all$FDR),] # sorts the table"
   ]
  },
  {
   "cell_type": "code",
   "execution_count": 41,
   "metadata": {},
   "outputs": [],
   "source": [
    "%%R -o MAST_raw_all\n",
    "\n",
    "MAST_raw_all <- summaryDt_all"
   ]
  },
  {
   "cell_type": "code",
   "execution_count": 42,
   "metadata": {},
   "outputs": [],
   "source": [
    "# save files as .csvs\n",
    "\n",
    "MAST_raw_all.to_csv('./write/LT_MAST_raw_3.csv')\n",
    "female_all.to_csv('./write/LT_MAST_female_3.csv')\n",
    "GCSF_all.to_csv('./write/LT_MAST_GCSF_3.csv')\n",
    "pIC_all.to_csv('./write/LT_MAST_pIC_3.csv')\n",
    "dmPGE2_all.to_csv('./write/LT_MAST_dmPGE2_3.csv')\n",
    "indo_all.to_csv('./write/LT_MAST_indo_3.csv')"
   ]
  },
  {
   "cell_type": "markdown",
   "metadata": {},
   "source": [
    "#### cluster 4"
   ]
  },
  {
   "cell_type": "code",
   "execution_count": 43,
   "metadata": {},
   "outputs": [
    {
     "name": "stdout",
     "output_type": "stream",
     "text": [
      " [1] \"adata_raw\"         \"cond\"              \"dmPGE2_all\"       \n",
      " [4] \"expressed_genes\"   \"female_all\"        \"freq_expressed\"   \n",
      " [7] \"GCSF_all\"          \"indo_all\"          \"MAST_raw_all\"     \n",
      "[10] \"pIC_all\"           \"result_all_dmPGE2\" \"result_all_Female\"\n",
      "[13] \"result_all_GCSF\"   \"result_all_indo\"   \"result_all_pIC\"   \n",
      "[16] \"sca\"               \"sca_0\"             \"sca_0_filt\"       \n",
      "[19] \"sca_1\"             \"sca_1_filt\"        \"sca_2\"            \n",
      "[22] \"sca_2_filt\"        \"sca_3\"             \"sca_3_filt\"       \n",
      "[25] \"sca_4\"             \"sca_4_filt\"        \"sca_5\"            \n",
      "[28] \"sca_5_filt\"        \"summaryCond_all\"   \"summaryDt_all\"    \n",
      "[31] \"zlmCond_all\"      \n"
     ]
    }
   ],
   "source": [
    "%%R\n",
    "# list all variables \n",
    "ls()"
   ]
  },
  {
   "cell_type": "code",
   "execution_count": 44,
   "metadata": {},
   "outputs": [],
   "source": [
    "%%R\n",
    "# remove previous variables\n",
    "\n",
    "rm(zlmCond_all)\n",
    "rm(summaryDt_all)\n",
    "rm(summaryCond_all)\n",
    "rm(MAST_raw_all)"
   ]
  },
  {
   "cell_type": "code",
   "execution_count": 45,
   "metadata": {},
   "outputs": [],
   "source": [
    "%%R \n",
    "#Define & run hurdle model \n",
    "zlmCond_all <- zlm(formula = ~condition + Female + n_genes, sca=sca_4) # this runs the model\n",
    "summaryCond_all <- summary(zlmCond_all, doLRT=TRUE) # extracts the data, gives datatable with summary of fit, doLRT=TRUE extracts likelihood ratio test p-value\n",
    "summaryDt_all <- summaryCond_all$datatable # reformats into a table"
   ]
  },
  {
   "cell_type": "code",
   "execution_count": 46,
   "metadata": {},
   "outputs": [
    {
     "name": "stdout",
     "output_type": "stream",
     "text": [
      "       primerid component        contrast Pr..Chisq.       ci.hi      ci.lo\n",
      "1 0610009B22Rik         C      FemaleTRUE 0.21430193  0.03596871 -0.1702462\n",
      "2 0610009B22Rik         C conditiondmPGE2 1.00000000          NA         NA\n",
      "3 0610009B22Rik         C         n_genes 0.02531992 -0.01195137 -0.1346908\n",
      "4 0610009B22Rik         C     (Intercept)         NA  0.84075455  0.7046515\n",
      "5 0610009B22Rik         D      FemaleTRUE 0.89964666  0.69450794 -0.7864429\n",
      "6 0610009B22Rik         D conditiondmPGE2 0.72654579  4.55773843 -3.4646578\n",
      "         coef          z\n",
      "1 -0.06713873 -1.2762366\n",
      "2          NA         NA\n",
      "3 -0.07332109 -2.3416546\n",
      "4  0.77270302 22.2547534\n",
      "5 -0.04596746 -0.1216713\n",
      "6  0.54654032  0.2670522\n"
     ]
    }
   ],
   "source": [
    "%%R\n",
    "head(summaryDt_all)"
   ]
  },
  {
   "cell_type": "code",
   "execution_count": 47,
   "metadata": {},
   "outputs": [],
   "source": [
    "%%R -o female_all -o GCSF_all -o dmPGE2_all -o indo_all -o pIC_all\n",
    "\n",
    "# reformat for female\n",
    "result_all_Female <- merge(summaryDt_all[contrast=='FemaleTRUE' & component=='H',.(primerid, `Pr(>Chisq)`)], #P-vals\n",
    "                  summaryDt_all[contrast=='FemaleTRUE' & component=='logFC', .(primerid, coef)],\n",
    "                  by='primerid') #logFC coefficients\n",
    "#Correct for multiple testing (FDR correction) and filtering\n",
    "result_all_Female[,FDR:=p.adjust(`Pr(>Chisq)`, 'fdr')] # create column named FDR - probably that p.adjust function\n",
    "female_all = result_all_Female[result_all_Female$FDR<0.01,, drop=F] # create new table where rows with FDR<0.01 are droped\n",
    "female_all = female_all[order(female_all$FDR),] # sorts the table\n",
    "\n",
    "\n",
    "# reformat for GCSF\n",
    "result_all_GCSF <- merge(summaryDt_all[contrast=='conditionGCSF' & component=='H',.(primerid, `Pr(>Chisq)`)], #P-vals\n",
    "                  summaryDt_all[contrast=='conditionGCSF' & component=='logFC', .(primerid, coef)],\n",
    "                  by='primerid') #logFC coefficients\n",
    "#Correct for multiple testing (FDR correction) and filtering\n",
    "result_all_GCSF[,FDR:=p.adjust(`Pr(>Chisq)`, 'fdr')] # create column named FDR - probably that p.adjust function\n",
    "GCSF_all = result_all_GCSF[result_all_GCSF$FDR<0.01,, drop=F] # create new table where rows with FDR<0.01 are droped\n",
    "GCSF_all = GCSF_all[order(GCSF_all$FDR),] # sorts the table\n",
    "\n",
    "\n",
    "# reformat for dmPGE2\n",
    "result_all_dmPGE2 <- merge(summaryDt_all[contrast=='conditiondmPGE2' & component=='H',.(primerid, `Pr(>Chisq)`)], #P-vals\n",
    "                  summaryDt_all[contrast=='conditiondmPGE2' & component=='logFC', .(primerid, coef)],\n",
    "                  by='primerid') #logFC coefficients\n",
    "#Correct for multiple testing (FDR correction) and filtering\n",
    "result_all_dmPGE2[,FDR:=p.adjust(`Pr(>Chisq)`, 'fdr')] # create column named FDR - probably that p.adjust function\n",
    "dmPGE2_all = result_all_dmPGE2[result_all_dmPGE2$FDR<0.01,, drop=F] # create new table where rows with FDR<0.01 are droped\n",
    "dmPGE2_all = dmPGE2_all[order(dmPGE2_all$FDR),] # sorts the table\n",
    "\n",
    "\n",
    "# reformat for indo\n",
    "result_all_indo <- merge(summaryDt_all[contrast=='conditionindo' & component=='H',.(primerid, `Pr(>Chisq)`)], #P-vals\n",
    "                  summaryDt_all[contrast=='conditionindo' & component=='logFC', .(primerid, coef)],\n",
    "                  by='primerid') #logFC coefficients\n",
    "#Correct for multiple testing (FDR correction) and filtering\n",
    "result_all_indo[,FDR:=p.adjust(`Pr(>Chisq)`, 'fdr')] # create column named FDR - probably that p.adjust function\n",
    "indo_all = result_all_indo[result_all_indo$FDR<0.01,, drop=F] # create new table where rows with FDR<0.01 are droped\n",
    "indo_all = indo_all[order(indo_all$FDR),] # sorts the table\n",
    "\n",
    "# reformat for pIC\n",
    "result_all_pIC <- merge(summaryDt_all[contrast=='conditionpIC' & component=='H',.(primerid, `Pr(>Chisq)`)], #P-vals\n",
    "                  summaryDt_all[contrast=='conditionpIC' & component=='logFC', .(primerid, coef)],\n",
    "                  by='primerid') #logFC coefficients\n",
    "#Correct for multiple testing (FDR correction) and filtering\n",
    "result_all_pIC[,FDR:=p.adjust(`Pr(>Chisq)`, 'fdr')] # create column named FDR - probably that p.adjust function\n",
    "pIC_all = result_all_pIC[result_all_pIC$FDR<0.01,, drop=F] # create new table where rows with FDR<0.01 are droped\n",
    "pIC_all = pIC_all[order(pIC_all$FDR),] # sorts the table"
   ]
  },
  {
   "cell_type": "code",
   "execution_count": 48,
   "metadata": {},
   "outputs": [],
   "source": [
    "%%R -o MAST_raw_all\n",
    "\n",
    "MAST_raw_all <- summaryDt_all"
   ]
  },
  {
   "cell_type": "code",
   "execution_count": 49,
   "metadata": {},
   "outputs": [],
   "source": [
    "# save files as .csvs\n",
    "\n",
    "MAST_raw_all.to_csv('./write/LT_MAST_raw_4.csv')\n",
    "female_all.to_csv('./write/LT_MAST_female_4.csv')\n",
    "GCSF_all.to_csv('./write/LT_MAST_GCSF_4.csv')\n",
    "pIC_all.to_csv('./write/LT_MAST_pIC_4.csv')\n",
    "dmPGE2_all.to_csv('./write/LT_MAST_dmPGE2_4.csv')\n",
    "indo_all.to_csv('./write/LT_MAST_indo_4.csv')"
   ]
  },
  {
   "cell_type": "markdown",
   "metadata": {},
   "source": [
    "#### cluster 5"
   ]
  },
  {
   "cell_type": "code",
   "execution_count": 50,
   "metadata": {},
   "outputs": [
    {
     "name": "stdout",
     "output_type": "stream",
     "text": [
      " [1] \"adata_raw\"         \"cond\"              \"dmPGE2_all\"       \n",
      " [4] \"expressed_genes\"   \"female_all\"        \"freq_expressed\"   \n",
      " [7] \"GCSF_all\"          \"indo_all\"          \"MAST_raw_all\"     \n",
      "[10] \"pIC_all\"           \"result_all_dmPGE2\" \"result_all_Female\"\n",
      "[13] \"result_all_GCSF\"   \"result_all_indo\"   \"result_all_pIC\"   \n",
      "[16] \"sca\"               \"sca_0\"             \"sca_0_filt\"       \n",
      "[19] \"sca_1\"             \"sca_1_filt\"        \"sca_2\"            \n",
      "[22] \"sca_2_filt\"        \"sca_3\"             \"sca_3_filt\"       \n",
      "[25] \"sca_4\"             \"sca_4_filt\"        \"sca_5\"            \n",
      "[28] \"sca_5_filt\"        \"summaryCond_all\"   \"summaryDt_all\"    \n",
      "[31] \"zlmCond_all\"      \n"
     ]
    }
   ],
   "source": [
    "%%R\n",
    "# list all variables \n",
    "ls()"
   ]
  },
  {
   "cell_type": "code",
   "execution_count": 51,
   "metadata": {},
   "outputs": [],
   "source": [
    "%%R\n",
    "# remove previous variables\n",
    "\n",
    "rm(zlmCond_all)\n",
    "rm(summaryDt_all)\n",
    "rm(summaryCond_all)\n",
    "rm(MAST_raw_all)"
   ]
  },
  {
   "cell_type": "code",
   "execution_count": 52,
   "metadata": {},
   "outputs": [],
   "source": [
    "%%R \n",
    "#Define & run hurdle model \n",
    "zlmCond_all <- zlm(formula = ~condition + Female + n_genes, sca=sca_5) # this runs the model\n",
    "summaryCond_all <- summary(zlmCond_all, doLRT=TRUE) # extracts the data, gives datatable with summary of fit, doLRT=TRUE extracts likelihood ratio test p-value\n",
    "summaryDt_all <- summaryCond_all$datatable # reformats into a table"
   ]
  },
  {
   "cell_type": "code",
   "execution_count": 53,
   "metadata": {},
   "outputs": [
    {
     "name": "stdout",
     "output_type": "stream",
     "text": [
      "       primerid component      contrast   Pr..Chisq.       ci.hi       ci.lo\n",
      "1 0610009B22Rik         C    FemaleTRUE 0.6007661955  0.06286179 -0.10831760\n",
      "2 0610009B22Rik         C conditionGCSF 0.1738292142  0.20272763 -0.03665301\n",
      "3 0610009B22Rik         C conditionindo 0.5373722731  0.06581315 -0.12581008\n",
      "4 0610009B22Rik         C  conditionpIC 0.7547982009  0.29475417 -0.21414848\n",
      "5 0610009B22Rik         C       n_genes 0.0001438733 -0.04747199 -0.14019854\n",
      "6 0610009B22Rik         C   (Intercept)           NA  1.00878433  0.70975156\n",
      "         coef          z\n",
      "1 -0.02272791 -0.5204585\n",
      "2  0.08303731  1.3597602\n",
      "3 -0.02999846 -0.6136616\n",
      "4  0.04030284  0.3104410\n",
      "5 -0.09383526 -3.9667977\n",
      "6  0.85926794 11.2638773\n"
     ]
    }
   ],
   "source": [
    "%%R\n",
    "head(summaryDt_all)"
   ]
  },
  {
   "cell_type": "code",
   "execution_count": 54,
   "metadata": {},
   "outputs": [],
   "source": [
    "%%R -o female_all -o GCSF_all -o dmPGE2_all -o indo_all -o pIC_all\n",
    "\n",
    "# reformat for female\n",
    "result_all_Female <- merge(summaryDt_all[contrast=='FemaleTRUE' & component=='H',.(primerid, `Pr(>Chisq)`)], #P-vals\n",
    "                  summaryDt_all[contrast=='FemaleTRUE' & component=='logFC', .(primerid, coef)],\n",
    "                  by='primerid') #logFC coefficients\n",
    "#Correct for multiple testing (FDR correction) and filtering\n",
    "result_all_Female[,FDR:=p.adjust(`Pr(>Chisq)`, 'fdr')] # create column named FDR - probably that p.adjust function\n",
    "female_all = result_all_Female[result_all_Female$FDR<0.01,, drop=F] # create new table where rows with FDR<0.01 are droped\n",
    "female_all = female_all[order(female_all$FDR),] # sorts the table\n",
    "\n",
    "\n",
    "# reformat for GCSF\n",
    "result_all_GCSF <- merge(summaryDt_all[contrast=='conditionGCSF' & component=='H',.(primerid, `Pr(>Chisq)`)], #P-vals\n",
    "                  summaryDt_all[contrast=='conditionGCSF' & component=='logFC', .(primerid, coef)],\n",
    "                  by='primerid') #logFC coefficients\n",
    "#Correct for multiple testing (FDR correction) and filtering\n",
    "result_all_GCSF[,FDR:=p.adjust(`Pr(>Chisq)`, 'fdr')] # create column named FDR - probably that p.adjust function\n",
    "GCSF_all = result_all_GCSF[result_all_GCSF$FDR<0.01,, drop=F] # create new table where rows with FDR<0.01 are droped\n",
    "GCSF_all = GCSF_all[order(GCSF_all$FDR),] # sorts the table\n",
    "\n",
    "\n",
    "# reformat for dmPGE2\n",
    "result_all_dmPGE2 <- merge(summaryDt_all[contrast=='conditiondmPGE2' & component=='H',.(primerid, `Pr(>Chisq)`)], #P-vals\n",
    "                  summaryDt_all[contrast=='conditiondmPGE2' & component=='logFC', .(primerid, coef)],\n",
    "                  by='primerid') #logFC coefficients\n",
    "#Correct for multiple testing (FDR correction) and filtering\n",
    "result_all_dmPGE2[,FDR:=p.adjust(`Pr(>Chisq)`, 'fdr')] # create column named FDR - probably that p.adjust function\n",
    "dmPGE2_all = result_all_dmPGE2[result_all_dmPGE2$FDR<0.01,, drop=F] # create new table where rows with FDR<0.01 are droped\n",
    "dmPGE2_all = dmPGE2_all[order(dmPGE2_all$FDR),] # sorts the table\n",
    "\n",
    "\n",
    "# reformat for indo\n",
    "result_all_indo <- merge(summaryDt_all[contrast=='conditionindo' & component=='H',.(primerid, `Pr(>Chisq)`)], #P-vals\n",
    "                  summaryDt_all[contrast=='conditionindo' & component=='logFC', .(primerid, coef)],\n",
    "                  by='primerid') #logFC coefficients\n",
    "#Correct for multiple testing (FDR correction) and filtering\n",
    "result_all_indo[,FDR:=p.adjust(`Pr(>Chisq)`, 'fdr')] # create column named FDR - probably that p.adjust function\n",
    "indo_all = result_all_indo[result_all_indo$FDR<0.01,, drop=F] # create new table where rows with FDR<0.01 are droped\n",
    "indo_all = indo_all[order(indo_all$FDR),] # sorts the table\n",
    "\n",
    "# reformat for pIC\n",
    "result_all_pIC <- merge(summaryDt_all[contrast=='conditionpIC' & component=='H',.(primerid, `Pr(>Chisq)`)], #P-vals\n",
    "                  summaryDt_all[contrast=='conditionpIC' & component=='logFC', .(primerid, coef)],\n",
    "                  by='primerid') #logFC coefficients\n",
    "#Correct for multiple testing (FDR correction) and filtering\n",
    "result_all_pIC[,FDR:=p.adjust(`Pr(>Chisq)`, 'fdr')] # create column named FDR - probably that p.adjust function\n",
    "pIC_all = result_all_pIC[result_all_pIC$FDR<0.01,, drop=F] # create new table where rows with FDR<0.01 are droped\n",
    "pIC_all = pIC_all[order(pIC_all$FDR),] # sorts the table"
   ]
  },
  {
   "cell_type": "code",
   "execution_count": 55,
   "metadata": {},
   "outputs": [],
   "source": [
    "%%R -o MAST_raw_all\n",
    "\n",
    "MAST_raw_all <- summaryDt_all"
   ]
  },
  {
   "cell_type": "code",
   "execution_count": 56,
   "metadata": {},
   "outputs": [],
   "source": [
    "# save files as .csvs\n",
    "\n",
    "MAST_raw_all.to_csv('./write/LT_MAST_raw_5.csv')\n",
    "female_all.to_csv('./write/LT_MAST_female_5.csv')\n",
    "GCSF_all.to_csv('./write/LT_MAST_GCSF_5.csv')\n",
    "pIC_all.to_csv('./write/LT_MAST_pIC_5.csv')\n",
    "dmPGE2_all.to_csv('./write/LT_MAST_dmPGE2_5.csv')\n",
    "indo_all.to_csv('./write/LT_MAST_indo_5.csv')"
   ]
  },
  {
   "cell_type": "code",
   "execution_count": 57,
   "metadata": {},
   "outputs": [
    {
     "name": "stdout",
     "output_type": "stream",
     "text": [
      "scanpy==1.4.5.1 anndata==0.7.1 umap==0.3.10 numpy==1.17.3 scipy==1.3.0 pandas==0.25.3 scikit-learn==0.22.2.post1 statsmodels==0.10.0 python-igraph==0.7.1 louvain==0.6.1\n",
      "\n",
      "INSTALLED VERSIONS\n",
      "------------------\n",
      "commit           : None\n",
      "python           : 3.7.3.final.0\n",
      "python-bits      : 64\n",
      "OS               : Linux\n",
      "OS-release       : 4.19.76-linuxkit\n",
      "machine          : x86_64\n",
      "processor        : x86_64\n",
      "byteorder        : little\n",
      "LC_ALL           : en_US.UTF-8\n",
      "LANG             : en_US.UTF-8\n",
      "LOCALE           : en_US.UTF-8\n",
      "\n",
      "pandas           : 0.25.3\n",
      "numpy            : 1.17.3\n",
      "pytz             : 2019.3\n",
      "dateutil         : 2.8.1\n",
      "pip              : 19.3.1\n",
      "setuptools       : 41.6.0.post20191101\n",
      "Cython           : None\n",
      "pytest           : 5.3.5\n",
      "hypothesis       : None\n",
      "sphinx           : None\n",
      "blosc            : None\n",
      "feather          : None\n",
      "xlsxwriter       : None\n",
      "lxml.etree       : None\n",
      "html5lib         : None\n",
      "pymysql          : None\n",
      "psycopg2         : None\n",
      "jinja2           : 2.10.3\n",
      "IPython          : 7.9.0\n",
      "pandas_datareader: None\n",
      "bs4              : None\n",
      "bottleneck       : None\n",
      "fastparquet      : None\n",
      "gcsfs            : None\n",
      "lxml.etree       : None\n",
      "matplotlib       : 3.2.0\n",
      "numexpr          : 2.7.1\n",
      "odfpy            : None\n",
      "openpyxl         : None\n",
      "pandas_gbq       : None\n",
      "pyarrow          : None\n",
      "pytables         : None\n",
      "s3fs             : None\n",
      "scipy            : 1.3.0\n",
      "sqlalchemy       : 1.3.10\n",
      "tables           : 3.6.1\n",
      "xarray           : None\n",
      "xlrd             : None\n",
      "xlwt             : None\n",
      "xlsxwriter       : None\n"
     ]
    }
   ],
   "source": [
    "sc.logging.print_versions()\n",
    "pd.show_versions()"
   ]
  },
  {
   "cell_type": "code",
   "execution_count": 58,
   "metadata": {},
   "outputs": [
    {
     "name": "stdout",
     "output_type": "stream",
     "text": [
      "R version 3.6.1 (2019-07-05)\n",
      "Platform: x86_64-conda_cos6-linux-gnu (64-bit)\n",
      "Running under: Ubuntu 18.04.2 LTS\n",
      "\n",
      "Matrix products: default\n",
      "BLAS/LAPACK: /opt/conda/lib/libopenblasp-r0.3.7.so\n",
      "\n",
      "locale:\n",
      " [1] LC_CTYPE=en_US.UTF-8       LC_NUMERIC=C              \n",
      " [3] LC_TIME=en_US.UTF-8        LC_COLLATE=en_US.UTF-8    \n",
      " [5] LC_MONETARY=en_US.UTF-8    LC_MESSAGES=en_US.UTF-8   \n",
      " [7] LC_PAPER=en_US.UTF-8       LC_NAME=C                 \n",
      " [9] LC_ADDRESS=C               LC_TELEPHONE=C            \n",
      "[11] LC_MEASUREMENT=en_US.UTF-8 LC_IDENTIFICATION=C       \n",
      "\n",
      "attached base packages:\n",
      " [1] parallel  stats4    tools     stats     graphics  grDevices utils    \n",
      " [8] datasets  methods   base     \n",
      "\n",
      "other attached packages:\n",
      " [1] Matrix_1.2-17               MAST_1.12.0                \n",
      " [3] plyr_1.8.4                  ggplot2_3.2.1              \n",
      " [5] scran_1.14.1                SingleCellExperiment_1.8.0 \n",
      " [7] SummarizedExperiment_1.16.0 DelayedArray_0.12.0        \n",
      " [9] BiocParallel_1.20.0         matrixStats_0.55.0         \n",
      "[11] Biobase_2.46.0              GenomicRanges_1.38.0       \n",
      "[13] GenomeInfoDb_1.22.0         IRanges_2.20.0             \n",
      "[15] S4Vectors_0.24.0            BiocGenerics_0.32.0        \n",
      "\n",
      "loaded via a namespace (and not attached):\n",
      " [1] Rcpp_1.0.3               rsvd_1.0.2               locfit_1.5-9.1          \n",
      " [4] lattice_0.20-38          prettyunits_1.0.2        zeallot_0.1.0           \n",
      " [7] assertthat_0.2.1         R6_2.4.0                 backports_1.1.5         \n",
      "[10] pillar_1.4.2             progress_1.2.2           zlibbioc_1.32.0         \n",
      "[13] rlang_0.4.1              lazyeval_0.2.2           data.table_1.12.6       \n",
      "[16] irlba_2.3.3              BiocNeighbors_1.4.0      statmod_1.4.32          \n",
      "[19] stringr_1.4.0            igraph_1.2.4.2           RCurl_1.95-4.12         \n",
      "[22] munsell_0.5.0            compiler_3.6.1           vipor_0.4.5             \n",
      "[25] BiocSingular_1.2.0       pkgconfig_2.0.3          ggbeeswarm_0.6.0        \n",
      "[28] tidyselect_0.2.5         tibble_2.1.3             gridExtra_2.3           \n",
      "[31] GenomeInfoDbData_1.2.2   edgeR_3.28.0             viridisLite_0.3.0       \n",
      "[34] crayon_1.3.4             dplyr_0.8.3              withr_2.1.2             \n",
      "[37] bitops_1.0-6             grid_3.6.1               gtable_0.3.0            \n",
      "[40] magrittr_1.5             scales_1.0.0             dqrng_0.2.1             \n",
      "[43] stringi_1.4.3            reshape2_1.4.3           XVector_0.26.0          \n",
      "[46] viridis_0.5.1            limma_3.42.0             scater_1.14.0           \n",
      "[49] vctrs_0.2.0              DelayedMatrixStats_1.8.0 glue_1.3.1              \n",
      "[52] beeswarm_0.2.3           purrr_0.3.3              hms_0.5.2               \n",
      "[55] abind_1.4-5              colorspace_1.4-1        \n"
     ]
    }
   ],
   "source": [
    "%%R\n",
    "\n",
    "sessionInfo()"
   ]
  },
  {
   "cell_type": "code",
   "execution_count": null,
   "metadata": {},
   "outputs": [],
   "source": []
  },
  {
   "cell_type": "code",
   "execution_count": null,
   "metadata": {},
   "outputs": [],
   "source": []
  },
  {
   "cell_type": "code",
   "execution_count": null,
   "metadata": {},
   "outputs": [],
   "source": []
  },
  {
   "cell_type": "code",
   "execution_count": null,
   "metadata": {},
   "outputs": [],
   "source": []
  }
 ],
 "metadata": {
  "kernelspec": {
   "display_name": "Python 3",
   "language": "python",
   "name": "python3"
  },
  "language_info": {
   "codemirror_mode": {
    "name": "ipython",
    "version": 3
   },
   "file_extension": ".py",
   "mimetype": "text/x-python",
   "name": "python",
   "nbconvert_exporter": "python",
   "pygments_lexer": "ipython3",
   "version": "3.7.3"
  }
 },
 "nbformat": 4,
 "nbformat_minor": 4
}
