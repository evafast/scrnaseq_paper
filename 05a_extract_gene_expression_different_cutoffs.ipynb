{
 "cells": [
  {
   "cell_type": "markdown",
   "metadata": {},
   "source": [
    "# 04a extract geneexpression for each conditions with different cutoffs\n",
    "\n",
    "- no cutoff \n",
    "- cutoff at least 1.2 fold up or down\n",
    "- cutoff at least 1.5 fold up or down\n",
    "\n",
    "\n",
    "done with this docker image:\n",
    "\n",
    "docker run --rm -d --name test_eva -p 8885:8888 -e JUPYTER_ENABLE_LAB=YES -v /Users/efast/Documents/:/home/jovyan/work r_scanpy:vs5\n"
   ]
  },
  {
   "cell_type": "code",
   "execution_count": 1,
   "metadata": {},
   "outputs": [],
   "source": [
    "import numpy as np\n",
    "import scipy as sp\n",
    "import pandas as pd"
   ]
  },
  {
   "cell_type": "markdown",
   "metadata": {},
   "source": [
    "## no cutoff\n",
    "\n",
    "Generate a table with all the genes that are significantly differentially expressed"
   ]
  },
  {
   "cell_type": "code",
   "execution_count": 2,
   "metadata": {},
   "outputs": [],
   "source": [
    "#Data files\n",
    "sample_name = ['dmPGE2', 'GCSF', 'indo', 'pIC', 'female']\n",
    "sample_cluster = ['LT_0', 'LT_1', 'LT_2', 'LT_3', 'LT_4', 'LT_5', 'LT_all', 'MPP_surf', 'MPP1_surf', 'MPP2_surf', 'MPP3_surf',\n",
    "                 'MPPs_0', 'MPPs_1', 'MPPs_2', 'MPPs_3', 'MPPs_4', 'MPPs_5', 'MPPs_6', 'MPPs_7', 'MPPs_all']\n",
    "\n",
    "for k in range(len(sample_name)):\n",
    "    sample = sample_name[k]\n",
    "    results_df = pd.DataFrame()\n",
    "    \n",
    "    for i in range(len(sample_cluster)):\n",
    "        cluster = sample_cluster[i] #\n",
    "\n",
    "        path_name = './write/' + 'MAST_' + sample + '_' + cluster + '.csv'\n",
    "        df = pd.read_csv(path_name)\n",
    "        \n",
    "        df = df.set_index('primerid')\n",
    "\n",
    "        #sample_id = sample + '_' + cluster    \n",
    "        \n",
    "        results_df = pd.merge(results_df, df, left_index=True, right_index=True, how='outer', suffixes=('', cluster))\n",
    "     \n",
    "    save_name = './write/' + 'MAST_overlap_nocutoff_' + sample +'_all.csv'\n",
    "    results_df.to_csv(save_name)"
   ]
  },
  {
   "cell_type": "code",
   "execution_count": 3,
   "metadata": {},
   "outputs": [],
   "source": [
    "#Data files\n",
    "sample_name = ['dmPGE2', 'GCSF', 'indo', 'pIC', 'female']\n",
    "sample_cluster = ['LT_0', 'LT_1', 'LT_2', 'LT_3', 'LT_4', 'LT_5', 'LT_all', 'MPP_surf', 'MPP1_surf', 'MPP2_surf', 'MPP3_surf',\n",
    "                 'MPPs_0', 'MPPs_1', 'MPPs_2', 'MPPs_3', 'MPPs_4', 'MPPs_5', 'MPPs_6', 'MPPs_7', 'MPPs_all']\n",
    "\n",
    "for k in range(len(sample_name)):\n",
    "    sample = sample_name[k]\n",
    "    results_df = pd.DataFrame()\n",
    "    \n",
    "    for i in range(len(sample_cluster)):\n",
    "        cluster = sample_cluster[i] #\n",
    "\n",
    "        path_name = './write/' + 'MAST_' + sample + '_' + cluster + '.csv'\n",
    "        df = pd.read_csv(path_name)\n",
    "        \n",
    "        #select only genes that are at least 1.2 fold up or down\n",
    "        df = df[(df['coef']>= np.log(1.2)) | (df['coef'] <= np.log(10/12))]\n",
    "        \n",
    "        df = df.set_index('primerid')\n",
    "\n",
    "        #sample_id = sample + '_' + cluster    \n",
    "        \n",
    "        results_df = pd.merge(results_df, df, left_index=True, right_index=True, how='outer', suffixes=('', cluster))\n",
    "     \n",
    "    save_name = './write/' + 'MAST_overlap_1.2_' + sample +'_all.csv'\n",
    "    results_df.to_csv(save_name)"
   ]
  },
  {
   "cell_type": "code",
   "execution_count": 4,
   "metadata": {},
   "outputs": [],
   "source": [
    "#Data files\n",
    "sample_name = ['dmPGE2', 'GCSF', 'indo', 'pIC', 'female']\n",
    "sample_cluster = ['LT_0', 'LT_1', 'LT_2', 'LT_3', 'LT_4', 'LT_5', 'LT_all', 'MPP_surf', 'MPP1_surf', 'MPP2_surf', 'MPP3_surf',\n",
    "                 'MPPs_0', 'MPPs_1', 'MPPs_2', 'MPPs_3', 'MPPs_4', 'MPPs_5', 'MPPs_6', 'MPPs_7', 'MPPs_all']\n",
    "\n",
    "for k in range(len(sample_name)):\n",
    "    sample = sample_name[k]\n",
    "    results_df = pd.DataFrame()\n",
    "    \n",
    "    for i in range(len(sample_cluster)):\n",
    "        cluster = sample_cluster[i] #\n",
    "\n",
    "        path_name = './write/' + 'MAST_' + sample + '_' + cluster + '.csv'\n",
    "        df = pd.read_csv(path_name)\n",
    "        \n",
    "        #select only genes that are at least 1.2 fold up or down\n",
    "        df = df[(df['coef']>= np.log(1.5)) | (df['coef'] <= np.log(10/15))]\n",
    "        \n",
    "        df = df.set_index('primerid')\n",
    "\n",
    "        #sample_id = sample + '_' + cluster    \n",
    "        \n",
    "        results_df = pd.merge(results_df, df, left_index=True, right_index=True, how='outer', suffixes=('', cluster))\n",
    "     \n",
    "    save_name = './write/' + 'MAST_overlap_1.5_' + sample +'_all.csv'\n",
    "    results_df.to_csv(save_name)"
   ]
  },
  {
   "cell_type": "code",
   "execution_count": null,
   "metadata": {},
   "outputs": [],
   "source": []
  },
  {
   "cell_type": "code",
   "execution_count": null,
   "metadata": {},
   "outputs": [],
   "source": []
  }
 ],
 "metadata": {
  "kernelspec": {
   "display_name": "Python 3",
   "language": "python",
   "name": "python3"
  },
  "language_info": {
   "codemirror_mode": {
    "name": "ipython",
    "version": 3
   },
   "file_extension": ".py",
   "mimetype": "text/x-python",
   "name": "python",
   "nbconvert_exporter": "python",
   "pygments_lexer": "ipython3",
   "version": "3.7.3"
  }
 },
 "nbformat": 4,
 "nbformat_minor": 4
}
