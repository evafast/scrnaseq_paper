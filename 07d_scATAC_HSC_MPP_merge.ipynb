{
 "cells": [
  {
   "cell_type": "markdown",
   "metadata": {},
   "source": [
    "# 07d scATAC HSC MPP merge\n",
    "\n",
    "Merge HSCs and MPPs into LSKs\n",
    "\n",
    "used this docker image\n",
    "\n",
    "docker run --rm -d --name signac -p 8880:8888 -e JUPYTER_ENABLE_LAB=YES -v /Users/efast/Documents/:/home/jovyan/work  signac:0.2.5\n",
    "\n"
   ]
  },
  {
   "cell_type": "markdown",
   "metadata": {},
   "source": [
    "#### ran in commandline - was too hard to make it work inside the R notebook\n",
    "`cd /home/jovyan/work/Z_TRASH/raw_data`\n",
    "\n",
    "#### decompress files and add the same cell prefix as was added to the Seurat object\n",
    "`gzip -dc /home/jovyan/work/Z_TRASH/raw_data/ATAC_LT/fragments.tsv.gz | awk 'BEGIN {FS=OFS=\"\\t\"} {print $1,$2,$3,\"HSC_\"$4,$5}' - > HSC_fragments.tsv`  \n",
    "`gzip -dc /home/jovyan/work/Z_TRASH/raw_data/ATAC_MPP/fragments.tsv.gz | awk 'BEGIN {FS=OFS=\"\\t\"} {print $1,$2,$3,\"MPP_\"$4,$5}' - > MPP_fragments.tsv `\n",
    "\n",
    "#### merge files (avoids having to re-sort)\n",
    "`sort -m -k 1,1V -k2,2n HSC_fragments.tsv MPP_fragments.tsv > fragments.tsv`\n",
    "\n",
    "#### block gzip compress the merged file\n",
    "`bgzip -@ 4 fragments.tsv # -@ 4 uses 4 threads`\n",
    "\n",
    "#### index the bgzipped file\n",
    "`tabix -p bed fragments.tsv.gz`\n",
    "\n",
    "#### remove intermediate files\n",
    "`rm HSC_fragments.tsv MPP_fragments.tsv`"
   ]
  },
  {
   "cell_type": "code",
   "execution_count": 1,
   "metadata": {},
   "outputs": [
    {
     "name": "stderr",
     "output_type": "stream",
     "text": [
      "Warning message:\n",
      "“package ‘Seurat’ was built under R version 3.6.3”Loading required package: SummarizedExperiment\n",
      "Loading required package: GenomicRanges\n",
      "Loading required package: stats4\n",
      "Loading required package: BiocGenerics\n",
      "Loading required package: parallel\n",
      "\n",
      "Attaching package: ‘BiocGenerics’\n",
      "\n",
      "The following objects are masked from ‘package:parallel’:\n",
      "\n",
      "    clusterApply, clusterApplyLB, clusterCall, clusterEvalQ,\n",
      "    clusterExport, clusterMap, parApply, parCapply, parLapply,\n",
      "    parLapplyLB, parRapply, parSapply, parSapplyLB\n",
      "\n",
      "The following objects are masked from ‘package:stats’:\n",
      "\n",
      "    IQR, mad, sd, var, xtabs\n",
      "\n",
      "The following objects are masked from ‘package:base’:\n",
      "\n",
      "    anyDuplicated, append, as.data.frame, basename, cbind, colnames,\n",
      "    dirname, do.call, duplicated, eval, evalq, Filter, Find, get, grep,\n",
      "    grepl, intersect, is.unsorted, lapply, Map, mapply, match, mget,\n",
      "    order, paste, pmax, pmax.int, pmin, pmin.int, Position, rank,\n",
      "    rbind, Reduce, rownames, sapply, setdiff, sort, table, tapply,\n",
      "    union, unique, unsplit, which, which.max, which.min\n",
      "\n",
      "Loading required package: S4Vectors\n",
      "\n",
      "Attaching package: ‘S4Vectors’\n",
      "\n",
      "The following object is masked from ‘package:base’:\n",
      "\n",
      "    expand.grid\n",
      "\n",
      "Loading required package: IRanges\n",
      "Loading required package: GenomeInfoDb\n",
      "Loading required package: Biobase\n",
      "Welcome to Bioconductor\n",
      "\n",
      "    Vignettes contain introductory material; view with\n",
      "    'browseVignettes()'. To cite Bioconductor, see\n",
      "    'citation(\"Biobase\")', and for packages 'citation(\"pkgname\")'.\n",
      "\n",
      "Loading required package: DelayedArray\n",
      "Loading required package: matrixStats\n",
      "Warning message:\n",
      "“package ‘matrixStats’ was built under R version 3.6.3”\n",
      "Attaching package: ‘matrixStats’\n",
      "\n",
      "The following objects are masked from ‘package:Biobase’:\n",
      "\n",
      "    anyMissing, rowMedians\n",
      "\n",
      "Loading required package: BiocParallel\n",
      "\n",
      "Attaching package: ‘DelayedArray’\n",
      "\n",
      "The following objects are masked from ‘package:matrixStats’:\n",
      "\n",
      "    colMaxs, colMins, colRanges, rowMaxs, rowMins, rowRanges\n",
      "\n",
      "The following objects are masked from ‘package:base’:\n",
      "\n",
      "    aperm, apply, rowsum\n",
      "\n",
      "\n",
      "Attaching package: ‘SummarizedExperiment’\n",
      "\n",
      "The following object is masked from ‘package:Seurat’:\n",
      "\n",
      "    Assays\n",
      "\n"
     ]
    }
   ],
   "source": [
    "library(Signac)\n",
    "library(Seurat)\n",
    "library(SingleCellExperiment)"
   ]
  },
  {
   "cell_type": "code",
   "execution_count": 2,
   "metadata": {},
   "outputs": [],
   "source": [
    "## read in LTs\n",
    "\n",
    "LT <- readRDS(\"./sc_objects/LT_macs2.rds\")\n",
    "\n",
    "#read in metadata\n",
    "metadata <- read.csv(\n",
    "  file = \"./raw_data/ATAC_LT/singlecell.csv\",\n",
    "  header = TRUE,\n",
    "  row.names = 1\n",
    ")\n",
    "\n",
    "#convert to SingleCellExperiment - Seurat compatible format\n",
    "LT <- as(LT, \"SingleCellExperiment\")\n",
    "\n",
    "#convert to SingleCellExperiment - Seurat compatible format\n",
    "LT <- as(LT, \"SingleCellExperiment\")\n",
    "LT <- as.Seurat(LT, counts = \"counts\", data = \"counts\")\n",
    "LT <- AddMetaData(object = LT, metadata = metadata)\n",
    "LT@assays$peaks <- LT@assays$RNA\n",
    "DefaultAssay(LT) <- 'peaks'\n",
    "\n",
    "fragment.path <- './raw_data/ATAC_LT/fragments.tsv.gz'\n",
    "\n",
    "LT <- SetFragments(\n",
    "  object = LT,\n",
    "  file = fragment.path\n",
    ")"
   ]
  },
  {
   "cell_type": "code",
   "execution_count": 3,
   "metadata": {},
   "outputs": [],
   "source": [
    "## read in MPPs\n",
    "\n",
    "MPP_r <- readRDS(\"./sc_objects/scATAC_MPP_macs2.rds\")\n",
    "\n",
    "# need to specify the rownames\n",
    "temp <- DataFrame(MPP_r@rowRanges)\n",
    "rownames(MPP_r) <- temp$X\n",
    "\n",
    "#read in metadata\n",
    "metadata <- read.csv(\n",
    "  file = \"./raw_data/ATAC_MPP/singlecell.csv\",\n",
    "  header = TRUE,\n",
    "  row.names = 1\n",
    ")\n",
    "\n",
    "#convert to SingleCellExperiment - Seurat compatible format\n",
    "MPP <- as(MPP_r, \"SingleCellExperiment\")\n",
    "\n",
    "#convert to SingleCellExperiment - Seurat compatible format\n",
    "MPP <- as(MPP, \"SingleCellExperiment\")\n",
    "MPP <- as.Seurat(MPP, counts = \"counts\", data = \"counts\")\n",
    "MPP <- AddMetaData(object = MPP, metadata = metadata)\n",
    "MPP@assays$peaks <- MPP@assays$RNA\n",
    "DefaultAssay(MPP) <- 'peaks'\n",
    "\n",
    "fragment.path <- './raw_data/ATAC_MPP/fragments.tsv.gz'\n",
    "\n",
    "MPP <- SetFragments(\n",
    "  object = MPP,\n",
    "  file = fragment.path\n",
    ")"
   ]
  },
  {
   "cell_type": "code",
   "execution_count": 4,
   "metadata": {},
   "outputs": [
    {
     "data": {
      "text/plain": [
       "GRanges object with 6 ranges and 0 metadata columns:\n",
       "      seqnames          ranges strand\n",
       "         <Rle>       <IRanges>  <Rle>\n",
       "  [1]     chr1 3052614-3052915      *\n",
       "  [2]     chr1 3067067-3067368      *\n",
       "  [3]     chr1 3140056-3140357      *\n",
       "  [4]     chr1 3158733-3159034      *\n",
       "  [5]     chr1 3284384-3284685      *\n",
       "  [6]     chr1 3361767-3362068      *\n",
       "  -------\n",
       "  seqinfo: 22 sequences from an unspecified genome; no seqlengths"
      ]
     },
     "metadata": {},
     "output_type": "display_data"
    }
   ],
   "source": [
    "combined.peaks <- UnifyPeaks(object.list = list(LT, MPP), mode = \"reduce\")\n",
    "head(combined.peaks)"
   ]
  },
  {
   "cell_type": "code",
   "execution_count": 5,
   "metadata": {},
   "outputs": [
    {
     "name": "stderr",
     "output_type": "stream",
     "text": [
      "Extracting reads overlapping genomic regions\n",
      "Constructing matrix\n",
      "Extracting reads overlapping genomic regions\n",
      "Constructing matrix\n"
     ]
    }
   ],
   "source": [
    "LT.counts <- FeatureMatrix(\n",
    "  fragments = GetFragments(LT),\n",
    "  features = combined.peaks,\n",
    "  sep = c(\":\", \"-\"),\n",
    "  cells = colnames(LT)\n",
    ")\n",
    "\n",
    "MPP.counts <- FeatureMatrix(\n",
    "  fragments = GetFragments(MPP),\n",
    "  features = combined.peaks,\n",
    "  sep = c(\":\", \"-\"),\n",
    "  cells = colnames(MPP)\n",
    ")\n"
   ]
  },
  {
   "cell_type": "code",
   "execution_count": 6,
   "metadata": {},
   "outputs": [],
   "source": [
    "LT[['peaks']] <- CreateAssayObject(counts = LT.counts)\n",
    "MPP[['peaks']] <- CreateAssayObject(counts = MPP.counts)"
   ]
  },
  {
   "cell_type": "code",
   "execution_count": 7,
   "metadata": {},
   "outputs": [],
   "source": [
    "# add information to identify dataset of origin\n",
    "LT$dataset <- 'HSC'\n",
    "MPP$dataset <- 'MPP'\n",
    "\n",
    "# merge all datasets, adding a cell ID to make sure cell names are unique\n",
    "combined <- merge(x = LT, y = MPP, add.cell.ids = c(\"HSC\", \"MPP\"))"
   ]
  },
  {
   "cell_type": "code",
   "execution_count": 8,
   "metadata": {},
   "outputs": [],
   "source": [
    "combined <- SetFragments(combined, \"./raw_data/fragments.tsv.gz\")"
   ]
  },
  {
   "cell_type": "code",
   "execution_count": 9,
   "metadata": {},
   "outputs": [
    {
     "data": {
      "text/plain": [
       "An object of class Seurat \n",
       "586709 features across 10750 samples within 2 assays \n",
       "Active assay: peaks (243581 features, 0 variable features)\n",
       " 1 other assay present: RNA"
      ]
     },
     "metadata": {},
     "output_type": "display_data"
    }
   ],
   "source": [
    "combined"
   ]
  },
  {
   "cell_type": "code",
   "execution_count": 10,
   "metadata": {},
   "outputs": [],
   "source": [
    "### save combined object\n",
    "\n",
    "saveRDS(combined, file = \"./sc_objects/scATAC_combined_macs2.rds\")"
   ]
  },
  {
   "cell_type": "code",
   "execution_count": 11,
   "metadata": {},
   "outputs": [
    {
     "data": {
      "text/plain": [
       "An object of class Seurat \n",
       "405477 features across 730 samples within 2 assays \n",
       "Active assay: peaks (223370 features, 0 variable features)\n",
       " 1 other assay present: RNA"
      ]
     },
     "metadata": {},
     "output_type": "display_data"
    }
   ],
   "source": [
    "LT"
   ]
  },
  {
   "cell_type": "code",
   "execution_count": 12,
   "metadata": {},
   "outputs": [
    {
     "data": {
      "text/plain": [
       "An object of class Seurat \n",
       "406237 features across 10020 samples within 2 assays \n",
       "Active assay: peaks (242335 features, 0 variable features)\n",
       " 1 other assay present: RNA"
      ]
     },
     "metadata": {},
     "output_type": "display_data"
    }
   ],
   "source": [
    "MPP"
   ]
  },
  {
   "cell_type": "code",
   "execution_count": 13,
   "metadata": {},
   "outputs": [
    {
     "data": {
      "text/plain": [
       "R version 3.6.1 (2019-07-05)\n",
       "Platform: x86_64-conda_cos6-linux-gnu (64-bit)\n",
       "Running under: Ubuntu 18.04.2 LTS\n",
       "\n",
       "Matrix products: default\n",
       "BLAS/LAPACK: /opt/conda/lib/libopenblasp-r0.3.7.so\n",
       "\n",
       "locale:\n",
       " [1] LC_CTYPE=en_US.UTF-8       LC_NUMERIC=C              \n",
       " [3] LC_TIME=en_US.UTF-8        LC_COLLATE=en_US.UTF-8    \n",
       " [5] LC_MONETARY=en_US.UTF-8    LC_MESSAGES=en_US.UTF-8   \n",
       " [7] LC_PAPER=en_US.UTF-8       LC_NAME=C                 \n",
       " [9] LC_ADDRESS=C               LC_TELEPHONE=C            \n",
       "[11] LC_MEASUREMENT=en_US.UTF-8 LC_IDENTIFICATION=C       \n",
       "\n",
       "attached base packages:\n",
       "[1] parallel  stats4    stats     graphics  grDevices utils     datasets \n",
       "[8] methods   base     \n",
       "\n",
       "other attached packages:\n",
       " [1] SingleCellExperiment_1.8.0  SummarizedExperiment_1.16.0\n",
       " [3] DelayedArray_0.12.0         BiocParallel_1.20.0        \n",
       " [5] matrixStats_0.56.0          Biobase_2.46.0             \n",
       " [7] GenomicRanges_1.38.0        GenomeInfoDb_1.22.0        \n",
       " [9] IRanges_2.20.0              S4Vectors_0.24.0           \n",
       "[11] BiocGenerics_0.32.0         Seurat_3.2.0               \n",
       "[13] Signac_0.2.5               \n",
       "\n",
       "loaded via a namespace (and not attached):\n",
       "  [1] Rtsne_0.15             colorspace_1.4-1       deldir_0.1-28         \n",
       "  [4] ellipsis_0.3.1         ggridges_0.5.2         IRdisplay_0.7.0       \n",
       "  [7] XVector_0.26.0         base64enc_0.1-3        spatstat.data_1.4-3   \n",
       " [10] leiden_0.3.3           listenv_0.8.0          ggfittext_0.9.0       \n",
       " [13] ggrepel_0.8.2          codetools_0.2-16       splines_3.6.1         \n",
       " [16] polyclip_1.10-0        IRkernel_1.0.2         jsonlite_1.7.0        \n",
       " [19] Rsamtools_2.2.0        ica_1.0-2              cluster_2.1.0         \n",
       " [22] png_0.1-7              uwot_0.1.8             shiny_1.5.0           \n",
       " [25] sctransform_0.2.1      compiler_3.6.1         httr_1.4.2            \n",
       " [28] Matrix_1.2-17          fastmap_1.0.1          lazyeval_0.2.2        \n",
       " [31] later_1.1.0.1          htmltools_0.5.0        tools_3.6.1           \n",
       " [34] rsvd_1.0.3             igraph_1.2.5           gtable_0.3.0          \n",
       " [37] glue_1.4.1             GenomeInfoDbData_1.2.2 RANN_2.6.1            \n",
       " [40] reshape2_1.4.4         dplyr_1.0.2            rappdirs_0.3.1        \n",
       " [43] Rcpp_1.0.5             spatstat_1.64-1        vctrs_0.3.2           \n",
       " [46] Biostrings_2.54.0      ape_5.4-1              nlme_3.1-141          \n",
       " [49] ggseqlogo_0.1          lmtest_0.9-37          stringr_1.4.0         \n",
       " [52] globals_0.12.5         mime_0.9               miniUI_0.1.1.1        \n",
       " [55] lifecycle_0.2.0        irlba_2.3.3            goftest_1.2-2         \n",
       " [58] future_1.18.0          zlibbioc_1.32.0        MASS_7.3-51.4         \n",
       " [61] zoo_1.8-8              scales_1.1.1           promises_1.1.1        \n",
       " [64] spatstat.utils_1.17-0  RColorBrewer_1.1-2     gggenes_0.4.0         \n",
       " [67] reticulate_1.16        pbapply_1.4-3          gridExtra_2.3         \n",
       " [70] ggplot2_3.3.2          rpart_4.1-15           stringi_1.4.6         \n",
       " [73] repr_1.0.1             rlang_0.4.7            pkgconfig_2.0.3       \n",
       " [76] bitops_1.0-6           evaluate_0.14          lattice_0.20-38       \n",
       " [79] ROCR_1.0-11            purrr_0.3.4            tensor_1.5            \n",
       " [82] patchwork_1.0.1        htmlwidgets_1.5.1      cowplot_1.0.0         \n",
       " [85] tidyselect_1.1.0       RcppAnnoy_0.0.16       plyr_1.8.6            \n",
       " [88] magrittr_1.5           R6_2.4.1               generics_0.0.2        \n",
       " [91] pbdZMQ_0.3-3           mgcv_1.8-29            pillar_1.4.6          \n",
       " [94] fitdistrplus_1.1-1     survival_2.44-1.1      abind_1.4-5           \n",
       " [97] RCurl_1.95-4.12        tibble_3.0.3           future.apply_1.6.0    \n",
       "[100] crayon_1.3.4           uuid_0.1-2             KernSmooth_2.23-17    \n",
       "[103] plotly_4.9.2.1         grid_3.6.1             data.table_1.13.1     \n",
       "[106] digest_0.6.25          xtable_1.8-4           tidyr_1.1.1           \n",
       "[109] httpuv_1.5.4           munsell_0.5.0          viridisLite_0.3.0     "
      ]
     },
     "metadata": {},
     "output_type": "display_data"
    }
   ],
   "source": [
    "sessionInfo()"
   ]
  },
  {
   "cell_type": "code",
   "execution_count": null,
   "metadata": {},
   "outputs": [],
   "source": []
  },
  {
   "cell_type": "code",
   "execution_count": null,
   "metadata": {},
   "outputs": [],
   "source": []
  }
 ],
 "metadata": {
  "anaconda-cloud": {},
  "kernelspec": {
   "display_name": "R",
   "language": "R",
   "name": "ir"
  },
  "language_info": {
   "codemirror_mode": "r",
   "file_extension": ".r",
   "mimetype": "text/x-r-source",
   "name": "R",
   "pygments_lexer": "r",
   "version": "3.6.1"
  },
  "varInspector": {
   "cols": {
    "lenName": 16,
    "lenType": 16,
    "lenVar": 40
   },
   "kernels_config": {
    "python": {
     "delete_cmd_postfix": "",
     "delete_cmd_prefix": "del ",
     "library": "var_list.py",
     "varRefreshCmd": "print(var_dic_list())"
    },
    "r": {
     "delete_cmd_postfix": ") ",
     "delete_cmd_prefix": "rm(",
     "library": "var_list.r",
     "varRefreshCmd": "cat(var_dic_list()) "
    }
   },
   "oldHeight": 446.313,
   "position": {
    "height": "40px",
    "left": "700px",
    "right": "20px",
    "top": "183px",
    "width": "623.688px"
   },
   "types_to_exclude": [
    "module",
    "function",
    "builtin_function_or_method",
    "instance",
    "_Feature"
   ],
   "varInspector_section_display": "none",
   "window_display": false
  }
 },
 "nbformat": 4,
 "nbformat_minor": 4
}
