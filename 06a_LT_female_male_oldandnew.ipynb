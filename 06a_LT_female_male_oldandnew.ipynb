{
 "cells": [
  {
   "cell_type": "markdown",
   "metadata": {},
   "source": [
    "## female - male differential analysis LT cells - MAST\n",
    "\n",
    "**LT-HSCs**\n",
    "\n",
    "\n",
    "Run this model:\n",
    "\n",
    "`zlmCond_all <- zlm(formula = ~female + n_genes + leiden, sca=sca)`\n",
    "\n",
    "Comparisons:\n",
    "\n",
    "compare both replicates of old and new\n",
    "\n",
    "\n",
    "done with this docker image:\n",
    "\n",
    "docker run --rm -d --name scanpy -p 8883:8888 -e JUPYTER_ENABLE_LAB=YES -v /Users/efast/Documents/:/home/jovyan/work r_scanpy:vs5"
   ]
  },
  {
   "cell_type": "code",
   "execution_count": 1,
   "metadata": {},
   "outputs": [],
   "source": [
    "import scanpy as sc\n",
    "import numpy as np\n",
    "import scipy as sp\n",
    "import pandas as pd\n",
    "import matplotlib.pyplot as plt\n",
    "from matplotlib import rcParams\n",
    "from matplotlib import colors\n",
    "import seaborn as sb\n",
    "from gprofiler import GProfiler\n",
    "\n",
    "import rpy2.rinterface_lib.callbacks\n",
    "import logging\n",
    "\n",
    "from rpy2.robjects import pandas2ri\n",
    "import anndata2ri"
   ]
  },
  {
   "cell_type": "code",
   "execution_count": 2,
   "metadata": {},
   "outputs": [
    {
     "name": "stdout",
     "output_type": "stream",
     "text": [
      "scanpy==1.4.5.1 anndata==0.7.1 umap==0.3.10 numpy==1.17.3 scipy==1.3.0 pandas==0.25.3 scikit-learn==0.22.2.post1 statsmodels==0.10.0 python-igraph==0.7.1 louvain==0.6.1\n"
     ]
    }
   ],
   "source": [
    "# Ignore R warning messages\n",
    "#Note: this can be commented out to get more verbose R output\n",
    "rpy2.rinterface_lib.callbacks.logger.setLevel(logging.ERROR)\n",
    "\n",
    "# Automatically convert rpy2 outputs to pandas dataframes\n",
    "pandas2ri.activate()\n",
    "anndata2ri.activate()\n",
    "%load_ext rpy2.ipython\n",
    "\n",
    "plt.rcParams['figure.figsize']=(8,8) #rescale figures\n",
    "sc.settings.verbosity = 3\n",
    "#sc.set_figure_params(dpi=200, dpi_save=300)\n",
    "sc.logging.print_versions()"
   ]
  },
  {
   "cell_type": "code",
   "execution_count": 3,
   "metadata": {},
   "outputs": [],
   "source": [
    "%%R\n",
    "# Load libraries from correct lib Paths for my environment - ignore this!\n",
    ".libPaths(.libPaths()[c(3,2,1)])\n",
    "\n",
    "# Load all the R libraries we will be using in the notebook\n",
    "library(scran)\n",
    "library(ggplot2)\n",
    "library(plyr)\n",
    "library(MAST)"
   ]
  },
  {
   "cell_type": "markdown",
   "metadata": {},
   "source": [
    "## Old LT"
   ]
  },
  {
   "cell_type": "code",
   "execution_count": 4,
   "metadata": {},
   "outputs": [],
   "source": [
    "# load data\n",
    "\n",
    "adata = sc.read('./sc_objects/old_LT_preprocessed.h5ad', cache = True)"
   ]
  },
  {
   "cell_type": "code",
   "execution_count": 5,
   "metadata": {},
   "outputs": [],
   "source": [
    "#Create new Anndata object for use in MAST with non-batch corrected data as before\n",
    "adata_raw = adata.copy()\n",
    "adata_raw = sc.AnnData(X=adata.raw.X, obs=adata.obs, var=adata.raw.var)\n",
    "adata_raw.obs['n_genes'] = (adata_raw.X > 0).sum(1) # recompute number of genes expressed per cell\n",
    "adata = None"
   ]
  },
  {
   "cell_type": "code",
   "execution_count": 6,
   "metadata": {},
   "outputs": [
    {
     "data": {
      "text/html": [
       "<div>\n",
       "<style scoped>\n",
       "    .dataframe tbody tr th:only-of-type {\n",
       "        vertical-align: middle;\n",
       "    }\n",
       "\n",
       "    .dataframe tbody tr th {\n",
       "        vertical-align: top;\n",
       "    }\n",
       "\n",
       "    .dataframe thead th {\n",
       "        text-align: right;\n",
       "    }\n",
       "</style>\n",
       "<table border=\"1\" class=\"dataframe\">\n",
       "  <thead>\n",
       "    <tr style=\"text-align: right;\">\n",
       "      <th></th>\n",
       "      <th>n_genes</th>\n",
       "      <th>percent_mito</th>\n",
       "      <th>n_counts</th>\n",
       "      <th>Female</th>\n",
       "      <th>rXist</th>\n",
       "      <th>Female_cat</th>\n",
       "      <th>leiden</th>\n",
       "    </tr>\n",
       "  </thead>\n",
       "  <tbody>\n",
       "    <tr>\n",
       "      <th>CAGTAACAGCGATAGC-1</th>\n",
       "      <td>1971</td>\n",
       "      <td>0.023572</td>\n",
       "      <td>4115.0</td>\n",
       "      <td>True</td>\n",
       "      <td>2.586473</td>\n",
       "      <td>True</td>\n",
       "      <td>Activated</td>\n",
       "    </tr>\n",
       "    <tr>\n",
       "      <th>CCTTACGTCAACGAAA-1</th>\n",
       "      <td>1973</td>\n",
       "      <td>0.008254</td>\n",
       "      <td>5331.0</td>\n",
       "      <td>True</td>\n",
       "      <td>2.515928</td>\n",
       "      <td>True</td>\n",
       "      <td>Metabolism</td>\n",
       "    </tr>\n",
       "    <tr>\n",
       "      <th>GATCGTAAGGAACTGC-1</th>\n",
       "      <td>1409</td>\n",
       "      <td>0.038104</td>\n",
       "      <td>3123.0</td>\n",
       "      <td>True</td>\n",
       "      <td>3.163349</td>\n",
       "      <td>True</td>\n",
       "      <td>Activated</td>\n",
       "    </tr>\n",
       "    <tr>\n",
       "      <th>TGAGCCGAGAAGGTTT-1</th>\n",
       "      <td>1901</td>\n",
       "      <td>0.029093</td>\n",
       "      <td>4709.0</td>\n",
       "      <td>False</td>\n",
       "      <td>0.010000</td>\n",
       "      <td>False</td>\n",
       "      <td>Activated</td>\n",
       "    </tr>\n",
       "    <tr>\n",
       "      <th>GGCTGGTCATTACCTT-1</th>\n",
       "      <td>2293</td>\n",
       "      <td>0.044041</td>\n",
       "      <td>6494.0</td>\n",
       "      <td>False</td>\n",
       "      <td>0.010000</td>\n",
       "      <td>False</td>\n",
       "      <td>Metabolism</td>\n",
       "    </tr>\n",
       "  </tbody>\n",
       "</table>\n",
       "</div>"
      ],
      "text/plain": [
       "                    n_genes  percent_mito  n_counts  Female     rXist  \\\n",
       "CAGTAACAGCGATAGC-1     1971      0.023572    4115.0    True  2.586473   \n",
       "CCTTACGTCAACGAAA-1     1973      0.008254    5331.0    True  2.515928   \n",
       "GATCGTAAGGAACTGC-1     1409      0.038104    3123.0    True  3.163349   \n",
       "TGAGCCGAGAAGGTTT-1     1901      0.029093    4709.0   False  0.010000   \n",
       "GGCTGGTCATTACCTT-1     2293      0.044041    6494.0   False  0.010000   \n",
       "\n",
       "                   Female_cat      leiden  \n",
       "CAGTAACAGCGATAGC-1       True   Activated  \n",
       "CCTTACGTCAACGAAA-1       True  Metabolism  \n",
       "GATCGTAAGGAACTGC-1       True   Activated  \n",
       "TGAGCCGAGAAGGTTT-1      False   Activated  \n",
       "GGCTGGTCATTACCTT-1      False  Metabolism  "
      ]
     },
     "execution_count": 6,
     "metadata": {},
     "output_type": "execute_result"
    }
   ],
   "source": [
    "adata_raw.obs.head()"
   ]
  },
  {
   "cell_type": "markdown",
   "metadata": {},
   "source": [
    "### Run MAST on total cells - Select genes expressed in >5% of cells (no adaptive thresholding)"
   ]
  },
  {
   "cell_type": "code",
   "execution_count": 7,
   "metadata": {},
   "outputs": [],
   "source": [
    "%%R -i adata_raw\n",
    "\n",
    "#Convert SingleCellExperiment to SingleCellAssay type as required by MAST\n",
    "sca <- SceToSingleCellAssay(adata_raw, class = \"SingleCellAssay\")\n",
    "\n",
    "#Scale Gene detection rate\n",
    "colData(sca)$n_genes = scale(colData(sca)$n_genes)\n",
    "\n",
    "# filter genes based on hard cutoff (have to be expressed in at least 5% of all cells)\n",
    "freq_expressed <- 0.05\n",
    "expressed_genes <- freq(sca) > freq_expressed\n",
    "sca <- sca[expressed_genes,]"
   ]
  },
  {
   "cell_type": "markdown",
   "metadata": {},
   "source": [
    "#### everything\n",
    "\n",
    "background:  \n",
    "`zlmCond_all <- zlm(formula = ~Female + n_genes + leiden, sca=sca)` #this runs the model`\n",
    "\n",
    "a formula with the measurement variable (gene expression) on the LHS (left hand side) and \n",
    "predictors present in colData on the RHS\n",
    "expression of genes controlling for cluster, condition, sex + n_genes\n",
    "questions I can ask:\n",
    "sex differences controlling for treatments\n",
    "sex differences controlling for clusters - not necessary analyze all the clusters\n",
    "overall gene expression changes in treatment\n"
   ]
  },
  {
   "cell_type": "code",
   "execution_count": 8,
   "metadata": {},
   "outputs": [],
   "source": [
    "%%R \n",
    "#Define & run hurdle model \n",
    "zlmCond_all <- zlm(formula = ~Female + n_genes + leiden, sca=sca) # this runs the model\n",
    "summaryCond_all <- summary(zlmCond_all, doLRT=TRUE) # extracts the data, gives datatable with summary of fit, doLRT=TRUE extracts likelihood ratio test p-value\n",
    "summaryDt_all <- summaryCond_all$datatable # reformats into a table"
   ]
  },
  {
   "cell_type": "code",
   "execution_count": 9,
   "metadata": {},
   "outputs": [
    {
     "name": "stdout",
     "output_type": "stream",
     "text": [
      "       primerid component         contrast   Pr..Chisq.       ci.hi       ci.lo\n",
      "1 0610007P14Rik         C       FemaleTRUE 4.368316e-01  0.04506621 -0.01943866\n",
      "2 0610007P14Rik         C  leidenActivated 1.635218e-03 -0.02110383 -0.08998700\n",
      "3 0610007P14Rik         C leidenInterferon 4.026422e-01  0.09121898 -0.22752488\n",
      "4 0610007P14Rik         C leidenMetabolism 7.656793e-01  0.04324560 -0.05878036\n",
      "5 0610007P14Rik         C          n_genes 3.078488e-37 -0.09693541 -0.13055782\n",
      "6 0610007P14Rik         C      (Intercept)           NA  1.33243472  1.27797353\n",
      "         coef           z\n",
      "1  0.01281377   0.7786865\n",
      "2 -0.05554542  -3.1609177\n",
      "3 -0.06815295  -0.8381484\n",
      "4 -0.00776738  -0.2984297\n",
      "5 -0.11374662 -13.2613491\n",
      "6  1.30520413  93.9440615\n"
     ]
    }
   ],
   "source": [
    "%%R\n",
    "head(summaryDt_all)"
   ]
  },
  {
   "cell_type": "code",
   "execution_count": 11,
   "metadata": {},
   "outputs": [],
   "source": [
    "%%R -o female_all\n",
    "\n",
    "# reformat for female\n",
    "result_all_Female <- merge(summaryDt_all[contrast=='FemaleTRUE' & component=='H',.(primerid, `Pr(>Chisq)`)], #P-vals\n",
    "                  summaryDt_all[contrast=='FemaleTRUE' & component=='logFC', .(primerid, coef)],\n",
    "                  by='primerid') #logFC coefficients\n",
    "#Correct for multiple testing (FDR correction) and filtering\n",
    "result_all_Female[,FDR:=p.adjust(`Pr(>Chisq)`, 'fdr')] # create column named FDR - probably that p.adjust function\n",
    "female_all = result_all_Female[result_all_Female$FDR<0.01,, drop=F] # create new table where rows with FDR<0.01 are droped\n",
    "female_all = female_all[order(female_all$FDR),] # sorts the table"
   ]
  },
  {
   "cell_type": "code",
   "execution_count": 12,
   "metadata": {},
   "outputs": [],
   "source": [
    "%%R -o MAST_raw_all\n",
    "\n",
    "MAST_raw_all <- summaryDt_all"
   ]
  },
  {
   "cell_type": "code",
   "execution_count": 13,
   "metadata": {},
   "outputs": [],
   "source": [
    "# save files as .csvs\n",
    "\n",
    "MAST_raw_all.to_csv('./write/MAST_raw_old_LT.csv')\n",
    "female_all.to_csv('./write/MAST_female_old_LT.csv')"
   ]
  },
  {
   "cell_type": "code",
   "execution_count": 14,
   "metadata": {},
   "outputs": [],
   "source": [
    "%%R\n",
    "# remove previous variables\n",
    "\n",
    "rm(zlmCond_all)\n",
    "rm(summaryDt_all)\n",
    "rm(summaryCond_all)\n",
    "rm(MAST_raw_all)"
   ]
  },
  {
   "cell_type": "markdown",
   "metadata": {},
   "source": [
    "## New LT"
   ]
  },
  {
   "cell_type": "code",
   "execution_count": 15,
   "metadata": {},
   "outputs": [],
   "source": [
    "# load data\n",
    "adata = sc.read('./sc_objects/new_ct_LT_preprocessed.h5ad', cache = True)"
   ]
  },
  {
   "cell_type": "code",
   "execution_count": 16,
   "metadata": {},
   "outputs": [],
   "source": [
    "#Create new Anndata object for use in MAST with non-batch corrected data as before\n",
    "adata_raw = adata.copy()\n",
    "adata_raw = sc.AnnData(X=adata.raw.X, obs=adata.obs, var=adata.raw.var)\n",
    "adata_raw.obs['n_genes'] = (adata_raw.X > 0).sum(1) # recompute number of genes expressed per cell\n",
    "adata = None"
   ]
  },
  {
   "cell_type": "code",
   "execution_count": 17,
   "metadata": {},
   "outputs": [
    {
     "data": {
      "text/html": [
       "<div>\n",
       "<style scoped>\n",
       "    .dataframe tbody tr th:only-of-type {\n",
       "        vertical-align: middle;\n",
       "    }\n",
       "\n",
       "    .dataframe tbody tr th {\n",
       "        vertical-align: top;\n",
       "    }\n",
       "\n",
       "    .dataframe thead th {\n",
       "        text-align: right;\n",
       "    }\n",
       "</style>\n",
       "<table border=\"1\" class=\"dataframe\">\n",
       "  <thead>\n",
       "    <tr style=\"text-align: right;\">\n",
       "      <th></th>\n",
       "      <th>n_genes</th>\n",
       "      <th>percent_mito</th>\n",
       "      <th>n_counts</th>\n",
       "      <th>Female</th>\n",
       "      <th>rXist</th>\n",
       "      <th>Female_cat</th>\n",
       "      <th>leiden</th>\n",
       "    </tr>\n",
       "  </thead>\n",
       "  <tbody>\n",
       "    <tr>\n",
       "      <th>AAACCCACACAGAGCA-1</th>\n",
       "      <td>2664</td>\n",
       "      <td>0.049227</td>\n",
       "      <td>7699.0</td>\n",
       "      <td>False</td>\n",
       "      <td>0.010000</td>\n",
       "      <td>False</td>\n",
       "      <td>Activated</td>\n",
       "    </tr>\n",
       "    <tr>\n",
       "      <th>AAACCCAGTATCGTGT-1</th>\n",
       "      <td>2539</td>\n",
       "      <td>0.054656</td>\n",
       "      <td>8032.0</td>\n",
       "      <td>False</td>\n",
       "      <td>0.010000</td>\n",
       "      <td>False</td>\n",
       "      <td>Activated</td>\n",
       "    </tr>\n",
       "    <tr>\n",
       "      <th>AAACCCAGTCTGTCAA-1</th>\n",
       "      <td>3203</td>\n",
       "      <td>0.050210</td>\n",
       "      <td>9978.0</td>\n",
       "      <td>True</td>\n",
       "      <td>3.230990</td>\n",
       "      <td>True</td>\n",
       "      <td>Quiescent</td>\n",
       "    </tr>\n",
       "    <tr>\n",
       "      <th>AAACCCAGTGAACTAA-1</th>\n",
       "      <td>2778</td>\n",
       "      <td>0.061296</td>\n",
       "      <td>8043.0</td>\n",
       "      <td>True</td>\n",
       "      <td>2.988065</td>\n",
       "      <td>True</td>\n",
       "      <td>Quiescent</td>\n",
       "    </tr>\n",
       "    <tr>\n",
       "      <th>AAACCCATCGAAATCC-1</th>\n",
       "      <td>2738</td>\n",
       "      <td>0.050149</td>\n",
       "      <td>7697.0</td>\n",
       "      <td>True</td>\n",
       "      <td>3.091328</td>\n",
       "      <td>True</td>\n",
       "      <td>Quiescent</td>\n",
       "    </tr>\n",
       "  </tbody>\n",
       "</table>\n",
       "</div>"
      ],
      "text/plain": [
       "                    n_genes  percent_mito  n_counts  Female     rXist  \\\n",
       "AAACCCACACAGAGCA-1     2664      0.049227    7699.0   False  0.010000   \n",
       "AAACCCAGTATCGTGT-1     2539      0.054656    8032.0   False  0.010000   \n",
       "AAACCCAGTCTGTCAA-1     3203      0.050210    9978.0    True  3.230990   \n",
       "AAACCCAGTGAACTAA-1     2778      0.061296    8043.0    True  2.988065   \n",
       "AAACCCATCGAAATCC-1     2738      0.050149    7697.0    True  3.091328   \n",
       "\n",
       "                   Female_cat     leiden  \n",
       "AAACCCACACAGAGCA-1      False  Activated  \n",
       "AAACCCAGTATCGTGT-1      False  Activated  \n",
       "AAACCCAGTCTGTCAA-1       True  Quiescent  \n",
       "AAACCCAGTGAACTAA-1       True  Quiescent  \n",
       "AAACCCATCGAAATCC-1       True  Quiescent  "
      ]
     },
     "execution_count": 17,
     "metadata": {},
     "output_type": "execute_result"
    }
   ],
   "source": [
    "adata_raw.obs.head()"
   ]
  },
  {
   "cell_type": "markdown",
   "metadata": {},
   "source": [
    "### Run MAST on total cells - Select genes expressed in >5% of cells (no adaptive thresholding)"
   ]
  },
  {
   "cell_type": "code",
   "execution_count": 18,
   "metadata": {},
   "outputs": [],
   "source": [
    "%%R -i adata_raw\n",
    "\n",
    "#Convert SingleCellExperiment to SingleCellAssay type as required by MAST\n",
    "sca <- SceToSingleCellAssay(adata_raw, class = \"SingleCellAssay\")\n",
    "\n",
    "#Scale Gene detection rate\n",
    "colData(sca)$n_genes = scale(colData(sca)$n_genes)\n",
    "\n",
    "# filter genes based on hard cutoff (have to be expressed in at least 5% of all cells)\n",
    "freq_expressed <- 0.05\n",
    "expressed_genes <- freq(sca) > freq_expressed\n",
    "sca <- sca[expressed_genes,]"
   ]
  },
  {
   "cell_type": "markdown",
   "metadata": {},
   "source": [
    "#### everything\n",
    "\n",
    "background:  \n",
    "`zlmCond_all <- zlm(formula = ~Female + n_genes + leiden, sca=sca)` #this runs the model`\n",
    "\n",
    "a formula with the measurement variable (gene expression) on the LHS (left hand side) and \n",
    "predictors present in colData on the RHS\n",
    "expression of genes controlling for cluster, condition, sex + n_genes\n",
    "questions I can ask:\n",
    "sex differences controlling for treatments\n",
    "sex differences controlling for clusters - not necessary analyze all the clusters\n",
    "overall gene expression changes in treatment\n"
   ]
  },
  {
   "cell_type": "code",
   "execution_count": 19,
   "metadata": {},
   "outputs": [],
   "source": [
    "%%R \n",
    "#Define & run hurdle model \n",
    "zlmCond_all <- zlm(formula = ~Female + n_genes + leiden, sca=sca) # this runs the model\n",
    "summaryCond_all <- summary(zlmCond_all, doLRT=TRUE) # extracts the data, gives datatable with summary of fit, doLRT=TRUE extracts likelihood ratio test p-value\n",
    "summaryDt_all <- summaryCond_all$datatable # reformats into a table"
   ]
  },
  {
   "cell_type": "code",
   "execution_count": 20,
   "metadata": {},
   "outputs": [
    {
     "name": "stdout",
     "output_type": "stream",
     "text": [
      "       primerid component         contrast    Pr..Chisq.       ci.hi\n",
      "1 0610009B22Rik         C       FemaleTRUE  2.790238e-01  0.02581479\n",
      "2 0610009B22Rik         C  leidenActivated  4.312328e-01  0.01056834\n",
      "3 0610009B22Rik         C leidenInterferon  3.173157e-01  0.05781854\n",
      "4 0610009B22Rik         C leidenMetabolism  2.007469e-01  0.04768522\n",
      "5 0610009B22Rik         C          n_genes 1.359192e-160 -0.14035658\n",
      "6 0610009B22Rik         C      (Intercept)            NA  0.92054609\n",
      "         ci.lo         coef           z\n",
      "1 -0.007422376  0.009196208   1.0845832\n",
      "2 -0.024795586 -0.007113623  -0.7885123\n",
      "3 -0.178739232 -0.060460344  -1.0018702\n",
      "4 -0.009972459  0.018856383   1.2819742\n",
      "5 -0.159401431 -0.149879006 -30.8490154\n",
      "6  0.890599447  0.905572769 118.5368237\n"
     ]
    }
   ],
   "source": [
    "%%R\n",
    "head(summaryDt_all)"
   ]
  },
  {
   "cell_type": "code",
   "execution_count": 21,
   "metadata": {},
   "outputs": [],
   "source": [
    "%%R -o female_all\n",
    "\n",
    "# reformat for female\n",
    "result_all_Female <- merge(summaryDt_all[contrast=='FemaleTRUE' & component=='H',.(primerid, `Pr(>Chisq)`)], #P-vals\n",
    "                  summaryDt_all[contrast=='FemaleTRUE' & component=='logFC', .(primerid, coef)],\n",
    "                  by='primerid') #logFC coefficients\n",
    "#Correct for multiple testing (FDR correction) and filtering\n",
    "result_all_Female[,FDR:=p.adjust(`Pr(>Chisq)`, 'fdr')] # create column named FDR - probably that p.adjust function\n",
    "female_all = result_all_Female[result_all_Female$FDR<0.01,, drop=F] # create new table where rows with FDR<0.01 are droped\n",
    "female_all = female_all[order(female_all$FDR),] # sorts the table"
   ]
  },
  {
   "cell_type": "code",
   "execution_count": 22,
   "metadata": {},
   "outputs": [],
   "source": [
    "%%R -o MAST_raw_all\n",
    "\n",
    "MAST_raw_all <- summaryDt_all"
   ]
  },
  {
   "cell_type": "code",
   "execution_count": 23,
   "metadata": {},
   "outputs": [],
   "source": [
    "# save files as .csvs\n",
    "\n",
    "MAST_raw_all.to_csv('./write/MAST_raw_new_LT.csv')\n",
    "female_all.to_csv('./write/MAST_female_new_LT.csv')"
   ]
  },
  {
   "cell_type": "code",
   "execution_count": 24,
   "metadata": {},
   "outputs": [],
   "source": [
    "%%R\n",
    "# remove previous variables\n",
    "\n",
    "rm(zlmCond_all)\n",
    "rm(summaryDt_all)\n",
    "rm(summaryCond_all)\n",
    "rm(MAST_raw_all)"
   ]
  },
  {
   "cell_type": "code",
   "execution_count": 25,
   "metadata": {},
   "outputs": [
    {
     "name": "stdout",
     "output_type": "stream",
     "text": [
      "Package                Version            \n",
      "---------------------- -------------------\n",
      "alembic                1.3.0              \n",
      "anndata                0.7.1              \n",
      "anndata2ri             1.0.2              \n",
      "async-generator        1.10               \n",
      "attrs                  19.3.0             \n",
      "backcall               0.1.0              \n",
      "bleach                 3.1.0              \n",
      "blinker                1.4                \n",
      "certifi                2019.11.28         \n",
      "certipy                0.1.3              \n",
      "cffi                   1.13.2             \n",
      "chardet                3.0.4              \n",
      "conda                  4.7.12             \n",
      "conda-package-handling 1.6.0              \n",
      "cryptography           2.8                \n",
      "cycler                 0.10.0             \n",
      "decorator              4.4.1              \n",
      "defusedxml             0.6.0              \n",
      "entrypoints            0.3                \n",
      "get-version            2.1                \n",
      "gprofiler-official     1.0.0              \n",
      "h5py                   2.10.0             \n",
      "idna                   2.8                \n",
      "importlib-metadata     0.23               \n",
      "ipykernel              5.1.3              \n",
      "ipython                7.9.0              \n",
      "ipython-genutils       0.2.0              \n",
      "ipywidgets             7.5.1              \n",
      "jedi                   0.15.1             \n",
      "Jinja2                 2.10.3             \n",
      "joblib                 0.14.1             \n",
      "json5                  0.8.5              \n",
      "jsonschema             3.1.1              \n",
      "jupyter-client         5.3.3              \n",
      "jupyter-core           4.5.0              \n",
      "jupyterhub             1.0.0              \n",
      "jupyterlab             1.2.1              \n",
      "jupyterlab-server      1.0.6              \n",
      "kiwisolver             1.1.0              \n",
      "legacy-api-wrap        1.2                \n",
      "leidenalg              0.7.0              \n",
      "llvmlite               0.31.0             \n",
      "louvain                0.6.1              \n",
      "Mako                   1.1.0              \n",
      "MarkupSafe             1.1.1              \n",
      "matplotlib             3.2.0              \n",
      "mistune                0.8.4              \n",
      "more-itertools         7.2.0              \n",
      "natsort                7.0.1              \n",
      "nbconvert              5.6.1              \n",
      "nbformat               4.4.0              \n",
      "networkx               2.4                \n",
      "notebook               6.0.0              \n",
      "numba                  0.48.0             \n",
      "numexpr                2.7.1              \n",
      "numpy                  1.17.3             \n",
      "oauthlib               3.0.1              \n",
      "packaging              20.3               \n",
      "pamela                 1.0.0              \n",
      "pandas                 0.25.3             \n",
      "pandocfilters          1.4.2              \n",
      "parso                  0.5.1              \n",
      "patsy                  0.5.1              \n",
      "pexpect                4.7.0              \n",
      "pickleshare            0.7.5              \n",
      "pip                    19.3.1             \n",
      "pluggy                 0.13.1             \n",
      "prometheus-client      0.7.1              \n",
      "prompt-toolkit         2.0.10             \n",
      "ptyprocess             0.6.0              \n",
      "py                     1.8.1              \n",
      "pycairo                1.18.2             \n",
      "pycosat                0.6.3              \n",
      "pycparser              2.19               \n",
      "pycurl                 7.43.0.3           \n",
      "Pygments               2.4.2              \n",
      "PyJWT                  1.7.1              \n",
      "pyOpenSSL              19.0.0             \n",
      "pyparsing              2.4.6              \n",
      "pyrsistent             0.15.5             \n",
      "PySocks                1.7.1              \n",
      "pytest                 5.3.5              \n",
      "python-dateutil        2.8.1              \n",
      "python-editor          1.0.4              \n",
      "python-igraph          0.7.1.post7        \n",
      "pytz                   2019.3             \n",
      "pyzmq                  18.1.0             \n",
      "requests               2.22.0             \n",
      "rpy2                   3.2.6              \n",
      "ruamel-yaml            0.15.71            \n",
      "scanpy                 1.4.5.1            \n",
      "scikit-learn           0.22.2.post1       \n",
      "scipy                  1.3.0              \n",
      "seaborn                0.10.0             \n",
      "Send2Trash             1.5.0              \n",
      "setuptools             41.6.0.post20191101\n",
      "setuptools-scm         3.5.0              \n",
      "simplegeneric          0.8.1              \n",
      "six                    1.13.0             \n",
      "SQLAlchemy             1.3.10             \n",
      "statsmodels            0.10.0             \n",
      "tables                 3.6.1              \n",
      "terminado              0.8.2              \n",
      "testpath               0.4.4              \n",
      "tornado                6.0.3              \n",
      "tqdm                   4.37.0             \n",
      "traitlets              4.3.3              \n",
      "tzlocal                2.0.0              \n",
      "umap-learn             0.3.10             \n",
      "UpSetPlot              0.3.0.post3        \n",
      "urllib3                1.25.6             \n",
      "wcwidth                0.1.7              \n",
      "webencodings           0.5.1              \n",
      "wheel                  0.33.6             \n",
      "widgetsnbextension     3.5.1              \n",
      "zipp                   0.6.0              \n"
     ]
    }
   ],
   "source": [
    "!pip list"
   ]
  },
  {
   "cell_type": "code",
   "execution_count": null,
   "metadata": {},
   "outputs": [],
   "source": []
  },
  {
   "cell_type": "code",
   "execution_count": null,
   "metadata": {},
   "outputs": [],
   "source": []
  }
 ],
 "metadata": {
  "kernelspec": {
   "display_name": "Python 3",
   "language": "python",
   "name": "python3"
  },
  "language_info": {
   "codemirror_mode": {
    "name": "ipython",
    "version": 3
   },
   "file_extension": ".py",
   "mimetype": "text/x-python",
   "name": "python",
   "nbconvert_exporter": "python",
   "pygments_lexer": "ipython3",
   "version": "3.7.3"
  }
 },
 "nbformat": 4,
 "nbformat_minor": 4
}
